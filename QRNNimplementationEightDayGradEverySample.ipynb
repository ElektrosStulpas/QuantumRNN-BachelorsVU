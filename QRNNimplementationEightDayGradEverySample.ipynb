{
  "nbformat": 4,
  "nbformat_minor": 0,
  "metadata": {
    "colab": {
      "provenance": [],
      "authorship_tag": "ABX9TyMxiSS2lHH7yiPQ+rB+kYUO",
      "include_colab_link": true
    },
    "kernelspec": {
      "name": "python3",
      "display_name": "Python 3"
    },
    "language_info": {
      "name": "python"
    }
  },
  "cells": [
    {
      "cell_type": "markdown",
      "metadata": {
        "id": "view-in-github",
        "colab_type": "text"
      },
      "source": [
        "<a href=\"https://colab.research.google.com/github/ElektrosStulpas/QuantumRNN-BachelorsVU/blob/main/QRNNimplementationEightDayGradEverySample.ipynb\" target=\"_parent\"><img src=\"https://colab.research.google.com/assets/colab-badge.svg\" alt=\"Open In Colab\"/></a>"
      ]
    },
    {
      "cell_type": "markdown",
      "source": [
        "Install and import needed libraries"
      ],
      "metadata": {
        "id": "Lyk_e185DnkB"
      }
    },
    {
      "cell_type": "code",
      "execution_count": null,
      "metadata": {
        "id": "oUfGmKr1yQFz"
      },
      "outputs": [],
      "source": [
        "!pip install qiskit[visualization]"
      ]
    },
    {
      "cell_type": "code",
      "source": [
        "from google.colab import drive\n",
        "import pandas as pd\n",
        "import os\n",
        "import yfinance as yf\n",
        "import random\n",
        "from qiskit import QuantumCircuit\n",
        "import qiskit.quantum_info as qi\n",
        "import numpy as np\n",
        "import matplotlib.pyplot as plt"
      ],
      "metadata": {
        "id": "uK8jnePN3-j9"
      },
      "execution_count": null,
      "outputs": []
    },
    {
      "cell_type": "markdown",
      "source": [
        "Interaction with google drive and loading stock data"
      ],
      "metadata": {
        "id": "uHczElmv35Xc"
      }
    },
    {
      "cell_type": "code",
      "source": [
        "def connect_google_drive():\n",
        "  drive.mount('/content/drive')\n",
        "\n",
        "def save_and_disconnect_google_drive():\n",
        "  drive.flush_and_unmount()"
      ],
      "metadata": {
        "id": "c8IZmG2bNvof"
      },
      "execution_count": null,
      "outputs": []
    },
    {
      "cell_type": "code",
      "source": [
        "ROOT_PATH = \"/content/drive/MyDrive/QRNNData\"\n",
        "STOCK_DATA_FOLDER = \"StockData\"\n",
        "\n",
        "def save_stock_data_to_drive(df, data_file_name):\n",
        "  df.to_csv(os.path.join(ROOT_PATH, STOCK_DATA_FOLDER, data_file_name))\n",
        "\n",
        "def load_stock_data_from_drive(data_file_name):\n",
        "  data_frame = pd.read_csv(os.path.join(ROOT_PATH, STOCK_DATA_FOLDER, data_file_name))\n",
        "  return data_frame\n",
        "\n",
        "def load_stock_data_from_yahoo_finance(ticker, interval=\"1d\", period=\"1y\"):\n",
        "  data_frame = yf.download(ticker, period=period, interval=interval)\n",
        "  return data_frame"
      ],
      "metadata": {
        "id": "0MowPchrN87t"
      },
      "execution_count": null,
      "outputs": []
    },
    {
      "cell_type": "code",
      "source": [
        "#Functions to save and load params (np.array) from and to drive\n",
        "PARAMS_FOLDER = \"Params\"\n",
        "\n",
        "def save_params_to_drive(params_to_save, model_type, ticker, metric, epochs_num):\n",
        "  np.save(os.path.join(ROOT_PATH, PARAMS_FOLDER, f\"{model_type}_{ticker}_{metric}_{epochs_num}epochs_params\"), params_to_save)\n",
        "\n",
        "def load_params_from_drive(file_name):\n",
        "  return np.load(os.path.join(ROOT_PATH, PARAMS_FOLDER, file_name))"
      ],
      "metadata": {
        "id": "e4B5nnzlv340"
      },
      "execution_count": null,
      "outputs": []
    },
    {
      "cell_type": "code",
      "source": [
        "connect_google_drive()"
      ],
      "metadata": {
        "colab": {
          "base_uri": "https://localhost:8080/"
        },
        "id": "NFOqD87v6yIp",
        "outputId": "65a1cd79-8f57-488b-ab26-137204c32082"
      },
      "execution_count": null,
      "outputs": [
        {
          "output_type": "stream",
          "name": "stdout",
          "text": [
            "Drive already mounted at /content/drive; to attempt to forcibly remount, call drive.mount(\"/content/drive\", force_remount=True).\n"
          ]
        }
      ]
    },
    {
      "cell_type": "code",
      "source": [
        "#Run this once to download the stock data and save to drive for reproducible testing\n",
        "\n",
        "# BKNG_data = load_stock_data_from_yahoo_finance(\"BKNG\")\n",
        "# SPY_data = load_stock_data_from_yahoo_finance(\"SPY\")\n",
        "# TUP_data = load_stock_data_from_yahoo_finance(\"TUP\")\n",
        "\n",
        "# save_stock_data_to_drive(BKNG_data, \"BKNG_data.csv\")\n",
        "# save_stock_data_to_drive(SPY_data, \"SPY_data.csv\")\n",
        "# save_stock_data_to_drive(TUP_data, \"TUP_data.csv\")"
      ],
      "metadata": {
        "id": "jx9reZJUvVtI"
      },
      "execution_count": null,
      "outputs": []
    },
    {
      "cell_type": "code",
      "source": [
        "BKNG_data = load_stock_data_from_drive(\"BKNG_data.csv\")\n",
        "SPY_data = load_stock_data_from_drive(\"SPY_data.csv\")\n",
        "TUP_data = load_stock_data_from_drive(\"TUP_data.csv\")"
      ],
      "metadata": {
        "id": "EOPagFtMyB85"
      },
      "execution_count": null,
      "outputs": []
    },
    {
      "cell_type": "code",
      "source": [
        "BKNG_data.index = BKNG_data[\"Date\"]\n",
        "BKNG_data.head()"
      ],
      "metadata": {
        "colab": {
          "base_uri": "https://localhost:8080/",
          "height": 255
        },
        "id": "FdX4KVRIaJUV",
        "outputId": "d4a2f898-dabf-4eb5-e2f8-2c8614dccba8"
      },
      "execution_count": null,
      "outputs": [
        {
          "output_type": "stream",
          "name": "stdout",
          "text": [
            "\r[*********************100%***********************]  1 of 1 completed\n"
          ]
        },
        {
          "output_type": "execute_result",
          "data": {
            "text/plain": [
              "                   Open         High          Low        Close    Adj Close  \\\n",
              "Date                                                                          \n",
              "2022-05-13  2104.300049  2124.989990  2072.209961  2101.889893  2101.889893   \n",
              "2022-05-16  2086.110107  2094.590088  2033.609985  2046.010010  2046.010010   \n",
              "2022-05-17  2125.000000  2161.000000  2109.860107  2146.590088  2146.590088   \n",
              "2022-05-18  2120.000000  2134.060059  2042.000000  2050.379883  2050.379883   \n",
              "2022-05-19  2059.620117  2142.429932  2042.579956  2103.399902  2103.399902   \n",
              "\n",
              "            Volume  \n",
              "Date                \n",
              "2022-05-13  301900  \n",
              "2022-05-16  289300  \n",
              "2022-05-17  407100  \n",
              "2022-05-18  360500  \n",
              "2022-05-19  387200  "
            ],
            "text/html": [
              "\n",
              "  <div id=\"df-db0149ea-e0b2-4546-9bea-f63ec32f76ce\">\n",
              "    <div class=\"colab-df-container\">\n",
              "      <div>\n",
              "<style scoped>\n",
              "    .dataframe tbody tr th:only-of-type {\n",
              "        vertical-align: middle;\n",
              "    }\n",
              "\n",
              "    .dataframe tbody tr th {\n",
              "        vertical-align: top;\n",
              "    }\n",
              "\n",
              "    .dataframe thead th {\n",
              "        text-align: right;\n",
              "    }\n",
              "</style>\n",
              "<table border=\"1\" class=\"dataframe\">\n",
              "  <thead>\n",
              "    <tr style=\"text-align: right;\">\n",
              "      <th></th>\n",
              "      <th>Open</th>\n",
              "      <th>High</th>\n",
              "      <th>Low</th>\n",
              "      <th>Close</th>\n",
              "      <th>Adj Close</th>\n",
              "      <th>Volume</th>\n",
              "    </tr>\n",
              "    <tr>\n",
              "      <th>Date</th>\n",
              "      <th></th>\n",
              "      <th></th>\n",
              "      <th></th>\n",
              "      <th></th>\n",
              "      <th></th>\n",
              "      <th></th>\n",
              "    </tr>\n",
              "  </thead>\n",
              "  <tbody>\n",
              "    <tr>\n",
              "      <th>2022-05-13</th>\n",
              "      <td>2104.300049</td>\n",
              "      <td>2124.989990</td>\n",
              "      <td>2072.209961</td>\n",
              "      <td>2101.889893</td>\n",
              "      <td>2101.889893</td>\n",
              "      <td>301900</td>\n",
              "    </tr>\n",
              "    <tr>\n",
              "      <th>2022-05-16</th>\n",
              "      <td>2086.110107</td>\n",
              "      <td>2094.590088</td>\n",
              "      <td>2033.609985</td>\n",
              "      <td>2046.010010</td>\n",
              "      <td>2046.010010</td>\n",
              "      <td>289300</td>\n",
              "    </tr>\n",
              "    <tr>\n",
              "      <th>2022-05-17</th>\n",
              "      <td>2125.000000</td>\n",
              "      <td>2161.000000</td>\n",
              "      <td>2109.860107</td>\n",
              "      <td>2146.590088</td>\n",
              "      <td>2146.590088</td>\n",
              "      <td>407100</td>\n",
              "    </tr>\n",
              "    <tr>\n",
              "      <th>2022-05-18</th>\n",
              "      <td>2120.000000</td>\n",
              "      <td>2134.060059</td>\n",
              "      <td>2042.000000</td>\n",
              "      <td>2050.379883</td>\n",
              "      <td>2050.379883</td>\n",
              "      <td>360500</td>\n",
              "    </tr>\n",
              "    <tr>\n",
              "      <th>2022-05-19</th>\n",
              "      <td>2059.620117</td>\n",
              "      <td>2142.429932</td>\n",
              "      <td>2042.579956</td>\n",
              "      <td>2103.399902</td>\n",
              "      <td>2103.399902</td>\n",
              "      <td>387200</td>\n",
              "    </tr>\n",
              "  </tbody>\n",
              "</table>\n",
              "</div>\n",
              "      <button class=\"colab-df-convert\" onclick=\"convertToInteractive('df-db0149ea-e0b2-4546-9bea-f63ec32f76ce')\"\n",
              "              title=\"Convert this dataframe to an interactive table.\"\n",
              "              style=\"display:none;\">\n",
              "        \n",
              "  <svg xmlns=\"http://www.w3.org/2000/svg\" height=\"24px\"viewBox=\"0 0 24 24\"\n",
              "       width=\"24px\">\n",
              "    <path d=\"M0 0h24v24H0V0z\" fill=\"none\"/>\n",
              "    <path d=\"M18.56 5.44l.94 2.06.94-2.06 2.06-.94-2.06-.94-.94-2.06-.94 2.06-2.06.94zm-11 1L8.5 8.5l.94-2.06 2.06-.94-2.06-.94L8.5 2.5l-.94 2.06-2.06.94zm10 10l.94 2.06.94-2.06 2.06-.94-2.06-.94-.94-2.06-.94 2.06-2.06.94z\"/><path d=\"M17.41 7.96l-1.37-1.37c-.4-.4-.92-.59-1.43-.59-.52 0-1.04.2-1.43.59L10.3 9.45l-7.72 7.72c-.78.78-.78 2.05 0 2.83L4 21.41c.39.39.9.59 1.41.59.51 0 1.02-.2 1.41-.59l7.78-7.78 2.81-2.81c.8-.78.8-2.07 0-2.86zM5.41 20L4 18.59l7.72-7.72 1.47 1.35L5.41 20z\"/>\n",
              "  </svg>\n",
              "      </button>\n",
              "      \n",
              "  <style>\n",
              "    .colab-df-container {\n",
              "      display:flex;\n",
              "      flex-wrap:wrap;\n",
              "      gap: 12px;\n",
              "    }\n",
              "\n",
              "    .colab-df-convert {\n",
              "      background-color: #E8F0FE;\n",
              "      border: none;\n",
              "      border-radius: 50%;\n",
              "      cursor: pointer;\n",
              "      display: none;\n",
              "      fill: #1967D2;\n",
              "      height: 32px;\n",
              "      padding: 0 0 0 0;\n",
              "      width: 32px;\n",
              "    }\n",
              "\n",
              "    .colab-df-convert:hover {\n",
              "      background-color: #E2EBFA;\n",
              "      box-shadow: 0px 1px 2px rgba(60, 64, 67, 0.3), 0px 1px 3px 1px rgba(60, 64, 67, 0.15);\n",
              "      fill: #174EA6;\n",
              "    }\n",
              "\n",
              "    [theme=dark] .colab-df-convert {\n",
              "      background-color: #3B4455;\n",
              "      fill: #D2E3FC;\n",
              "    }\n",
              "\n",
              "    [theme=dark] .colab-df-convert:hover {\n",
              "      background-color: #434B5C;\n",
              "      box-shadow: 0px 1px 3px 1px rgba(0, 0, 0, 0.15);\n",
              "      filter: drop-shadow(0px 1px 2px rgba(0, 0, 0, 0.3));\n",
              "      fill: #FFFFFF;\n",
              "    }\n",
              "  </style>\n",
              "\n",
              "      <script>\n",
              "        const buttonEl =\n",
              "          document.querySelector('#df-db0149ea-e0b2-4546-9bea-f63ec32f76ce button.colab-df-convert');\n",
              "        buttonEl.style.display =\n",
              "          google.colab.kernel.accessAllowed ? 'block' : 'none';\n",
              "\n",
              "        async function convertToInteractive(key) {\n",
              "          const element = document.querySelector('#df-db0149ea-e0b2-4546-9bea-f63ec32f76ce');\n",
              "          const dataTable =\n",
              "            await google.colab.kernel.invokeFunction('convertToInteractive',\n",
              "                                                     [key], {});\n",
              "          if (!dataTable) return;\n",
              "\n",
              "          const docLinkHtml = 'Like what you see? Visit the ' +\n",
              "            '<a target=\"_blank\" href=https://colab.research.google.com/notebooks/data_table.ipynb>data table notebook</a>'\n",
              "            + ' to learn more about interactive tables.';\n",
              "          element.innerHTML = '';\n",
              "          dataTable['output_type'] = 'display_data';\n",
              "          await google.colab.output.renderOutput(dataTable, element);\n",
              "          const docLink = document.createElement('div');\n",
              "          docLink.innerHTML = docLinkHtml;\n",
              "          element.appendChild(docLink);\n",
              "        }\n",
              "      </script>\n",
              "    </div>\n",
              "  </div>\n",
              "  "
            ]
          },
          "metadata": {},
          "execution_count": 68
        }
      ]
    },
    {
      "cell_type": "code",
      "source": [
        "SPY_data.index = SPY_data[\"Date\"]\n",
        "SPY_data.head()"
      ],
      "metadata": {
        "colab": {
          "base_uri": "https://localhost:8080/",
          "height": 238
        },
        "id": "nBBYiVWxyiHc",
        "outputId": "f46d69a1-674d-45c5-bc57-5e2070d6da1a"
      },
      "execution_count": null,
      "outputs": [
        {
          "output_type": "execute_result",
          "data": {
            "text/plain": [
              "                  Date        Open        High         Low       Close  \\\n",
              "Date                                                                     \n",
              "2022-05-13  2022-05-13  396.709991  403.179993  395.609985  401.720001   \n",
              "2022-05-16  2022-05-16  399.980011  403.970001  397.600006  400.089996   \n",
              "2022-05-17  2022-05-17  406.529999  408.570007  402.579987  408.320007   \n",
              "2022-05-18  2022-05-18  403.500000  403.799988  390.549988  391.859985   \n",
              "2022-05-19  2022-05-19  388.619995  394.140015  387.109985  389.459991   \n",
              "\n",
              "             Adj Close     Volume  \n",
              "Date                               \n",
              "2022-05-13  395.027252  104174400  \n",
              "2022-05-16  393.424408   78622400  \n",
              "2022-05-17  401.517303   83029700  \n",
              "2022-05-18  385.331512  117674500  \n",
              "2022-05-19  382.971497   98510700  "
            ],
            "text/html": [
              "\n",
              "  <div id=\"df-9789ef45-96bb-4fbe-a6d7-f65f077815e0\">\n",
              "    <div class=\"colab-df-container\">\n",
              "      <div>\n",
              "<style scoped>\n",
              "    .dataframe tbody tr th:only-of-type {\n",
              "        vertical-align: middle;\n",
              "    }\n",
              "\n",
              "    .dataframe tbody tr th {\n",
              "        vertical-align: top;\n",
              "    }\n",
              "\n",
              "    .dataframe thead th {\n",
              "        text-align: right;\n",
              "    }\n",
              "</style>\n",
              "<table border=\"1\" class=\"dataframe\">\n",
              "  <thead>\n",
              "    <tr style=\"text-align: right;\">\n",
              "      <th></th>\n",
              "      <th>Date</th>\n",
              "      <th>Open</th>\n",
              "      <th>High</th>\n",
              "      <th>Low</th>\n",
              "      <th>Close</th>\n",
              "      <th>Adj Close</th>\n",
              "      <th>Volume</th>\n",
              "    </tr>\n",
              "    <tr>\n",
              "      <th>Date</th>\n",
              "      <th></th>\n",
              "      <th></th>\n",
              "      <th></th>\n",
              "      <th></th>\n",
              "      <th></th>\n",
              "      <th></th>\n",
              "      <th></th>\n",
              "    </tr>\n",
              "  </thead>\n",
              "  <tbody>\n",
              "    <tr>\n",
              "      <th>2022-05-13</th>\n",
              "      <td>2022-05-13</td>\n",
              "      <td>396.709991</td>\n",
              "      <td>403.179993</td>\n",
              "      <td>395.609985</td>\n",
              "      <td>401.720001</td>\n",
              "      <td>395.027252</td>\n",
              "      <td>104174400</td>\n",
              "    </tr>\n",
              "    <tr>\n",
              "      <th>2022-05-16</th>\n",
              "      <td>2022-05-16</td>\n",
              "      <td>399.980011</td>\n",
              "      <td>403.970001</td>\n",
              "      <td>397.600006</td>\n",
              "      <td>400.089996</td>\n",
              "      <td>393.424408</td>\n",
              "      <td>78622400</td>\n",
              "    </tr>\n",
              "    <tr>\n",
              "      <th>2022-05-17</th>\n",
              "      <td>2022-05-17</td>\n",
              "      <td>406.529999</td>\n",
              "      <td>408.570007</td>\n",
              "      <td>402.579987</td>\n",
              "      <td>408.320007</td>\n",
              "      <td>401.517303</td>\n",
              "      <td>83029700</td>\n",
              "    </tr>\n",
              "    <tr>\n",
              "      <th>2022-05-18</th>\n",
              "      <td>2022-05-18</td>\n",
              "      <td>403.500000</td>\n",
              "      <td>403.799988</td>\n",
              "      <td>390.549988</td>\n",
              "      <td>391.859985</td>\n",
              "      <td>385.331512</td>\n",
              "      <td>117674500</td>\n",
              "    </tr>\n",
              "    <tr>\n",
              "      <th>2022-05-19</th>\n",
              "      <td>2022-05-19</td>\n",
              "      <td>388.619995</td>\n",
              "      <td>394.140015</td>\n",
              "      <td>387.109985</td>\n",
              "      <td>389.459991</td>\n",
              "      <td>382.971497</td>\n",
              "      <td>98510700</td>\n",
              "    </tr>\n",
              "  </tbody>\n",
              "</table>\n",
              "</div>\n",
              "      <button class=\"colab-df-convert\" onclick=\"convertToInteractive('df-9789ef45-96bb-4fbe-a6d7-f65f077815e0')\"\n",
              "              title=\"Convert this dataframe to an interactive table.\"\n",
              "              style=\"display:none;\">\n",
              "        \n",
              "  <svg xmlns=\"http://www.w3.org/2000/svg\" height=\"24px\"viewBox=\"0 0 24 24\"\n",
              "       width=\"24px\">\n",
              "    <path d=\"M0 0h24v24H0V0z\" fill=\"none\"/>\n",
              "    <path d=\"M18.56 5.44l.94 2.06.94-2.06 2.06-.94-2.06-.94-.94-2.06-.94 2.06-2.06.94zm-11 1L8.5 8.5l.94-2.06 2.06-.94-2.06-.94L8.5 2.5l-.94 2.06-2.06.94zm10 10l.94 2.06.94-2.06 2.06-.94-2.06-.94-.94-2.06-.94 2.06-2.06.94z\"/><path d=\"M17.41 7.96l-1.37-1.37c-.4-.4-.92-.59-1.43-.59-.52 0-1.04.2-1.43.59L10.3 9.45l-7.72 7.72c-.78.78-.78 2.05 0 2.83L4 21.41c.39.39.9.59 1.41.59.51 0 1.02-.2 1.41-.59l7.78-7.78 2.81-2.81c.8-.78.8-2.07 0-2.86zM5.41 20L4 18.59l7.72-7.72 1.47 1.35L5.41 20z\"/>\n",
              "  </svg>\n",
              "      </button>\n",
              "      \n",
              "  <style>\n",
              "    .colab-df-container {\n",
              "      display:flex;\n",
              "      flex-wrap:wrap;\n",
              "      gap: 12px;\n",
              "    }\n",
              "\n",
              "    .colab-df-convert {\n",
              "      background-color: #E8F0FE;\n",
              "      border: none;\n",
              "      border-radius: 50%;\n",
              "      cursor: pointer;\n",
              "      display: none;\n",
              "      fill: #1967D2;\n",
              "      height: 32px;\n",
              "      padding: 0 0 0 0;\n",
              "      width: 32px;\n",
              "    }\n",
              "\n",
              "    .colab-df-convert:hover {\n",
              "      background-color: #E2EBFA;\n",
              "      box-shadow: 0px 1px 2px rgba(60, 64, 67, 0.3), 0px 1px 3px 1px rgba(60, 64, 67, 0.15);\n",
              "      fill: #174EA6;\n",
              "    }\n",
              "\n",
              "    [theme=dark] .colab-df-convert {\n",
              "      background-color: #3B4455;\n",
              "      fill: #D2E3FC;\n",
              "    }\n",
              "\n",
              "    [theme=dark] .colab-df-convert:hover {\n",
              "      background-color: #434B5C;\n",
              "      box-shadow: 0px 1px 3px 1px rgba(0, 0, 0, 0.15);\n",
              "      filter: drop-shadow(0px 1px 2px rgba(0, 0, 0, 0.3));\n",
              "      fill: #FFFFFF;\n",
              "    }\n",
              "  </style>\n",
              "\n",
              "      <script>\n",
              "        const buttonEl =\n",
              "          document.querySelector('#df-9789ef45-96bb-4fbe-a6d7-f65f077815e0 button.colab-df-convert');\n",
              "        buttonEl.style.display =\n",
              "          google.colab.kernel.accessAllowed ? 'block' : 'none';\n",
              "\n",
              "        async function convertToInteractive(key) {\n",
              "          const element = document.querySelector('#df-9789ef45-96bb-4fbe-a6d7-f65f077815e0');\n",
              "          const dataTable =\n",
              "            await google.colab.kernel.invokeFunction('convertToInteractive',\n",
              "                                                     [key], {});\n",
              "          if (!dataTable) return;\n",
              "\n",
              "          const docLinkHtml = 'Like what you see? Visit the ' +\n",
              "            '<a target=\"_blank\" href=https://colab.research.google.com/notebooks/data_table.ipynb>data table notebook</a>'\n",
              "            + ' to learn more about interactive tables.';\n",
              "          element.innerHTML = '';\n",
              "          dataTable['output_type'] = 'display_data';\n",
              "          await google.colab.output.renderOutput(dataTable, element);\n",
              "          const docLink = document.createElement('div');\n",
              "          docLink.innerHTML = docLinkHtml;\n",
              "          element.appendChild(docLink);\n",
              "        }\n",
              "      </script>\n",
              "    </div>\n",
              "  </div>\n",
              "  "
            ]
          },
          "metadata": {},
          "execution_count": 69
        }
      ]
    },
    {
      "cell_type": "code",
      "source": [
        "TUP_data.index = TUP_data[\"Date\"]\n",
        "TUP_data.head()"
      ],
      "metadata": {
        "colab": {
          "base_uri": "https://localhost:8080/",
          "height": 238
        },
        "id": "2iQEEVpB6pzx",
        "outputId": "7787d339-5744-4dc7-a02d-ad27b9046fb0"
      },
      "execution_count": null,
      "outputs": [
        {
          "output_type": "execute_result",
          "data": {
            "text/plain": [
              "                  Date  Open  High   Low  Close  Adj Close   Volume\n",
              "Date                                                               \n",
              "2022-05-13  2022-05-13  6.95  7.52  6.92   7.24       7.24  2445500\n",
              "2022-05-16  2022-05-16  7.25  7.35  6.75   6.86       6.86  1957200\n",
              "2022-05-17  2022-05-17  7.01  7.21  6.86   7.10       7.10  1573700\n",
              "2022-05-18  2022-05-18  7.00  7.00  6.25   6.33       6.33  2839700\n",
              "2022-05-19  2022-05-19  6.25  6.36  5.98   6.16       6.16  1898400"
            ],
            "text/html": [
              "\n",
              "  <div id=\"df-891728d7-3b21-426a-9f16-0d6701b67b1d\">\n",
              "    <div class=\"colab-df-container\">\n",
              "      <div>\n",
              "<style scoped>\n",
              "    .dataframe tbody tr th:only-of-type {\n",
              "        vertical-align: middle;\n",
              "    }\n",
              "\n",
              "    .dataframe tbody tr th {\n",
              "        vertical-align: top;\n",
              "    }\n",
              "\n",
              "    .dataframe thead th {\n",
              "        text-align: right;\n",
              "    }\n",
              "</style>\n",
              "<table border=\"1\" class=\"dataframe\">\n",
              "  <thead>\n",
              "    <tr style=\"text-align: right;\">\n",
              "      <th></th>\n",
              "      <th>Date</th>\n",
              "      <th>Open</th>\n",
              "      <th>High</th>\n",
              "      <th>Low</th>\n",
              "      <th>Close</th>\n",
              "      <th>Adj Close</th>\n",
              "      <th>Volume</th>\n",
              "    </tr>\n",
              "    <tr>\n",
              "      <th>Date</th>\n",
              "      <th></th>\n",
              "      <th></th>\n",
              "      <th></th>\n",
              "      <th></th>\n",
              "      <th></th>\n",
              "      <th></th>\n",
              "      <th></th>\n",
              "    </tr>\n",
              "  </thead>\n",
              "  <tbody>\n",
              "    <tr>\n",
              "      <th>2022-05-13</th>\n",
              "      <td>2022-05-13</td>\n",
              "      <td>6.95</td>\n",
              "      <td>7.52</td>\n",
              "      <td>6.92</td>\n",
              "      <td>7.24</td>\n",
              "      <td>7.24</td>\n",
              "      <td>2445500</td>\n",
              "    </tr>\n",
              "    <tr>\n",
              "      <th>2022-05-16</th>\n",
              "      <td>2022-05-16</td>\n",
              "      <td>7.25</td>\n",
              "      <td>7.35</td>\n",
              "      <td>6.75</td>\n",
              "      <td>6.86</td>\n",
              "      <td>6.86</td>\n",
              "      <td>1957200</td>\n",
              "    </tr>\n",
              "    <tr>\n",
              "      <th>2022-05-17</th>\n",
              "      <td>2022-05-17</td>\n",
              "      <td>7.01</td>\n",
              "      <td>7.21</td>\n",
              "      <td>6.86</td>\n",
              "      <td>7.10</td>\n",
              "      <td>7.10</td>\n",
              "      <td>1573700</td>\n",
              "    </tr>\n",
              "    <tr>\n",
              "      <th>2022-05-18</th>\n",
              "      <td>2022-05-18</td>\n",
              "      <td>7.00</td>\n",
              "      <td>7.00</td>\n",
              "      <td>6.25</td>\n",
              "      <td>6.33</td>\n",
              "      <td>6.33</td>\n",
              "      <td>2839700</td>\n",
              "    </tr>\n",
              "    <tr>\n",
              "      <th>2022-05-19</th>\n",
              "      <td>2022-05-19</td>\n",
              "      <td>6.25</td>\n",
              "      <td>6.36</td>\n",
              "      <td>5.98</td>\n",
              "      <td>6.16</td>\n",
              "      <td>6.16</td>\n",
              "      <td>1898400</td>\n",
              "    </tr>\n",
              "  </tbody>\n",
              "</table>\n",
              "</div>\n",
              "      <button class=\"colab-df-convert\" onclick=\"convertToInteractive('df-891728d7-3b21-426a-9f16-0d6701b67b1d')\"\n",
              "              title=\"Convert this dataframe to an interactive table.\"\n",
              "              style=\"display:none;\">\n",
              "        \n",
              "  <svg xmlns=\"http://www.w3.org/2000/svg\" height=\"24px\"viewBox=\"0 0 24 24\"\n",
              "       width=\"24px\">\n",
              "    <path d=\"M0 0h24v24H0V0z\" fill=\"none\"/>\n",
              "    <path d=\"M18.56 5.44l.94 2.06.94-2.06 2.06-.94-2.06-.94-.94-2.06-.94 2.06-2.06.94zm-11 1L8.5 8.5l.94-2.06 2.06-.94-2.06-.94L8.5 2.5l-.94 2.06-2.06.94zm10 10l.94 2.06.94-2.06 2.06-.94-2.06-.94-.94-2.06-.94 2.06-2.06.94z\"/><path d=\"M17.41 7.96l-1.37-1.37c-.4-.4-.92-.59-1.43-.59-.52 0-1.04.2-1.43.59L10.3 9.45l-7.72 7.72c-.78.78-.78 2.05 0 2.83L4 21.41c.39.39.9.59 1.41.59.51 0 1.02-.2 1.41-.59l7.78-7.78 2.81-2.81c.8-.78.8-2.07 0-2.86zM5.41 20L4 18.59l7.72-7.72 1.47 1.35L5.41 20z\"/>\n",
              "  </svg>\n",
              "      </button>\n",
              "      \n",
              "  <style>\n",
              "    .colab-df-container {\n",
              "      display:flex;\n",
              "      flex-wrap:wrap;\n",
              "      gap: 12px;\n",
              "    }\n",
              "\n",
              "    .colab-df-convert {\n",
              "      background-color: #E8F0FE;\n",
              "      border: none;\n",
              "      border-radius: 50%;\n",
              "      cursor: pointer;\n",
              "      display: none;\n",
              "      fill: #1967D2;\n",
              "      height: 32px;\n",
              "      padding: 0 0 0 0;\n",
              "      width: 32px;\n",
              "    }\n",
              "\n",
              "    .colab-df-convert:hover {\n",
              "      background-color: #E2EBFA;\n",
              "      box-shadow: 0px 1px 2px rgba(60, 64, 67, 0.3), 0px 1px 3px 1px rgba(60, 64, 67, 0.15);\n",
              "      fill: #174EA6;\n",
              "    }\n",
              "\n",
              "    [theme=dark] .colab-df-convert {\n",
              "      background-color: #3B4455;\n",
              "      fill: #D2E3FC;\n",
              "    }\n",
              "\n",
              "    [theme=dark] .colab-df-convert:hover {\n",
              "      background-color: #434B5C;\n",
              "      box-shadow: 0px 1px 3px 1px rgba(0, 0, 0, 0.15);\n",
              "      filter: drop-shadow(0px 1px 2px rgba(0, 0, 0, 0.3));\n",
              "      fill: #FFFFFF;\n",
              "    }\n",
              "  </style>\n",
              "\n",
              "      <script>\n",
              "        const buttonEl =\n",
              "          document.querySelector('#df-891728d7-3b21-426a-9f16-0d6701b67b1d button.colab-df-convert');\n",
              "        buttonEl.style.display =\n",
              "          google.colab.kernel.accessAllowed ? 'block' : 'none';\n",
              "\n",
              "        async function convertToInteractive(key) {\n",
              "          const element = document.querySelector('#df-891728d7-3b21-426a-9f16-0d6701b67b1d');\n",
              "          const dataTable =\n",
              "            await google.colab.kernel.invokeFunction('convertToInteractive',\n",
              "                                                     [key], {});\n",
              "          if (!dataTable) return;\n",
              "\n",
              "          const docLinkHtml = 'Like what you see? Visit the ' +\n",
              "            '<a target=\"_blank\" href=https://colab.research.google.com/notebooks/data_table.ipynb>data table notebook</a>'\n",
              "            + ' to learn more about interactive tables.';\n",
              "          element.innerHTML = '';\n",
              "          dataTable['output_type'] = 'display_data';\n",
              "          await google.colab.output.renderOutput(dataTable, element);\n",
              "          const docLink = document.createElement('div');\n",
              "          docLink.innerHTML = docLinkHtml;\n",
              "          element.appendChild(docLink);\n",
              "        }\n",
              "      </script>\n",
              "    </div>\n",
              "  </div>\n",
              "  "
            ]
          },
          "metadata": {},
          "execution_count": 71
        }
      ]
    },
    {
      "cell_type": "markdown",
      "source": [
        "Data preparation"
      ],
      "metadata": {
        "id": "VdSx3Sb5kJ61"
      }
    },
    {
      "cell_type": "code",
      "source": [
        "#data normalization\n",
        "def rescale_data(data, new_scale_from, new_scale_to):\n",
        "  #GENERAL NORMALIZATION FORMULA from https://stats.stackexchange.com/questions/178626/how-to-normalize-data-between-1-and-1\n",
        "  rescaled_x = (new_scale_to-new_scale_from) * ((data - DATA_MAXMIN[1]) / ( DATA_MAXMIN[0] - DATA_MAXMIN[1])) + new_scale_from\n",
        "\n",
        "  return rescaled_x"
      ],
      "metadata": {
        "id": "bGUsy0NhN5b9"
      },
      "execution_count": null,
      "outputs": []
    },
    {
      "cell_type": "code",
      "source": [
        "def calculate_data_range(data_array):\n",
        "  return max(data_array), min(data_array)\n",
        "\n",
        "def generate_datasets(df_column, train_len, valid_len, sequence_size=7):\n",
        "  valid_len = train_len + valid_len # since valid len is used as the upper bound\n",
        "\n",
        "  inputs_TRAIN = rescale_data(df_column, -1, 1)[:train_len]\n",
        "  # inputs_TRAIN = df_column[:train_len]\n",
        "  labels_TRAIN = df_column[:train_len+1] # taking one more to include one value past the end so we can naturally shift it without losing length\n",
        "\n",
        "  inputs_VALID = rescale_data(df_column, -1, 1)[train_len:valid_len]\n",
        "  labels_VALID = df_column[train_len:valid_len+1] # taking one more to lengthen the array so we can naturally shift it without losing length\n",
        "\n",
        "  valid_index = labels_VALID.index # save index for plotting data later\n",
        "\n",
        "  inputs_TRAIN = np.array([inputs_TRAIN[i:i+sequence_size] for i in range(len(inputs_TRAIN) - sequence_size+1)])\n",
        "  labels_TRAIN = np.array(labels_TRAIN[sequence_size:]) # sequence_size shifts the data naturally\n",
        "  training_data = list(zip(inputs_TRAIN, labels_TRAIN))\n",
        "\n",
        "  inputs_VALID = np.array([inputs_VALID[i:i+sequence_size] for i in range(len(inputs_VALID) - sequence_size+1)])\n",
        "  labels_VALID = np.array(labels_VALID[sequence_size:]) # sequence_size shifts the data naturally\n",
        "  validation_data = list(zip(inputs_VALID, labels_VALID))\n",
        "\n",
        "  return training_data, validation_data, valid_index"
      ],
      "metadata": {
        "id": "ACKuBqB07w4E"
      },
      "execution_count": null,
      "outputs": []
    },
    {
      "cell_type": "code",
      "source": [
        "#CAN CHANGE DATA SERIES INPUT HERE\n",
        "stock_data = BKNG_data[\"Close\"]\n",
        "\n",
        "DATA_MAXMIN = calculate_data_range(stock_data)\n",
        "\n",
        "# In the work we're following they mention using 100 data points for training and 80 for test\n",
        "train_dataset, valid_dataset, valid_index = generate_datasets(stock_data, train_len=100, valid_len=80)\n",
        "\n",
        "SAMPLE_NUM_TRAIN = len(train_dataset)\n",
        "SAMPLE_NUM_VALID = len(valid_dataset)"
      ],
      "metadata": {
        "id": "XXh4Jydv_wbN"
      },
      "execution_count": null,
      "outputs": []
    },
    {
      "cell_type": "code",
      "source": [
        "for input, label in train_dataset[:4]:\n",
        "  print(f\"{input} {label}\")"
      ],
      "metadata": {
        "colab": {
          "base_uri": "https://localhost:8080/"
        },
        "id": "pQ1qHUr2F-zQ",
        "outputId": "ff5672a8-65fd-40b2-c506-107c4c2c57cb"
      },
      "execution_count": null,
      "outputs": [
        {
          "output_type": "stream",
          "name": "stdout",
          "text": [
            "[-0.13581913 -0.2391626  -0.05315122 -0.23108102 -0.13302654 -0.10990922\n",
            " -0.12701604] 2050.06005859375\n",
            "[-0.2391626  -0.05315122 -0.23108102 -0.13302654 -0.10990922 -0.12701604\n",
            " -0.23167249] 2147.219970703125\n",
            "[-0.05315122 -0.23108102 -0.13302654 -0.10990922 -0.12701604 -0.23167249\n",
            " -0.05198632] 2221.510009765625\n",
            "[-0.23108102 -0.13302654 -0.10990922 -0.12701604 -0.23167249 -0.05198632\n",
            "  0.08540463] 2265.97998046875\n"
          ]
        }
      ]
    },
    {
      "cell_type": "code",
      "source": [
        "for input, label in valid_dataset[:4]:\n",
        "  print(f\"{input} {label}\")"
      ],
      "metadata": {
        "colab": {
          "base_uri": "https://localhost:8080/"
        },
        "id": "ejUWCVQZGGdO",
        "outputId": "936e13d8-2fc8-4423-b017-3022c0dec1cc"
      },
      "execution_count": null,
      "outputs": [
        {
          "output_type": "stream",
          "name": "stdout",
          "text": [
            "[-0.86107414 -0.90651345 -0.9320906  -1.         -0.92415667 -0.89362329\n",
            " -0.93364403] 1747.489990234375\n",
            "[-0.90651345 -0.9320906  -1.         -0.92415667 -0.89362329 -0.93364403\n",
            " -0.79124131] 1773.9599609375\n",
            "[-0.9320906  -1.         -0.92415667 -0.89362329 -0.93364403 -0.79124131\n",
            " -0.74228812] 1771.8199462890625\n",
            "[-1.         -0.92415667 -0.89362329 -0.93364403 -0.79124131 -0.74228812\n",
            " -0.74624583] 1773.6199951171875\n"
          ]
        }
      ]
    },
    {
      "cell_type": "code",
      "source": [
        "print(f\"train_dataset len: {len(train_dataset)}, valid_dataset len: {len(valid_dataset)}\")"
      ],
      "metadata": {
        "colab": {
          "base_uri": "https://localhost:8080/"
        },
        "id": "yXqVk1Sa3NaY",
        "outputId": "6a6ae417-447b-49f6-d279-8d427f9b4898"
      },
      "execution_count": null,
      "outputs": [
        {
          "output_type": "stream",
          "name": "stdout",
          "text": [
            "train_dataset len: 94, valid_dataset len: 74\n"
          ]
        }
      ]
    },
    {
      "cell_type": "markdown",
      "source": [
        "Model"
      ],
      "metadata": {
        "id": "dWTSndrokOGm"
      }
    },
    {
      "cell_type": "code",
      "source": [
        "from enum import Enum\n",
        "\n",
        "class ModelType(Enum):\n",
        "  PLAIN = 1\n",
        "  STAG = 2"
      ],
      "metadata": {
        "id": "CnES7VeOIyHN"
      },
      "execution_count": null,
      "outputs": []
    },
    {
      "cell_type": "code",
      "source": [
        "class QRNN():\n",
        "  def __init__(self, q_reg, params, model_type):\n",
        "    self.qubits_per_reg = q_reg\n",
        "    self.model_type = model_type\n",
        "\n",
        "    if params is not None:\n",
        "      self.params = params\n",
        "    else:\n",
        "       self.params = self.init_random_params()\n",
        "\n",
        "    self.ansatz = self.construct_ansatz()\n",
        "\n",
        "\n",
        "  def get_model_type(self):\n",
        "    return self.model_type\n",
        "\n",
        "  def set_params(self, params):\n",
        "    self.params = params\n",
        "    self.ansatz = self.construct_ansatz()\n",
        "\n",
        "  def get_params(self):\n",
        "    return self.params\n",
        "\n",
        "\n",
        "  def construct_enc_circ(self, x_val):\n",
        "    enc_circ = QuantumCircuit(self.qubits_per_reg)\n",
        "\n",
        "    for qubit in range(self.qubits_per_reg):\n",
        "      enc_circ.ry(np.arccos(x_val), qubit)\n",
        "\n",
        "    return enc_circ\n",
        "\n",
        "\n",
        "  def construct_ansatz(self):\n",
        "    theta_gamma_params = self.params\n",
        "\n",
        "    ansatz = QuantumCircuit(self.qubits_per_reg*2)\n",
        "\n",
        "    qu_indexes = list(range(self.qubits_per_reg*2))\n",
        "    qu_indexes_rolled = list(range(1, self.qubits_per_reg*2))\n",
        "    qu_indexes_rolled.append(0)\n",
        "\n",
        "    for idx in qu_indexes:\n",
        "      ansatz.rx(theta_gamma_params[idx][0], idx)\n",
        "      ansatz.rz(theta_gamma_params[idx][1], idx)\n",
        "      ansatz.rx(theta_gamma_params[idx][2], idx)\n",
        "\n",
        "    for idx in qu_indexes:\n",
        "      ansatz.cnot(idx, qu_indexes_rolled[idx])\n",
        "      ansatz.rz(theta_gamma_params[idx][3], qu_indexes_rolled[idx])\n",
        "      ansatz.cnot(idx, qu_indexes_rolled[idx])\n",
        "\n",
        "    return ansatz\n",
        "\n",
        "\n",
        "  def partial_trace_measure(self, circuit, qubit_to_measure):\n",
        "    circ_dens_matrix = qi.DensityMatrix.from_instruction(circuit)\n",
        "    qubits_to_trace_out = list(range(self.qubits_per_reg*2))\n",
        "    qubits_to_trace_out.remove(qubit_to_measure)\n",
        "\n",
        "    measured_qubit_rho = qi.partial_trace(circ_dens_matrix, qubits_to_trace_out)\n",
        "\n",
        "    ket1 = qi.Statevector([0, 1])\n",
        "    projector1 = ket1.to_operator()\n",
        "\n",
        "    trimmed_measured_qubit_rho = measured_qubit_rho.evolve(projector1)\n",
        "    prediction_y = trimmed_measured_qubit_rho.trace()\n",
        "\n",
        "    return prediction_y\n",
        "    \n",
        "\n",
        "  def init_random_params(self):\n",
        "    rng = np.random.default_rng()\n",
        "    theta_gamma_params = np.arccos(rng.uniform(-1, 1, size=(self.qubits_per_reg*2, 4))) #6x3 theta params and 6x1 gamma params\n",
        "    return theta_gamma_params"
      ],
      "metadata": {
        "id": "xvdEnFfIJoUw"
      },
      "execution_count": null,
      "outputs": []
    },
    {
      "cell_type": "code",
      "source": [
        "class pQRNN(QRNN):\n",
        "  def __init__(self, q_reg=3, params=None):\n",
        "    super().__init__(q_reg, params, ModelType.PLAIN)\n",
        "\n",
        "\n",
        "  #takes input vector of value from -1 to 1, outputs prediction in range 0 to 1\n",
        "  def forward(self, x_vec):\n",
        "    QRNN_circuit = QuantumCircuit(self.qubits_per_reg*2)\n",
        "\n",
        "    QRNN_circuit.reset(list(range(self.qubits_per_reg*2)))\n",
        "\n",
        "    for idx in range(7):\n",
        "      QRNN_circuit.reset(list(range(self.qubits_per_reg)))\n",
        "      encoding_circ = self.construct_enc_circ(x_vec[idx])\n",
        "      QRNN_circuit.compose(encoding_circ, list(range(self.qubits_per_reg)), inplace=True)\n",
        "\n",
        "      QRNN_circuit.compose(self.ansatz, inplace=True, wrap=True)\n",
        "\n",
        "    y_t = self.partial_trace_measure(QRNN_circuit, 0)\n",
        "\n",
        "    return abs(y_t) # don't need to square this because the probability comes from the density matrix, which already holds squared values\n"
      ],
      "metadata": {
        "id": "uFuHWTTa0mRS"
      },
      "execution_count": null,
      "outputs": []
    },
    {
      "cell_type": "code",
      "source": [
        "class sQRNN(QRNN):\n",
        "  def __init__(self, q_reg=3, params=None):\n",
        "    super().__init__(q_reg, params, ModelType.STAG)\n",
        "\n",
        "\n",
        "  #takes input vector of value from -1 to 1, outputs prediction in range 0 to 1\n",
        "  def forward(self, x_vec):\n",
        "    QRNN_circuit = QuantumCircuit(self.qubits_per_reg*2)\n",
        "\n",
        "    QRNN_circuit.reset(list(range(self.qubits_per_reg*2)))\n",
        "\n",
        "    measure_qubit = None\n",
        "\n",
        "    for idx in range(7):\n",
        "      reg_d_list = [(idx+i)%(self.qubits_per_reg*2) for i in range(self.qubits_per_reg)]\n",
        "      measure_qubit = reg_d_list[1]\n",
        "\n",
        "      QRNN_circuit.reset(reg_d_list)\n",
        "      encoding_circ = self.construct_enc_circ(x_vec[idx])\n",
        "      QRNN_circuit.compose(encoding_circ, reg_d_list, inplace=True)\n",
        "\n",
        "      QRNN_circuit.compose(self.ansatz, inplace=True, wrap=True)\n",
        "\n",
        "    y_t = self.partial_trace_measure(QRNN_circuit, measure_qubit)\n",
        "\n",
        "    return abs(y_t)# don't need to square this because the probability comes from the density matrix, which already holds squared values\n"
      ],
      "metadata": {
        "id": "fK-lWtIWN488"
      },
      "execution_count": null,
      "outputs": []
    },
    {
      "cell_type": "code",
      "source": [
        "# model = sQRNN_ALT()\n",
        "# circuit = None\n",
        "\n",
        "# for input, label in train_dataset[:4]:\n",
        "#   print(f\"{input} {label}\")\n",
        "#   pred, circuit = model.forward(input)\n",
        "\n",
        "# circuit.draw('mpl')"
      ],
      "metadata": {
        "id": "rJlAGb1D4bLs"
      },
      "execution_count": null,
      "outputs": []
    },
    {
      "cell_type": "code",
      "source": [
        "# generating random params and saving it to be reused so it would be easier to measure performance with different hyper-parameters\n",
        "\n",
        "# model = QRNN()\n",
        "# save_params_to_drive(root_path, \"6_qubit_params\", model.get_params())"
      ],
      "metadata": {
        "id": "P3WHhPoDiIvs"
      },
      "execution_count": null,
      "outputs": []
    },
    {
      "cell_type": "markdown",
      "source": [
        "Sanity check that the ansatz gets assigned the correct values"
      ],
      "metadata": {
        "id": "cEARa95sMAve"
      }
    },
    {
      "cell_type": "code",
      "source": [
        "qubit_num = 6\n",
        "rng = np.random.default_rng()\n",
        "theta_gamma_params = np.arccos(rng.uniform(-1, 1, size=(qubit_num, 4)))\n",
        "\n",
        "print(theta_gamma_params)\n",
        "\n",
        "qu_indexes = list(range(qubit_num))\n",
        "qu_indexes_rolled = list(range(1, qubit_num))\n",
        "qu_indexes_rolled.append(0)\n",
        "\n",
        "for idx in qu_indexes:\n",
        "  print(f\"RX: {theta_gamma_params[idx][0]}, RZ: {theta_gamma_params[idx][1]}, RX: {theta_gamma_params[idx][2]} for qubit {idx}\")\n",
        "\n",
        "for idx in qu_indexes:\n",
        "  print(f\"RZ: {theta_gamma_params[idx][3]} gamma on qubit {qu_indexes_rolled[idx]}\")"
      ],
      "metadata": {
        "colab": {
          "base_uri": "https://localhost:8080/"
        },
        "id": "NhSKXG_ja6kw",
        "outputId": "35484e79-042a-4660-dc09-7ca4fe524c44"
      },
      "execution_count": null,
      "outputs": [
        {
          "output_type": "stream",
          "name": "stdout",
          "text": [
            "[[0.9337007  2.4271544  1.68310553 1.88320506]\n",
            " [2.10316503 1.87322942 2.28393014 1.06152146]\n",
            " [0.39866424 0.62746381 1.66568297 1.36345576]\n",
            " [1.22880627 3.04763213 1.98927689 1.44352773]\n",
            " [2.39674981 2.34218688 1.81122665 1.81890378]\n",
            " [1.18959469 0.26706329 1.27076327 1.69481823]]\n",
            "RX: 0.9337007007016903, RZ: 2.4271544013513413, RX: 1.6831055323072894 for qubit 0\n",
            "RX: 2.103165028486027, RZ: 1.873229417641781, RX: 2.283930136561462 for qubit 1\n",
            "RX: 0.39866423765393527, RZ: 0.6274638131729021, RX: 1.6656829700533995 for qubit 2\n",
            "RX: 1.2288062655916807, RZ: 3.0476321339100036, RX: 1.9892768871656825 for qubit 3\n",
            "RX: 2.396749808989695, RZ: 2.3421868808698396, RX: 1.8112266453665837 for qubit 4\n",
            "RX: 1.1895946916834346, RZ: 0.26706329298658965, RX: 1.270763272347617 for qubit 5\n",
            "RZ: 1.8832050570340562 gamma on qubit 1\n",
            "RZ: 1.0615214633781709 gamma on qubit 2\n",
            "RZ: 1.363455758790074 gamma on qubit 3\n",
            "RZ: 1.4435277310593981 gamma on qubit 4\n",
            "RZ: 1.8189037822148384 gamma on qubit 5\n",
            "RZ: 1.6948182294233305 gamma on qubit 0\n"
          ]
        }
      ]
    },
    {
      "cell_type": "markdown",
      "source": [
        "TRAINING"
      ],
      "metadata": {
        "id": "dyYDCrediOO8"
      }
    },
    {
      "cell_type": "code",
      "source": [
        "def L2_loss(prediction, true_val, sample_num):\n",
        "  loss = ((prediction-true_val)**2) / sample_num\n",
        "  return loss"
      ],
      "metadata": {
        "id": "_XrU02R5Nsuy"
      },
      "execution_count": null,
      "outputs": []
    },
    {
      "cell_type": "code",
      "source": [
        "def prediction_accuracy(predicted, actual):\n",
        "  E_vec = (actual-predicted) / actual\n",
        "\n",
        "  #Original accuracy formula presented in the work, Root Mean Squared Error (RMSE)\n",
        "  accuracy = (1-np.mean(E_vec**2)**0.5) * 100\n",
        "  return accuracy"
      ],
      "metadata": {
        "id": "ATeH_-A6EOop"
      },
      "execution_count": null,
      "outputs": []
    },
    {
      "cell_type": "code",
      "source": [
        "def postprocess_output(output):\n",
        "  return output * (DATA_MAXMIN[0]-DATA_MAXMIN[1]) + DATA_MAXMIN[1]"
      ],
      "metadata": {
        "id": "zRG4ukZElqyJ"
      },
      "execution_count": null,
      "outputs": []
    },
    {
      "cell_type": "code",
      "source": [
        "def gradient_descent(model_type, params, input, label, perturbation=0.001, lr=0.03):\n",
        "  params_1d = np.reshape(params, -1)\n",
        "  len_params = len(params_1d)\n",
        "  gradients = np.zeros(len_params)\n",
        "\n",
        "  #for every parameter\n",
        "  for idx in range(len_params):\n",
        "    #generate index vector\n",
        "    e_vec = np.zeros(len_params)\n",
        "    e_vec[idx] = 1\n",
        "\n",
        "    #generate params with finite diff to both sides\n",
        "    params_1d_plus = params_1d + perturbation*e_vec\n",
        "    params_plus = np.reshape(params_1d_plus, params.shape)\n",
        "    params_1d_minus = params_1d - perturbation*e_vec\n",
        "    params_minus = np.reshape(params_1d_minus, params.shape)\n",
        "\n",
        "    #create QRNNs with the finite difference params\n",
        "    if model_type == ModelType.PLAIN:\n",
        "      QRNN_plus = pQRNN(params=params_plus)\n",
        "      QRNN_minus = pQRNN(params=params_minus)\n",
        "    elif model_type == ModelType.STAG:\n",
        "      QRNN_plus = sQRNN(params=params_plus)\n",
        "      QRNN_minus = sQRNN(params=params_minus)\n",
        "    else:\n",
        "      print(f\"Unknown model type: {model_type}\")\n",
        "\n",
        "    # run forward pass to get predictions \n",
        "    prediction_plus = postprocess_output(QRNN_plus.forward(input))\n",
        "    prediction_minus = postprocess_output(QRNN_minus.forward(input))\n",
        "\n",
        "    # calculate gradient for this parameter\n",
        "    gradients[idx] = (L2_loss(prediction_plus, label, SAMPLE_NUM_TRAIN)-L2_loss(prediction_minus, label, SAMPLE_NUM_TRAIN)) / (2*perturbation)\n",
        "\n",
        "  #apply gradients to parameters and return the updated parameters\n",
        "  params_1d = params_1d - gradients*lr\n",
        "\n",
        "  return np.reshape(params_1d, params.shape)\n"
      ],
      "metadata": {
        "id": "VElXCAoBIItX"
      },
      "execution_count": null,
      "outputs": []
    },
    {
      "cell_type": "code",
      "source": [
        "def after_epoch_validation(model, validation_data):\n",
        "\n",
        "  # random.shuffle(validation_data)\n",
        "  losses = []\n",
        "  predictions = []\n",
        "  labels = []\n",
        "\n",
        "  for input, label in validation_data:\n",
        "    labels.append(label)\n",
        "\n",
        "    prediction = postprocess_output(model.forward(input))\n",
        "    predictions.append(prediction)\n",
        "\n",
        "    loss = L2_loss(prediction, label, SAMPLE_NUM_VALID)\n",
        "    losses.append(loss)\n",
        "\n",
        "  avg_loss = np.mean(losses)\n",
        "  accuracy = prediction_accuracy(np.array(predictions), np.array(labels))\n",
        "\n",
        "  print(f\"Validation loss: {avg_loss:.2f}, validation accuracy: {accuracy:.2f}\")\n",
        "\n",
        "  return np.array(predictions), np.array(labels)"
      ],
      "metadata": {
        "id": "_8tPyCbqC_iP"
      },
      "execution_count": null,
      "outputs": []
    },
    {
      "cell_type": "code",
      "source": [
        "def training(model, training_data, validation_data, epochs_num):\n",
        "\n",
        "  predictions_and_labels_epochs = []\n",
        "\n",
        "  for epoch in range(epochs_num):\n",
        "    # random.shuffle(training_data)\n",
        "    losses = []\n",
        "    predictions = []\n",
        "    labels = []\n",
        "\n",
        "    for input, label in training_data:\n",
        "      labels.append(label)\n",
        "\n",
        "      prediction = model.forward(input)\n",
        "      prediction = postprocess_output(prediction)\n",
        "\n",
        "      predictions.append(prediction)\n",
        "\n",
        "      loss = L2_loss(prediction, label, SAMPLE_NUM_TRAIN)\n",
        "      losses.append(loss)\n",
        "\n",
        "      updated_params = gradient_descent(model.get_model_type(), model.get_params(), input, label)\n",
        "      model.set_params(updated_params)\n",
        "\n",
        "      if len(losses)%5 == 0:\n",
        "        print(f\"Average running loss: {np.mean(losses):.2f} Average running accuracy: {prediction_accuracy(np.array(predictions), np.array(labels)):.2f}\")\n",
        "        print(\"=====================================\")\n",
        "\n",
        "    avg_loss = np.mean(losses)\n",
        "    accuracy = prediction_accuracy(np.array(predictions), np.array(labels))\n",
        "    print(f\"\\nEpoch {epoch+1} / {epochs_num}: Loss = {avg_loss:.2f}, Accuracy: {accuracy:.2f}\\n\")\n",
        "\n",
        "    predictions_and_labels_epochs.append((predictions, labels))\n",
        "\n",
        "    # after_epoch_validation(model, validation_data)\n",
        "\n",
        "  return model, np.array(predictions_and_labels_epochs)\n",
        "\n"
      ],
      "metadata": {
        "id": "jRNZ01MROadV"
      },
      "execution_count": null,
      "outputs": []
    },
    {
      "cell_type": "markdown",
      "source": [
        "TRAINING the model"
      ],
      "metadata": {
        "id": "f1ZBM51-w33D"
      }
    },
    {
      "cell_type": "code",
      "source": [
        "loaded_params = load_params_from_drive(\"6_qubit_params\")\n",
        "print(loaded_params)"
      ],
      "metadata": {
        "id": "uOcmmNmLw3WX",
        "colab": {
          "base_uri": "https://localhost:8080/"
        },
        "outputId": "12eb0b1b-1a3e-482b-e9e7-330ce1c2e99d"
      },
      "execution_count": null,
      "outputs": [
        {
          "output_type": "stream",
          "name": "stdout",
          "text": [
            "[[1.71844876 2.04838708 1.65311667 0.46461651]\n",
            " [1.12144523 1.17159783 1.71884063 1.26738357]\n",
            " [0.91594512 1.86570833 1.94842573 0.57828036]\n",
            " [1.17263427 2.53478912 1.10382683 1.90555317]\n",
            " [1.43265092 0.9580048  1.75344986 1.34060377]\n",
            " [0.98705363 0.61479902 1.85558472 0.53640413]]\n"
          ]
        }
      ]
    },
    {
      "cell_type": "code",
      "source": [
        "trained_model_sQRNN, epochs_training_progress_sQRNN = training(sQRNN(params=loaded_params), train_dataset, valid_dataset, 1)\n",
        "\n",
        "save_params_to_drive(trained_model_sQRNN.get_params(), \"sQRNN\", \"BKNG\", \"Close\", \"1\")"
      ],
      "metadata": {
        "colab": {
          "base_uri": "https://localhost:8080/"
        },
        "id": "4RgT6G31BKJ4",
        "outputId": "e39dfe3d-0ad1-4d59-921b-634ce0d7ee26"
      },
      "execution_count": null,
      "outputs": [
        {
          "output_type": "stream",
          "name": "stdout",
          "text": [
            "Average running loss: 1152.15 Average running accuracy: 84.73\n",
            "=====================================\n",
            "Average running loss: 1316.14 Average running accuracy: 84.32\n",
            "=====================================\n",
            "Average running loss: 1132.10 Average running accuracy: 85.09\n",
            "=====================================\n",
            "Average running loss: 1184.00 Average running accuracy: 84.21\n",
            "=====================================\n",
            "Average running loss: 1078.08 Average running accuracy: 84.70\n",
            "=====================================\n",
            "Average running loss: 1175.73 Average running accuracy: 83.35\n",
            "=====================================\n",
            "Average running loss: 1680.82 Average running accuracy: 78.78\n",
            "=====================================\n",
            "Average running loss: 1653.99 Average running accuracy: 78.77\n",
            "=====================================\n",
            "Average running loss: 1812.70 Average running accuracy: 77.74\n",
            "=====================================\n",
            "Average running loss: 1749.83 Average running accuracy: 78.20\n",
            "=====================================\n",
            "Average running loss: 1781.38 Average running accuracy: 78.16\n",
            "=====================================\n",
            "Average running loss: 1692.18 Average running accuracy: 78.80\n",
            "=====================================\n",
            "Average running loss: 1699.54 Average running accuracy: 78.84\n",
            "=====================================\n",
            "Average running loss: 1672.89 Average running accuracy: 79.01\n",
            "=====================================\n",
            "Average running loss: 1699.96 Average running accuracy: 78.81\n",
            "=====================================\n",
            "Average running loss: 1724.38 Average running accuracy: 78.69\n",
            "=====================================\n",
            "Average running loss: 1750.75 Average running accuracy: 78.50\n",
            "=====================================\n",
            "Average running loss: 1912.70 Average running accuracy: 77.13\n",
            "=====================================\n",
            "\n",
            "Epoch 1 / 1: Loss = 1973.24, Accuracy: 76.61\n",
            "\n"
          ]
        }
      ]
    },
    {
      "cell_type": "code",
      "source": [
        "trained_model_pQRNN, epochs_training_progress_pQRNN = training(pQRNN(params=loaded_params), train_dataset, valid_dataset, 1)\n",
        "\n",
        "save_params_to_drive(trained_model_pQRNN.get_params(), \"pQRNN\", \"BKNG\", \"Close\", \"1\")"
      ],
      "metadata": {
        "id": "-FF3q2CnRzJl",
        "colab": {
          "base_uri": "https://localhost:8080/"
        },
        "outputId": "c185ee0b-4e0f-465a-aeef-fc219e8af3ca"
      },
      "execution_count": null,
      "outputs": [
        {
          "output_type": "stream",
          "name": "stdout",
          "text": [
            "Average running loss: 914.57 Average running accuracy: 86.23\n",
            "=====================================\n",
            "Average running loss: 1476.15 Average running accuracy: 83.65\n",
            "=====================================\n",
            "Average running loss: 1401.68 Average running accuracy: 83.94\n",
            "=====================================\n",
            "Average running loss: 1629.63 Average running accuracy: 81.56\n",
            "=====================================\n",
            "Average running loss: 1868.70 Average running accuracy: 79.34\n",
            "=====================================\n",
            "Average running loss: 2326.94 Average running accuracy: 75.77\n",
            "=====================================\n",
            "Average running loss: 2271.83 Average running accuracy: 75.70\n",
            "=====================================\n",
            "Average running loss: 2284.80 Average running accuracy: 75.36\n",
            "=====================================\n",
            "Average running loss: 2127.37 Average running accuracy: 76.19\n",
            "=====================================\n",
            "Average running loss: 2072.54 Average running accuracy: 76.56\n",
            "=====================================\n",
            "Average running loss: 1944.57 Average running accuracy: 77.33\n",
            "=====================================\n",
            "Average running loss: 1826.49 Average running accuracy: 78.08\n",
            "=====================================\n",
            "Average running loss: 1830.86 Average running accuracy: 78.14\n",
            "=====================================\n",
            "Average running loss: 1808.91 Average running accuracy: 78.27\n",
            "=====================================\n",
            "Average running loss: 1824.24 Average running accuracy: 78.16\n",
            "=====================================\n",
            "Average running loss: 1778.94 Average running accuracy: 78.47\n",
            "=====================================\n",
            "Average running loss: 1888.09 Average running accuracy: 77.57\n",
            "=====================================\n",
            "Average running loss: 2043.86 Average running accuracy: 76.29\n",
            "=====================================\n",
            "\n",
            "Epoch 1 / 1: Loss = 2142.39, Accuracy: 75.56\n",
            "\n"
          ]
        }
      ]
    },
    {
      "cell_type": "code",
      "source": [
        "#after two epochs of training\n",
        "valid_predictions_sQRNN, valid_labels_sQRNN = after_epoch_validation(trained_model_sQRNN, valid_dataset)"
      ],
      "metadata": {
        "colab": {
          "base_uri": "https://localhost:8080/"
        },
        "id": "8Y9oExjQESqY",
        "outputId": "b5e74c60-ab65-4d66-fe3b-41102b815597"
      },
      "execution_count": null,
      "outputs": [
        {
          "output_type": "stream",
          "name": "stdout",
          "text": [
            "Validation loss: 1240.07, validation accuracy: 85.61\n"
          ]
        }
      ]
    },
    {
      "cell_type": "code",
      "source": [
        "#after one epoch of training\n",
        "valid_predictions_pQRNN, valid_labels_pQRNN = after_epoch_validation(trained_model_pQRNN, valid_dataset)"
      ],
      "metadata": {
        "colab": {
          "base_uri": "https://localhost:8080/"
        },
        "id": "77PeugtHTy7E",
        "outputId": "f2f5fbe7-d271-4f47-bbd1-f489bf91029c"
      },
      "execution_count": null,
      "outputs": [
        {
          "output_type": "stream",
          "name": "stdout",
          "text": [
            "Validation loss: 2995.03, validation accuracy: 75.36\n"
          ]
        }
      ]
    },
    {
      "cell_type": "markdown",
      "source": [
        "PLOT TRAINING PROGRESS"
      ],
      "metadata": {
        "id": "BrGDIB2nF_ld"
      }
    },
    {
      "cell_type": "code",
      "source": [
        "def save_plot_to_drive(plot_to_save, model_type, ticker, metric, epochs_num):\n",
        "  plot_to_save.savefig(os.path.join(ROOT_PATH, \"CurveGraphs\", f\"{model_type}_{ticker}_{metric}_{epochs_num}epochs.png\"))\n",
        "\n",
        "def plot_predictions_and_labels(predictions, labels):\n",
        "    fig, ax = plt.subplots(figsize=(7, 5), tight_layout=True)\n",
        "    ax.plot(predictions, color='red', label=\"Predicted\")\n",
        "    ax.plot(labels, linestyle='--', label=\"Actual\")\n",
        "    # ax.set_title(f\"{title}\")\n",
        "    ax.set_ylabel(\"Closing price\")\n",
        "    ax.set_xlabel(\"Dates\")\n",
        "    ax.set_xticks(labels.index[::15])\n",
        "    ax.tick_params(axis='x', rotation=50)\n",
        "    ax.grid()\n",
        "    ax.legend(loc='lower right')\n",
        "    return_fig = plt.gcf()\n",
        "    plt.show()\n",
        "\n",
        "    return return_fig"
      ],
      "metadata": {
        "id": "9tGuUazNEVjd"
      },
      "execution_count": null,
      "outputs": []
    },
    {
      "cell_type": "code",
      "source": [
        "for training_progr in epochs_training_progress_sQRNN:\n",
        "  epochsDF = pd.DataFrame(training_progr.T, columns=['Predictions', 'Labels'])\n",
        "  plot_predictions_and_labels(epochsDF['Predictions'], epochsDF['Labels'])\n",
        "\n",
        "# labels_Train = np.array(labels_TRAIN)\n",
        "# epochsDF = epochsDF.assign(Labels=np.reshape(labels_Train, -1))\n",
        "\n",
        "# epochsDF.index = spy_data.Date[1:len(epochsDF.Labels)+1]"
      ],
      "metadata": {
        "id": "EzAFyU9RF_Nh",
        "colab": {
          "base_uri": "https://localhost:8080/",
          "height": 507
        },
        "outputId": "2693976e-4404-419b-9614-3fe991178b27"
      },
      "execution_count": null,
      "outputs": [
        {
          "output_type": "display_data",
          "data": {
            "text/plain": [
              "<Figure size 700x500 with 1 Axes>"
            ],
            "image/png": "[encoded data removed]"
          },
          "metadata": {}
        }
      ]
    },
    {
      "cell_type": "markdown",
      "source": [
        "PLOT VALIDATION PROGRESS"
      ],
      "metadata": {
        "id": "-oEEPbws2N8f"
      }
    },
    {
      "cell_type": "code",
      "source": [
        "validDF = pd.DataFrame({'Predictions': valid_predictions_pQRNN, 'Labels': valid_labels_pQRNN})\n",
        "validDF.index = valid_index[7:]\n",
        "fig_to_save = plot_predictions_and_labels(validDF['Predictions'], validDF['Labels'])"
      ],
      "metadata": {
        "id": "TCXGmBq1tMtV"
      },
      "execution_count": null,
      "outputs": []
    },
    {
      "cell_type": "code",
      "source": [
        "save_plot_to_drive(fig_to_save, \"pQRNN\", \"BKNG\", \"Close\")"
      ],
      "metadata": {
        "id": "_PxAecVPm6jb"
      },
      "execution_count": null,
      "outputs": []
    },
    {
      "cell_type": "code",
      "source": [
        "validDF = pd.DataFrame({'Predictions': valid_predictions_sQRNN, 'Labels': valid_labels_sQRNN})\n",
        "validDF.index = valid_index[7:]\n",
        "fig_to_save=plot_predictions_and_labels(validDF['Predictions'], validDF['Labels'])"
      ],
      "metadata": {
        "id": "LeUSTVrKm1a5"
      },
      "execution_count": null,
      "outputs": []
    },
    {
      "cell_type": "code",
      "source": [
        "save_plot_to_drive(fig_to_save, \"pQRNN\", \"BKNG\", \"Close\")"
      ],
      "metadata": {
        "id": "7RK6u0VfnJL2"
      },
      "execution_count": null,
      "outputs": []
    },
    {
      "cell_type": "markdown",
      "source": [
        "VALIDATION (inference)"
      ],
      "metadata": {
        "id": "L_DFi76ByOoD"
      }
    },
    {
      "cell_type": "code",
      "source": [
        "def inference(model, seven_day_vec, maxmin):\n",
        "  print(f\"Seven day data: {seven_day_vec}\")\n",
        "\n",
        "  prediction = postprocess_output(model.forward(seven_day_vec), maxmin[0], maxmin[1])\n",
        "  \n",
        "  print(f\"Prediction for the eight day: {prediction}\")\n",
        "\n",
        "  return prediction"
      ],
      "metadata": {
        "id": "iqYjxR-OOdur"
      },
      "execution_count": null,
      "outputs": []
    },
    {
      "cell_type": "markdown",
      "source": [
        "DEBUGGING AND RECHEKING PART, effectively appendix, not necessary to read past this point"
      ],
      "metadata": {
        "id": "KFkFcPyfo34P"
      }
    },
    {
      "cell_type": "code",
      "source": [
        "ans = QRNN_model.construct_ansatz()\n",
        "ans.draw(\"mpl\")"
      ],
      "metadata": {
        "colab": {
          "base_uri": "https://localhost:8080/",
          "height": 449
        },
        "id": "mayzSnSpT6C4",
        "outputId": "bcf3b6b4-fa47-42ed-e4d3-17ce64091102"
      },
      "execution_count": null,
      "outputs": [
        {
          "output_type": "execute_result",
          "data": {
            "text/plain": [
              "<Figure size 1876.11x535.111 with 1 Axes>"
            ],
            "image/png": "[encoded data removed]"
          },
          "metadata": {},
          "execution_count": 9
        }
      ]
    },
    {
      "cell_type": "code",
      "source": [
        "from qiskit.circuit import ParameterVector\n",
        "\n",
        "inputs2 = ParameterVector(\"input\", 2)\n",
        "weights2 = ParameterVector(\"weight\", 4)\n",
        "print(f\"input parameters: {[str(item) for item in inputs2.params]}\")\n",
        "print(f\"weight parameters: {[str(item) for item in weights2.params]}\")\n",
        "\n",
        "qc2 = QuantumCircuit(2)\n",
        "qc2.ry(inputs2[0], 0)\n",
        "# qc2.ry(inputs2[1], 1)\n",
        "# qc2.cx(0, 1)\n",
        "qc2.ry(weights2[0], 0)\n",
        "qc2.ry(weights2[1], 1)\n",
        "qc2.cx(0, 1)\n",
        "qc2.ry(weights2[2], 0)\n",
        "qc2.ry(weights2[3], 1)\n",
        "\n",
        "qc2.draw(output=\"mpl\")"
      ],
      "metadata": {
        "colab": {
          "base_uri": "https://localhost:8080/",
          "height": 226
        },
        "id": "yUzLOL8qiJvJ",
        "outputId": "84707b36-121c-4488-c7c0-7e0694be7151"
      },
      "execution_count": null,
      "outputs": [
        {
          "output_type": "stream",
          "name": "stdout",
          "text": [
            "input parameters: ['input[0]', 'input[1]']\n",
            "weight parameters: ['weight[0]', 'weight[1]', 'weight[2]', 'weight[3]']\n"
          ]
        },
        {
          "output_type": "execute_result",
          "data": {
            "text/plain": [
              "<Figure size 454.517x200.667 with 1 Axes>"
            ],
            "image/png": "[encoded data removed]"
          },
          "metadata": {},
          "execution_count": 47
        }
      ]
    },
    {
      "cell_type": "code",
      "source": [
        "import numpy as np\n",
        "from qiskit import *\n",
        "from qiskit import Aer\n",
        "\n",
        "backend = Aer.get_backend('unitary_simulator')\n",
        "#prepare 2qubits\n",
        "circ = QuantumCircuit(2)\n",
        "circ.h(1)\n",
        "circ.ch(1, 0)\n",
        "\n",
        "job = execute(circ, backend)\n",
        "result = job.result()\n",
        "print(result.get_unitary(circ, decimals=3))"
      ],
      "metadata": {
        "colab": {
          "base_uri": "https://localhost:8080/"
        },
        "id": "fYQB_IJtJM0z",
        "outputId": "94205c56-1376-4c29-84c9-8df3e8d9f165"
      },
      "execution_count": null,
      "outputs": [
        {
          "output_type": "stream",
          "name": "stdout",
          "text": [
            "Operator([[ 0.707-0.j, -0.   +0.j,  0.707-0.j, -0.   +0.j],\n",
            "          [ 0.   +0.j,  0.707+0.j,  0.   +0.j,  0.707-0.j],\n",
            "          [ 0.5  -0.j,  0.5  -0.j, -0.5  +0.j, -0.5  +0.j],\n",
            "          [ 0.5  +0.j, -0.5  -0.j, -0.5  +0.j,  0.5  -0.j]],\n",
            "         input_dims=(2, 2), output_dims=(2, 2))\n"
          ]
        }
      ]
    },
    {
      "cell_type": "code",
      "source": [
        "circuit = QuantumCircuit(2, 2)\n",
        "\n",
        "# Add a H gate on qubit 0\n",
        "# circuit.h(0)\n",
        "# circuit.h(0)\n",
        "# circuit.h(1)\n",
        "# circuit.h(2)\n",
        "\n",
        "# Add a CX (CNOT) gate on control qubit 0 and target qubit 1\n",
        "# circuit.ch(1, 0)\n",
        "\n",
        "circuit.h(1)\n",
        "\n",
        "circuit.ch(1, 0)\n",
        "\n",
        "circuit.draw()"
      ],
      "metadata": {
        "colab": {
          "base_uri": "https://localhost:8080/",
          "height": 125
        },
        "id": "ibklGa6EaAfT",
        "outputId": "f84cf02b-2483-45e7-a3a1-791bbe0ed32e"
      },
      "execution_count": null,
      "outputs": [
        {
          "output_type": "execute_result",
          "data": {
            "text/plain": [
              "          ┌───┐\n",
              "q_0: ─────┤ H ├\n",
              "     ┌───┐└─┬─┘\n",
              "q_1: ┤ H ├──■──\n",
              "     └───┘     \n",
              "c: 2/══════════\n",
              "               "
            ],
            "text/html": [
              "<pre style=\"word-wrap: normal;white-space: pre;background: #fff0;line-height: 1.1;font-family: &quot;Courier New&quot;,Courier,monospace\">          ┌───┐\n",
              "q_0: ─────┤ H ├\n",
              "     ┌───┐└─┬─┘\n",
              "q_1: ┤ H ├──■──\n",
              "     └───┘     \n",
              "c: 2/══════════\n",
              "               </pre>"
            ]
          },
          "metadata": {},
          "execution_count": 4
        }
      ]
    },
    {
      "cell_type": "code",
      "source": [
        "circ_dens_matrix = qi.DensityMatrix.from_instruction(circuit)"
      ],
      "metadata": {
        "id": "M48gq36a6Xdo"
      },
      "execution_count": null,
      "outputs": []
    },
    {
      "cell_type": "code",
      "source": [
        "circ_dens_matrix"
      ],
      "metadata": {
        "colab": {
          "base_uri": "https://localhost:8080/"
        },
        "id": "QIml4YsC6ZXQ",
        "outputId": "8883a695-47dd-471f-8eee-43494c977a7f"
      },
      "execution_count": null,
      "outputs": [
        {
          "output_type": "stream",
          "name": "stdout",
          "text": [
            "DensityMatrix([[0.5       +0.j, 0.        +0.j, 0.35355339+0.j,\n",
            "                0.35355339+0.j],\n",
            "               [0.        +0.j, 0.        +0.j, 0.        +0.j,\n",
            "                0.        +0.j],\n",
            "               [0.35355339+0.j, 0.        +0.j, 0.25      +0.j,\n",
            "                0.25      +0.j],\n",
            "               [0.35355339+0.j, 0.        +0.j, 0.25      +0.j,\n",
            "                0.25      +0.j]],\n",
            "              dims=(2, 2))\n"
          ]
        }
      ]
    },
    {
      "cell_type": "code",
      "source": [
        "def fun(circuit):\n",
        "  circ_dens_matrix = qi.DensityMatrix.from_instruction(circuit)\n",
        "  qubits_to_trace_out = list(range(2))[:1]\n",
        "  print(qubits_to_trace_out)\n",
        "\n",
        "  measured_qubit_rho = qi.partial_trace(circ_dens_matrix, qubits_to_trace_out)\n",
        "\n",
        "  ket1 = qi.Statevector([0, 1])\n",
        "  projector1 = ket1.to_operator()\n",
        "\n",
        "  trimmed_measured_qubit_rho = measured_qubit_rho.evolve(projector1)\n",
        "  # return trimmed_measured_qubit_rho.trace()\n",
        "  return measured_qubit_rho\n"
      ],
      "metadata": {
        "id": "XpALmgwxnjEE"
      },
      "execution_count": null,
      "outputs": []
    },
    {
      "cell_type": "code",
      "source": [
        "dm = fun(circuit)"
      ],
      "metadata": {
        "id": "gjj3PRrg6sq7",
        "colab": {
          "base_uri": "https://localhost:8080/"
        },
        "outputId": "581ed9c0-39c8-43fd-e4f4-41860f2a7c1a"
      },
      "execution_count": null,
      "outputs": [
        {
          "output_type": "stream",
          "name": "stdout",
          "text": [
            "[0]\n"
          ]
        }
      ]
    },
    {
      "cell_type": "code",
      "source": [
        "dm"
      ],
      "metadata": {
        "colab": {
          "base_uri": "https://localhost:8080/"
        },
        "id": "f774DSGy9zOB",
        "outputId": "b526e934-3e82-4c45-f3b8-e8dea2eac07b"
      },
      "execution_count": null,
      "outputs": [
        {
          "output_type": "stream",
          "name": "stdout",
          "text": [
            "DensityMatrix([[0.5       +0.j, 0.35355339+0.j],\n",
            "               [0.35355339+0.j, 0.5       +0.j]],\n",
            "              dims=(2,))\n"
          ]
        }
      ]
    },
    {
      "cell_type": "code",
      "source": [
        "y_t = fun(circuit)"
      ],
      "metadata": {
        "id": "eFJK-uUeeaGZ"
      },
      "execution_count": null,
      "outputs": []
    },
    {
      "cell_type": "code",
      "source": [
        "abs(y_t)"
      ],
      "metadata": {
        "colab": {
          "base_uri": "https://localhost:8080/"
        },
        "id": "xY4ku4OSoNr4",
        "outputId": "aabe82cf-d40f-48af-f6e3-8014353f4161"
      },
      "execution_count": null,
      "outputs": [
        {
          "output_type": "execute_result",
          "data": {
            "text/plain": [
              "0.9999999999999993"
            ]
          },
          "metadata": {},
          "execution_count": 72
        }
      ]
    },
    {
      "cell_type": "code",
      "source": [
        "random_nums = [random.randint(200, 400) for i in range(1000)]"
      ],
      "metadata": {
        "id": "wlAWB-63xQ8t"
      },
      "execution_count": null,
      "outputs": []
    }
  ]
}