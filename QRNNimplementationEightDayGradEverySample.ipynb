{
  "nbformat": 4,
  "nbformat_minor": 0,
  "metadata": {
    "colab": {
      "provenance": [],
      "authorship_tag": "ABX9TyOCHubXz5+3oskwAIrPgb13",
      "include_colab_link": true
    },
    "kernelspec": {
      "name": "python3",
      "display_name": "Python 3"
    },
    "language_info": {
      "name": "python"
    }
  },
  "cells": [
    {
      "cell_type": "markdown",
      "metadata": {
        "id": "view-in-github",
        "colab_type": "text"
      },
      "source": [
        "<a href=\"https://colab.research.google.com/github/ElektrosStulpas/QuantumRNN-BachelorsVU/blob/main/QRNNimplementationEightDayGradEverySample.ipynb\" target=\"_parent\"><img src=\"https://colab.research.google.com/assets/colab-badge.svg\" alt=\"Open In Colab\"/></a>"
      ]
    },
    {
      "cell_type": "markdown",
      "source": [
        "Install needed libraries"
      ],
      "metadata": {
        "id": "Lyk_e185DnkB"
      }
    },
    {
      "cell_type": "code",
      "execution_count": 1,
      "metadata": {
        "id": "oUfGmKr1yQFz",
        "colab": {
          "base_uri": "https://localhost:8080/"
        },
        "outputId": "e0cfd7e3-5946-4b5f-b2d2-bc87f08edc36"
      },
      "outputs": [
        {
          "output_type": "stream",
          "name": "stdout",
          "text": [
            "Looking in indexes: https://pypi.org/simple, https://us-python.pkg.dev/colab-wheels/public/simple/\n",
            "Collecting qiskit[visualization]\n",
            "  Downloading qiskit-0.42.1.tar.gz (14 kB)\n",
            "  Preparing metadata (setup.py) ... \u001b[?25l\u001b[?25hdone\n",
            "Collecting qiskit-terra==0.23.3\n",
            "  Downloading qiskit_terra-0.23.3-cp310-cp310-manylinux_2_17_x86_64.manylinux2014_x86_64.whl (5.1 MB)\n",
            "\u001b[2K     \u001b[90m━━━━━━━━━━━━━━━━━━━━━━━━━━━━━━━━━━━━━━━━\u001b[0m \u001b[32m5.1/5.1 MB\u001b[0m \u001b[31m31.2 MB/s\u001b[0m eta \u001b[36m0:00:00\u001b[0m\n",
            "\u001b[?25hCollecting qiskit-aer==0.12.0\n",
            "  Downloading qiskit_aer-0.12.0-cp310-cp310-manylinux_2_17_x86_64.manylinux2014_x86_64.whl (12.8 MB)\n",
            "\u001b[2K     \u001b[90m━━━━━━━━━━━━━━━━━━━━━━━━━━━━━━━━━━━━━━━━\u001b[0m \u001b[32m12.8/12.8 MB\u001b[0m \u001b[31m34.8 MB/s\u001b[0m eta \u001b[36m0:00:00\u001b[0m\n",
            "\u001b[?25hCollecting qiskit-ibmq-provider==0.20.2\n",
            "  Downloading qiskit_ibmq_provider-0.20.2-py3-none-any.whl (241 kB)\n",
            "\u001b[2K     \u001b[90m━━━━━━━━━━━━━━━━━━━━━━━━━━━━━━━━━━━━━━\u001b[0m \u001b[32m241.5/241.5 kB\u001b[0m \u001b[31m10.8 MB/s\u001b[0m eta \u001b[36m0:00:00\u001b[0m\n",
            "\u001b[?25hRequirement already satisfied: matplotlib>=2.1 in /usr/local/lib/python3.10/dist-packages (from qiskit[visualization]) (3.7.1)\n",
            "Requirement already satisfied: ipywidgets>=7.3.0 in /usr/local/lib/python3.10/dist-packages (from qiskit[visualization]) (7.7.1)\n",
            "Requirement already satisfied: pydot in /usr/local/lib/python3.10/dist-packages (from qiskit[visualization]) (1.4.2)\n",
            "Requirement already satisfied: pillow>=4.2.1 in /usr/local/lib/python3.10/dist-packages (from qiskit[visualization]) (8.4.0)\n",
            "Collecting pylatexenc>=1.4\n",
            "  Downloading pylatexenc-2.10.tar.gz (162 kB)\n",
            "\u001b[2K     \u001b[90m━━━━━━━━━━━━━━━━━━━━━━━━━━━━━━━━━━━━━━━\u001b[0m \u001b[32m162.6/162.6 kB\u001b[0m \u001b[31m9.1 MB/s\u001b[0m eta \u001b[36m0:00:00\u001b[0m\n",
            "\u001b[?25h  Preparing metadata (setup.py) ... \u001b[?25l\u001b[?25hdone\n",
            "Requirement already satisfied: seaborn>=0.9.0 in /usr/local/lib/python3.10/dist-packages (from qiskit[visualization]) (0.12.2)\n",
            "Requirement already satisfied: pygments>=2.4 in /usr/local/lib/python3.10/dist-packages (from qiskit[visualization]) (2.14.0)\n",
            "Requirement already satisfied: scipy>=1.0 in /usr/local/lib/python3.10/dist-packages (from qiskit-aer==0.12.0->qiskit[visualization]) (1.10.1)\n",
            "Requirement already satisfied: numpy>=1.16.3 in /usr/local/lib/python3.10/dist-packages (from qiskit-aer==0.12.0->qiskit[visualization]) (1.22.4)\n",
            "Collecting requests-ntlm<=1.1.0\n",
            "  Downloading requests_ntlm-1.1.0-py2.py3-none-any.whl (5.7 kB)\n",
            "Collecting websockets>=10.0\n",
            "  Downloading websockets-11.0.2-cp310-cp310-manylinux_2_5_x86_64.manylinux1_x86_64.manylinux_2_17_x86_64.manylinux2014_x86_64.whl (129 kB)\n",
            "\u001b[2K     \u001b[90m━━━━━━━━━━━━━━━━━━━━━━━━━━━━━━━━━━━━━━━\u001b[0m \u001b[32m129.9/129.9 kB\u001b[0m \u001b[31m4.5 MB/s\u001b[0m eta \u001b[36m0:00:00\u001b[0m\n",
            "\u001b[?25hRequirement already satisfied: python-dateutil>=2.8.0 in /usr/local/lib/python3.10/dist-packages (from qiskit-ibmq-provider==0.20.2->qiskit[visualization]) (2.8.2)\n",
            "Requirement already satisfied: requests>=2.19 in /usr/local/lib/python3.10/dist-packages (from qiskit-ibmq-provider==0.20.2->qiskit[visualization]) (2.27.1)\n",
            "Requirement already satisfied: urllib3>=1.21.1 in /usr/local/lib/python3.10/dist-packages (from qiskit-ibmq-provider==0.20.2->qiskit[visualization]) (1.26.15)\n",
            "Requirement already satisfied: websocket-client>=1.5.1 in /usr/local/lib/python3.10/dist-packages (from qiskit-ibmq-provider==0.20.2->qiskit[visualization]) (1.5.1)\n",
            "Requirement already satisfied: sympy>=1.3 in /usr/local/lib/python3.10/dist-packages (from qiskit-terra==0.23.3->qiskit[visualization]) (1.11.1)\n",
            "Collecting ply>=3.10\n",
            "  Downloading ply-3.11-py2.py3-none-any.whl (49 kB)\n",
            "\u001b[2K     \u001b[90m━━━━━━━━━━━━━━━━━━━━━━━━━━━━━━━━━━━━━━━━\u001b[0m \u001b[32m49.6/49.6 kB\u001b[0m \u001b[31m3.2 MB/s\u001b[0m eta \u001b[36m0:00:00\u001b[0m\n",
            "\u001b[?25hCollecting rustworkx>=0.12.0\n",
            "  Downloading rustworkx-0.12.1-cp310-cp310-manylinux_2_17_x86_64.manylinux2014_x86_64.whl (1.9 MB)\n",
            "\u001b[2K     \u001b[90m━━━━━━━━━━━━━━━━━━━━━━━━━━━━━━━━━━━━━━━━\u001b[0m \u001b[32m1.9/1.9 MB\u001b[0m \u001b[31m36.2 MB/s\u001b[0m eta \u001b[36m0:00:00\u001b[0m\n",
            "\u001b[?25hRequirement already satisfied: psutil>=5 in /usr/local/lib/python3.10/dist-packages (from qiskit-terra==0.23.3->qiskit[visualization]) (5.9.5)\n",
            "Collecting stevedore>=3.0.0\n",
            "  Downloading stevedore-5.0.0-py3-none-any.whl (49 kB)\n",
            "\u001b[2K     \u001b[90m━━━━━━━━━━━━━━━━━━━━━━━━━━━━━━━━━━━━━━━━\u001b[0m \u001b[32m49.6/49.6 kB\u001b[0m \u001b[31m3.7 MB/s\u001b[0m eta \u001b[36m0:00:00\u001b[0m\n",
            "\u001b[?25hCollecting symengine>=0.9\n",
            "  Downloading symengine-0.10.0-cp310-cp310-manylinux_2_12_x86_64.manylinux2010_x86_64.whl (37.4 MB)\n",
            "\u001b[2K     \u001b[90m━━━━━━━━━━━━━━━━━━━━━━━━━━━━━━━━━━━━━━━━\u001b[0m \u001b[32m37.4/37.4 MB\u001b[0m \u001b[31m8.6 MB/s\u001b[0m eta \u001b[36m0:00:00\u001b[0m\n",
            "\u001b[?25hCollecting dill>=0.3\n",
            "  Downloading dill-0.3.6-py3-none-any.whl (110 kB)\n",
            "\u001b[2K     \u001b[90m━━━━━━━━━━━━━━━━━━━━━━━━━━━━━━━━━━━━━━━\u001b[0m \u001b[32m110.5/110.5 kB\u001b[0m \u001b[31m4.3 MB/s\u001b[0m eta \u001b[36m0:00:00\u001b[0m\n",
            "\u001b[?25hRequirement already satisfied: ipython-genutils~=0.2.0 in /usr/local/lib/python3.10/dist-packages (from ipywidgets>=7.3.0->qiskit[visualization]) (0.2.0)\n",
            "Requirement already satisfied: jupyterlab-widgets>=1.0.0 in /usr/local/lib/python3.10/dist-packages (from ipywidgets>=7.3.0->qiskit[visualization]) (3.0.7)\n",
            "Requirement already satisfied: ipykernel>=4.5.1 in /usr/local/lib/python3.10/dist-packages (from ipywidgets>=7.3.0->qiskit[visualization]) (5.5.6)\n",
            "Requirement already satisfied: widgetsnbextension~=3.6.0 in /usr/local/lib/python3.10/dist-packages (from ipywidgets>=7.3.0->qiskit[visualization]) (3.6.4)\n",
            "Requirement already satisfied: traitlets>=4.3.1 in /usr/local/lib/python3.10/dist-packages (from ipywidgets>=7.3.0->qiskit[visualization]) (5.7.1)\n",
            "Requirement already satisfied: ipython>=4.0.0 in /usr/local/lib/python3.10/dist-packages (from ipywidgets>=7.3.0->qiskit[visualization]) (7.34.0)\n",
            "Requirement already satisfied: packaging>=20.0 in /usr/local/lib/python3.10/dist-packages (from matplotlib>=2.1->qiskit[visualization]) (23.1)\n",
            "Requirement already satisfied: fonttools>=4.22.0 in /usr/local/lib/python3.10/dist-packages (from matplotlib>=2.1->qiskit[visualization]) (4.39.3)\n",
            "Requirement already satisfied: cycler>=0.10 in /usr/local/lib/python3.10/dist-packages (from matplotlib>=2.1->qiskit[visualization]) (0.11.0)\n",
            "Requirement already satisfied: pyparsing>=2.3.1 in /usr/local/lib/python3.10/dist-packages (from matplotlib>=2.1->qiskit[visualization]) (3.0.9)\n",
            "Requirement already satisfied: kiwisolver>=1.0.1 in /usr/local/lib/python3.10/dist-packages (from matplotlib>=2.1->qiskit[visualization]) (1.4.4)\n",
            "Requirement already satisfied: contourpy>=1.0.1 in /usr/local/lib/python3.10/dist-packages (from matplotlib>=2.1->qiskit[visualization]) (1.0.7)\n",
            "Requirement already satisfied: pandas>=0.25 in /usr/local/lib/python3.10/dist-packages (from seaborn>=0.9.0->qiskit[visualization]) (1.5.3)\n",
            "Requirement already satisfied: jupyter-client in /usr/local/lib/python3.10/dist-packages (from ipykernel>=4.5.1->ipywidgets>=7.3.0->qiskit[visualization]) (6.1.12)\n",
            "Requirement already satisfied: tornado>=4.2 in /usr/local/lib/python3.10/dist-packages (from ipykernel>=4.5.1->ipywidgets>=7.3.0->qiskit[visualization]) (6.2)\n",
            "Collecting jedi>=0.16\n",
            "  Downloading jedi-0.18.2-py2.py3-none-any.whl (1.6 MB)\n",
            "\u001b[2K     \u001b[90m━━━━━━━━━━━━━━━━━━━━━━━━━━━━━━━━━━━━━━━━\u001b[0m \u001b[32m1.6/1.6 MB\u001b[0m \u001b[31m12.9 MB/s\u001b[0m eta \u001b[36m0:00:00\u001b[0m\n",
            "\u001b[?25hRequirement already satisfied: prompt-toolkit!=3.0.0,!=3.0.1,<3.1.0,>=2.0.0 in /usr/local/lib/python3.10/dist-packages (from ipython>=4.0.0->ipywidgets>=7.3.0->qiskit[visualization]) (3.0.38)\n",
            "Requirement already satisfied: pexpect>4.3 in /usr/local/lib/python3.10/dist-packages (from ipython>=4.0.0->ipywidgets>=7.3.0->qiskit[visualization]) (4.8.0)\n",
            "Requirement already satisfied: pickleshare in /usr/local/lib/python3.10/dist-packages (from ipython>=4.0.0->ipywidgets>=7.3.0->qiskit[visualization]) (0.7.5)\n",
            "Requirement already satisfied: backcall in /usr/local/lib/python3.10/dist-packages (from ipython>=4.0.0->ipywidgets>=7.3.0->qiskit[visualization]) (0.2.0)\n",
            "Requirement already satisfied: matplotlib-inline in /usr/local/lib/python3.10/dist-packages (from ipython>=4.0.0->ipywidgets>=7.3.0->qiskit[visualization]) (0.1.6)\n",
            "Requirement already satisfied: setuptools>=18.5 in /usr/local/lib/python3.10/dist-packages (from ipython>=4.0.0->ipywidgets>=7.3.0->qiskit[visualization]) (67.7.2)\n",
            "Requirement already satisfied: decorator in /usr/local/lib/python3.10/dist-packages (from ipython>=4.0.0->ipywidgets>=7.3.0->qiskit[visualization]) (4.4.2)\n",
            "Requirement already satisfied: pytz>=2020.1 in /usr/local/lib/python3.10/dist-packages (from pandas>=0.25->seaborn>=0.9.0->qiskit[visualization]) (2022.7.1)\n",
            "Requirement already satisfied: six>=1.5 in /usr/local/lib/python3.10/dist-packages (from python-dateutil>=2.8.0->qiskit-ibmq-provider==0.20.2->qiskit[visualization]) (1.16.0)\n",
            "Requirement already satisfied: charset-normalizer~=2.0.0 in /usr/local/lib/python3.10/dist-packages (from requests>=2.19->qiskit-ibmq-provider==0.20.2->qiskit[visualization]) (2.0.12)\n",
            "Requirement already satisfied: certifi>=2017.4.17 in /usr/local/lib/python3.10/dist-packages (from requests>=2.19->qiskit-ibmq-provider==0.20.2->qiskit[visualization]) (2022.12.7)\n",
            "Requirement already satisfied: idna<4,>=2.5 in /usr/local/lib/python3.10/dist-packages (from requests>=2.19->qiskit-ibmq-provider==0.20.2->qiskit[visualization]) (3.4)\n",
            "Collecting ntlm-auth>=1.0.2\n",
            "  Downloading ntlm_auth-1.5.0-py2.py3-none-any.whl (29 kB)\n",
            "Requirement already satisfied: cryptography>=1.3 in /usr/local/lib/python3.10/dist-packages (from requests-ntlm<=1.1.0->qiskit-ibmq-provider==0.20.2->qiskit[visualization]) (40.0.2)\n",
            "Collecting pbr!=2.1.0,>=2.0.0\n",
            "  Downloading pbr-5.11.1-py2.py3-none-any.whl (112 kB)\n",
            "\u001b[2K     \u001b[90m━━━━━━━━━━━━━━━━━━━━━━━━━━━━━━━━━━━━━━━\u001b[0m \u001b[32m112.7/112.7 kB\u001b[0m \u001b[31m6.4 MB/s\u001b[0m eta \u001b[36m0:00:00\u001b[0m\n",
            "\u001b[?25hRequirement already satisfied: mpmath>=0.19 in /usr/local/lib/python3.10/dist-packages (from sympy>=1.3->qiskit-terra==0.23.3->qiskit[visualization]) (1.3.0)\n",
            "Requirement already satisfied: notebook>=4.4.1 in /usr/local/lib/python3.10/dist-packages (from widgetsnbextension~=3.6.0->ipywidgets>=7.3.0->qiskit[visualization]) (6.4.8)\n",
            "Requirement already satisfied: cffi>=1.12 in /usr/local/lib/python3.10/dist-packages (from cryptography>=1.3->requests-ntlm<=1.1.0->qiskit-ibmq-provider==0.20.2->qiskit[visualization]) (1.15.1)\n",
            "Requirement already satisfied: parso<0.9.0,>=0.8.0 in /usr/local/lib/python3.10/dist-packages (from jedi>=0.16->ipython>=4.0.0->ipywidgets>=7.3.0->qiskit[visualization]) (0.8.3)\n",
            "Requirement already satisfied: nbconvert in /usr/local/lib/python3.10/dist-packages (from notebook>=4.4.1->widgetsnbextension~=3.6.0->ipywidgets>=7.3.0->qiskit[visualization]) (6.5.4)\n",
            "Requirement already satisfied: Send2Trash>=1.8.0 in /usr/local/lib/python3.10/dist-packages (from notebook>=4.4.1->widgetsnbextension~=3.6.0->ipywidgets>=7.3.0->qiskit[visualization]) (1.8.0)\n",
            "Requirement already satisfied: terminado>=0.8.3 in /usr/local/lib/python3.10/dist-packages (from notebook>=4.4.1->widgetsnbextension~=3.6.0->ipywidgets>=7.3.0->qiskit[visualization]) (0.17.1)\n",
            "Requirement already satisfied: jupyter-core>=4.6.1 in /usr/local/lib/python3.10/dist-packages (from notebook>=4.4.1->widgetsnbextension~=3.6.0->ipywidgets>=7.3.0->qiskit[visualization]) (5.3.0)\n",
            "Requirement already satisfied: jinja2 in /usr/local/lib/python3.10/dist-packages (from notebook>=4.4.1->widgetsnbextension~=3.6.0->ipywidgets>=7.3.0->qiskit[visualization]) (3.1.2)\n",
            "Requirement already satisfied: prometheus-client in /usr/local/lib/python3.10/dist-packages (from notebook>=4.4.1->widgetsnbextension~=3.6.0->ipywidgets>=7.3.0->qiskit[visualization]) (0.16.0)\n",
            "Requirement already satisfied: pyzmq>=17 in /usr/local/lib/python3.10/dist-packages (from notebook>=4.4.1->widgetsnbextension~=3.6.0->ipywidgets>=7.3.0->qiskit[visualization]) (23.2.1)\n",
            "Requirement already satisfied: nest-asyncio>=1.5 in /usr/local/lib/python3.10/dist-packages (from notebook>=4.4.1->widgetsnbextension~=3.6.0->ipywidgets>=7.3.0->qiskit[visualization]) (1.5.6)\n",
            "Requirement already satisfied: argon2-cffi in /usr/local/lib/python3.10/dist-packages (from notebook>=4.4.1->widgetsnbextension~=3.6.0->ipywidgets>=7.3.0->qiskit[visualization]) (21.3.0)\n",
            "Requirement already satisfied: nbformat in /usr/local/lib/python3.10/dist-packages (from notebook>=4.4.1->widgetsnbextension~=3.6.0->ipywidgets>=7.3.0->qiskit[visualization]) (5.8.0)\n",
            "Requirement already satisfied: ptyprocess>=0.5 in /usr/local/lib/python3.10/dist-packages (from pexpect>4.3->ipython>=4.0.0->ipywidgets>=7.3.0->qiskit[visualization]) (0.7.0)\n",
            "Requirement already satisfied: wcwidth in /usr/local/lib/python3.10/dist-packages (from prompt-toolkit!=3.0.0,!=3.0.1,<3.1.0,>=2.0.0->ipython>=4.0.0->ipywidgets>=7.3.0->qiskit[visualization]) (0.2.6)\n",
            "Requirement already satisfied: pycparser in /usr/local/lib/python3.10/dist-packages (from cffi>=1.12->cryptography>=1.3->requests-ntlm<=1.1.0->qiskit-ibmq-provider==0.20.2->qiskit[visualization]) (2.21)\n",
            "Requirement already satisfied: platformdirs>=2.5 in /usr/local/lib/python3.10/dist-packages (from jupyter-core>=4.6.1->notebook>=4.4.1->widgetsnbextension~=3.6.0->ipywidgets>=7.3.0->qiskit[visualization]) (3.3.0)\n",
            "Requirement already satisfied: argon2-cffi-bindings in /usr/local/lib/python3.10/dist-packages (from argon2-cffi->notebook>=4.4.1->widgetsnbextension~=3.6.0->ipywidgets>=7.3.0->qiskit[visualization]) (21.2.0)\n",
            "Requirement already satisfied: MarkupSafe>=2.0 in /usr/local/lib/python3.10/dist-packages (from jinja2->notebook>=4.4.1->widgetsnbextension~=3.6.0->ipywidgets>=7.3.0->qiskit[visualization]) (2.1.2)\n",
            "Requirement already satisfied: entrypoints>=0.2.2 in /usr/local/lib/python3.10/dist-packages (from nbconvert->notebook>=4.4.1->widgetsnbextension~=3.6.0->ipywidgets>=7.3.0->qiskit[visualization]) (0.4)\n",
            "Requirement already satisfied: nbclient>=0.5.0 in /usr/local/lib/python3.10/dist-packages (from nbconvert->notebook>=4.4.1->widgetsnbextension~=3.6.0->ipywidgets>=7.3.0->qiskit[visualization]) (0.7.4)\n",
            "Requirement already satisfied: beautifulsoup4 in /usr/local/lib/python3.10/dist-packages (from nbconvert->notebook>=4.4.1->widgetsnbextension~=3.6.0->ipywidgets>=7.3.0->qiskit[visualization]) (4.11.2)\n",
            "Requirement already satisfied: mistune<2,>=0.8.1 in /usr/local/lib/python3.10/dist-packages (from nbconvert->notebook>=4.4.1->widgetsnbextension~=3.6.0->ipywidgets>=7.3.0->qiskit[visualization]) (0.8.4)\n",
            "Requirement already satisfied: tinycss2 in /usr/local/lib/python3.10/dist-packages (from nbconvert->notebook>=4.4.1->widgetsnbextension~=3.6.0->ipywidgets>=7.3.0->qiskit[visualization]) (1.2.1)\n",
            "Requirement already satisfied: lxml in /usr/local/lib/python3.10/dist-packages (from nbconvert->notebook>=4.4.1->widgetsnbextension~=3.6.0->ipywidgets>=7.3.0->qiskit[visualization]) (4.9.2)\n",
            "Requirement already satisfied: defusedxml in /usr/local/lib/python3.10/dist-packages (from nbconvert->notebook>=4.4.1->widgetsnbextension~=3.6.0->ipywidgets>=7.3.0->qiskit[visualization]) (0.7.1)\n",
            "Requirement already satisfied: pandocfilters>=1.4.1 in /usr/local/lib/python3.10/dist-packages (from nbconvert->notebook>=4.4.1->widgetsnbextension~=3.6.0->ipywidgets>=7.3.0->qiskit[visualization]) (1.5.0)\n",
            "Requirement already satisfied: bleach in /usr/local/lib/python3.10/dist-packages (from nbconvert->notebook>=4.4.1->widgetsnbextension~=3.6.0->ipywidgets>=7.3.0->qiskit[visualization]) (6.0.0)\n",
            "Requirement already satisfied: jupyterlab-pygments in /usr/local/lib/python3.10/dist-packages (from nbconvert->notebook>=4.4.1->widgetsnbextension~=3.6.0->ipywidgets>=7.3.0->qiskit[visualization]) (0.2.2)\n",
            "Requirement already satisfied: fastjsonschema in /usr/local/lib/python3.10/dist-packages (from nbformat->notebook>=4.4.1->widgetsnbextension~=3.6.0->ipywidgets>=7.3.0->qiskit[visualization]) (2.16.3)\n",
            "Requirement already satisfied: jsonschema>=2.6 in /usr/local/lib/python3.10/dist-packages (from nbformat->notebook>=4.4.1->widgetsnbextension~=3.6.0->ipywidgets>=7.3.0->qiskit[visualization]) (4.3.3)\n",
            "Requirement already satisfied: pyrsistent!=0.17.0,!=0.17.1,!=0.17.2,>=0.14.0 in /usr/local/lib/python3.10/dist-packages (from jsonschema>=2.6->nbformat->notebook>=4.4.1->widgetsnbextension~=3.6.0->ipywidgets>=7.3.0->qiskit[visualization]) (0.19.3)\n",
            "Requirement already satisfied: attrs>=17.4.0 in /usr/local/lib/python3.10/dist-packages (from jsonschema>=2.6->nbformat->notebook>=4.4.1->widgetsnbextension~=3.6.0->ipywidgets>=7.3.0->qiskit[visualization]) (23.1.0)\n",
            "Requirement already satisfied: soupsieve>1.2 in /usr/local/lib/python3.10/dist-packages (from beautifulsoup4->nbconvert->notebook>=4.4.1->widgetsnbextension~=3.6.0->ipywidgets>=7.3.0->qiskit[visualization]) (2.4.1)\n",
            "Requirement already satisfied: webencodings in /usr/local/lib/python3.10/dist-packages (from bleach->nbconvert->notebook>=4.4.1->widgetsnbextension~=3.6.0->ipywidgets>=7.3.0->qiskit[visualization]) (0.5.1)\n",
            "Building wheels for collected packages: pylatexenc, qiskit\n",
            "  Building wheel for pylatexenc (setup.py) ... \u001b[?25l\u001b[?25hdone\n",
            "  Created wheel for pylatexenc: filename=pylatexenc-2.10-py3-none-any.whl size=136831 sha256=96b376421a7771da7b3feb519ff51b0121c0dca8881dd575fc4d80b8d550ceb3\n",
            "  Stored in directory: /root/.cache/pip/wheels/d3/31/8b/e09b0386afd80cfc556c00408c9aeea5c35c4d484a9c762fd5\n",
            "  Building wheel for qiskit (setup.py) ... \u001b[?25l\u001b[?25hdone\n",
            "  Created wheel for qiskit: filename=qiskit-0.42.1-py3-none-any.whl size=12938 sha256=4ceece707ead9da544df5db46630c24665a34f51009dddfa263f7581d38d3026\n",
            "  Stored in directory: /root/.cache/pip/wheels/99/db/fa/cd33542aa8da5d5a2978cf2683dabf2ae67c732185a5cdb5a4\n",
            "Successfully built pylatexenc qiskit\n",
            "Installing collected packages: pylatexenc, ply, websockets, symengine, rustworkx, pbr, ntlm-auth, jedi, dill, stevedore, requests-ntlm, qiskit-terra, qiskit-ibmq-provider, qiskit-aer, qiskit\n",
            "Successfully installed dill-0.3.6 jedi-0.18.2 ntlm-auth-1.5.0 pbr-5.11.1 ply-3.11 pylatexenc-2.10 qiskit-0.42.1 qiskit-aer-0.12.0 qiskit-ibmq-provider-0.20.2 qiskit-terra-0.23.3 requests-ntlm-1.1.0 rustworkx-0.12.1 stevedore-5.0.0 symengine-0.10.0 websockets-11.0.2\n"
          ]
        }
      ],
      "source": [
        "!pip install qiskit[visualization]"
      ]
    },
    {
      "cell_type": "markdown",
      "source": [
        "Data preparation"
      ],
      "metadata": {
        "id": "VdSx3Sb5kJ61"
      }
    },
    {
      "cell_type": "code",
      "source": [
        "from google.colab import drive\n",
        "import pandas as pd\n",
        "import os\n",
        "import numpy as np"
      ],
      "metadata": {
        "id": "IXPbBmtCkRax"
      },
      "execution_count": 2,
      "outputs": []
    },
    {
      "cell_type": "code",
      "source": [
        "drive.mount('/content/drive')"
      ],
      "metadata": {
        "colab": {
          "base_uri": "https://localhost:8080/"
        },
        "id": "c8IZmG2bNvof",
        "outputId": "2c698185-63eb-439f-8239-716a3fead8ac"
      },
      "execution_count": 3,
      "outputs": [
        {
          "output_type": "stream",
          "name": "stdout",
          "text": [
            "Mounted at /content/drive\n"
          ]
        }
      ]
    },
    {
      "cell_type": "code",
      "source": [
        "SPY_5YEAR_DAILY = 'duomenys_yahoo_SPY_20220424.csv'\n",
        "root_path = \"/content/drive/MyDrive/QRNNData\"\n",
        "\n",
        "def load_stock_data_from_drive(root_path, data_file_name):\n",
        "  data = pd.read_csv(os.path.join(root_path, SPY_5YEAR_DAILY))\n",
        "  return data\n",
        "\n",
        "def save_params_to_drive(root_path, file_name, params):\n",
        "  np.save(os.path.join(root_path, file_name), params)\n",
        "\n",
        "def load_params_from_drive(root_path, file_name):\n",
        "  return np.load(os.path.join(root_path, file_name))"
      ],
      "metadata": {
        "id": "0MowPchrN87t"
      },
      "execution_count": 4,
      "outputs": []
    },
    {
      "cell_type": "code",
      "source": [
        "#currently data passed in as series and passed out as series\n",
        "def rescale_data(data, new_scale_from, new_scale_to, maxmin):\n",
        "  #NORMALIZATION FORMULA from https://stats.stackexchange.com/questions/178626/how-to-normalize-data-between-1-and-1\n",
        "  rescaled_x = (new_scale_to-new_scale_from) * ((data - maxmin[1]) / ( maxmin[0] - maxmin[1])) + new_scale_from\n",
        "\n",
        "  return rescaled_x"
      ],
      "metadata": {
        "id": "bGUsy0NhN5b9"
      },
      "execution_count": 5,
      "outputs": []
    },
    {
      "cell_type": "code",
      "source": [
        "spy_data = load_stock_data_from_drive(root_path, SPY_5YEAR_DAILY)\n",
        "close_data = spy_data[\"Close\"]\n",
        "\n",
        "data_maxmin = max(close_data), min(close_data)\n",
        "\n",
        "# In the work we're following they mention using 100 data points for training and 80 for test\n",
        "TRAIN_len = 100\n",
        "VALID_len = TRAIN_len + 80\n",
        "\n",
        "inputs_TRAIN = rescale_data(close_data, -1, 1, data_maxmin)[:TRAIN_len]\n",
        "labels_TRAIN = close_data[:TRAIN_len+1] # taking one more to lengthen the array so we can naturally shift it without losing length\n",
        "\n",
        "inputs_VALID = rescale_data(close_data, -1, 1, data_maxmin)[TRAIN_len:VALID_len]\n",
        "labels_VALID = close_data[TRAIN_len:VALID_len+1] # taking one more to lengthen the array so we can naturally shift it without losing length\n",
        "\n",
        "sequence_size = 7\n",
        "\n",
        "inputs_TRAIN = np.array([inputs_TRAIN[i:i+sequence_size] for i in range(len(inputs_TRAIN) - sequence_size+1)])\n",
        "labels_TRAIN = labels_TRAIN[sequence_size:] # sequence_size is 1 too much, thus shifts the data naturally\n",
        "training_data = list(zip(inputs_TRAIN, labels_TRAIN))\n",
        "\n",
        "inputs_VALID = np.array([inputs_VALID[i:i+sequence_size] for i in range(len(inputs_VALID) - sequence_size+1)])\n",
        "labels_VALID = labels_VALID[sequence_size:] # sequence_size is 1 too much, thus shifts the data naturally\n",
        "validation_data = list(zip(inputs_VALID, labels_VALID))"
      ],
      "metadata": {
        "id": "hj92oaspbVAM"
      },
      "execution_count": 6,
      "outputs": []
    },
    {
      "cell_type": "code",
      "source": [
        "for input, label in training_data[:2]:\n",
        "  print(f\"{input} {label}\")"
      ],
      "metadata": {
        "colab": {
          "base_uri": "https://localhost:8080/"
        },
        "id": "VDIPkRpMUg1q",
        "outputId": "d5f9215f-7adc-498d-f92d-9757ebb23df3"
      },
      "execution_count": 7,
      "outputs": [
        {
          "output_type": "stream",
          "name": "stdout",
          "text": [
            "[-0.88836551 -0.87753174 -0.87870939 -0.87713919 -0.8812215  -0.87651125\n",
            " -0.87580462] 238.479996\n",
            "[-0.87753174 -0.87870939 -0.87713919 -0.8812215  -0.87651125 -0.87580462\n",
            " -0.87808134] 238.759995\n"
          ]
        }
      ]
    },
    {
      "cell_type": "code",
      "source": [
        "for input, label in validation_data[:2]:\n",
        "  print(f\"{input} {label}\")"
      ],
      "metadata": {
        "colab": {
          "base_uri": "https://localhost:8080/"
        },
        "id": "tjYbRkmtjKl7",
        "outputId": "418e6d97-b390-487e-86fc-01eed5d50831"
      },
      "execution_count": 8,
      "outputs": [
        {
          "output_type": "stream",
          "name": "stdout",
          "text": [
            "[-0.78693673 -0.79400215 -0.78984138 -0.78787875 -0.78717223 -0.79243207\n",
            " -0.79203952] 248.929993\n",
            "[-0.79400215 -0.78984138 -0.78787875 -0.78717223 -0.79243207 -0.79203952\n",
            " -0.79604336] 249.080002\n"
          ]
        }
      ]
    },
    {
      "cell_type": "code",
      "source": [
        "print(f\"labels_TRAIN len: {len(labels_TRAIN)}, input_TRAIN len: {len(inputs_TRAIN)}, labels_VALID len: {len(labels_VALID)}, input_VALID len: {len(inputs_VALID)}\")"
      ],
      "metadata": {
        "colab": {
          "base_uri": "https://localhost:8080/"
        },
        "id": "yXqVk1Sa3NaY",
        "outputId": "59869ac4-24a3-4b36-ff8c-b4172e810ecf"
      },
      "execution_count": 9,
      "outputs": [
        {
          "output_type": "stream",
          "name": "stdout",
          "text": [
            "labels_TRAIN len: 94, input_TRAIN len: 94, labels_VALID len: 74, input_VALID len: 74\n"
          ]
        }
      ]
    },
    {
      "cell_type": "markdown",
      "source": [
        "Model"
      ],
      "metadata": {
        "id": "dWTSndrokOGm"
      }
    },
    {
      "cell_type": "code",
      "source": [
        "from qiskit import QuantumCircuit, transpile\n",
        "from qiskit.providers.aer import QasmSimulator\n",
        "import qiskit.quantum_info as qi\n",
        "\n",
        "import numpy as np"
      ],
      "metadata": {
        "id": "AKhFsQr90i8Q"
      },
      "execution_count": 10,
      "outputs": []
    },
    {
      "cell_type": "code",
      "source": [
        "#takes input vector of value from -1 to 1, outputs predictions vector in the same value range\n",
        "class QRNN:\n",
        "  def __init__(self, q_reg=3, params=None):\n",
        "    self.qubits_per_reg = q_reg\n",
        "\n",
        "    if params is not None:\n",
        "      self.params = params\n",
        "    else:\n",
        "       self.params = self.init_random_params()\n",
        "\n",
        "    self.ansatz = self.construct_ansatz()\n",
        "\n",
        "\n",
        "  def set_params(self, params):\n",
        "    self.params = params\n",
        "    self.ansatz = self.construct_ansatz()\n",
        "\n",
        "  def get_params(self):\n",
        "    return self.params\n",
        "\n",
        "\n",
        "  def forward(self, x_vec):\n",
        "\n",
        "    QRNN_circuit = QuantumCircuit(self.qubits_per_reg*2)\n",
        "\n",
        "    QRNN_circuit.reset(list(range(self.qubits_per_reg*2)))\n",
        "\n",
        "    for idx in range(7):\n",
        "      QRNN_circuit.reset(list(range(self.qubits_per_reg)))\n",
        "      encoding_circ = self.construct_enc_circ(x_vec[idx])\n",
        "      QRNN_circuit.compose(encoding_circ, list(range(self.qubits_per_reg)), inplace=True)\n",
        "\n",
        "      QRNN_circuit.compose(self.ansatz, inplace=True, wrap=True)\n",
        "\n",
        "\n",
        "    y_t = self.partial_trace_measure(QRNN_circuit)\n",
        "\n",
        "    return abs(y_t)\n",
        "\n",
        "\n",
        "  # def forward_batch(self, x_data):\n",
        "  #   prediction_vec = []\n",
        "  #   for x_vec in x_data:\n",
        "  #     y_hat = self.forward(x_vec)\n",
        "  #     prediction_vec.append(y_hat)\n",
        "\n",
        "  #   return np.array(prediction_vec)\n",
        "\n",
        "\n",
        "  def construct_enc_circ(self, x_val):\n",
        "    enc_circ = QuantumCircuit(self.qubits_per_reg)\n",
        "\n",
        "    for qubit in range(self.qubits_per_reg):\n",
        "      enc_circ.ry(np.arccos(x_val), qubit)\n",
        "\n",
        "    return enc_circ\n",
        "\n",
        "\n",
        "  def construct_ansatz(self):\n",
        "    theta_gamma_params = self.params\n",
        "\n",
        "    ansatz = QuantumCircuit(self.qubits_per_reg*2)\n",
        "\n",
        "    qu_indexes = list(range(self.qubits_per_reg*2))\n",
        "    qu_indexes_rolled = list(range(1, self.qubits_per_reg*2))\n",
        "    qu_indexes_rolled.append(0)\n",
        "\n",
        "    for idx in qu_indexes:\n",
        "      ansatz.rx(theta_gamma_params[idx][0], idx)\n",
        "      ansatz.rz(theta_gamma_params[idx][1], idx)\n",
        "      ansatz.rx(theta_gamma_params[idx][2], idx)\n",
        "\n",
        "    for idx in qu_indexes:\n",
        "      ansatz.cnot(idx, qu_indexes_rolled[idx])\n",
        "      ansatz.rz(theta_gamma_params[idx][3], qu_indexes_rolled[idx])\n",
        "      ansatz.cnot(idx, qu_indexes_rolled[idx])\n",
        "\n",
        "    return ansatz\n",
        "\n",
        "\n",
        "  def partial_trace_measure(self, circuit):\n",
        "    circ_dens_matrix = qi.DensityMatrix.from_instruction(circuit)\n",
        "    qubits_to_trace_out = list(range(self.qubits_per_reg*2))[1:]\n",
        "\n",
        "    measured_qubit_rho = qi.partial_trace(circ_dens_matrix, qubits_to_trace_out)\n",
        "\n",
        "    ket1 = qi.Statevector([0, 1])\n",
        "    projector1 = ket1.to_operator()\n",
        "\n",
        "    trimmed_measured_qubit_rho = measured_qubit_rho.evolve(projector1)\n",
        "    prediction_y = trimmed_measured_qubit_rho.trace()\n",
        "\n",
        "    return prediction_y\n",
        "\n",
        "\n",
        "  def init_random_params(self):\n",
        "    rng = np.random.default_rng()\n",
        "    theta_gamma_params = np.arccos(rng.uniform(-1, 1, size=(self.qubits_per_reg*2, 4))) #6x3 theta params and 6x1 gamma params\n",
        "    return theta_gamma_params"
      ],
      "metadata": {
        "id": "uFuHWTTa0mRS"
      },
      "execution_count": 11,
      "outputs": []
    },
    {
      "cell_type": "code",
      "source": [
        "# generating random params and saving it to be reused so it would be easier to measure performance with different parameters\n",
        "\n",
        "# model = QRNN()\n",
        "# save_params_to_drive(root_path, \"6_qubit_params\", model.get_params())"
      ],
      "metadata": {
        "id": "P3WHhPoDiIvs"
      },
      "execution_count": 12,
      "outputs": []
    },
    {
      "cell_type": "code",
      "source": [
        "qubit_num = 6\n",
        "rng = np.random.default_rng()\n",
        "theta_gamma_params = np.arccos(rng.uniform(-1, 1, size=(qubit_num, 4)))\n",
        "\n",
        "print(theta_gamma_params)\n",
        "\n",
        "qu_indexes = list(range(qubit_num))\n",
        "qu_indexes_rolled = list(range(1, qubit_num))\n",
        "qu_indexes_rolled.append(0)\n",
        "\n",
        "for idx in qu_indexes:\n",
        "  print(f\"RX: {theta_gamma_params[idx][0]}, RZ: {theta_gamma_params[idx][1]}, RX: {theta_gamma_params[idx][2]} for qubit {idx}\")\n",
        "\n",
        "for idx in qu_indexes:\n",
        "  print(f\"RZ: {theta_gamma_params[idx][3]} gamma on qubit {qu_indexes_rolled[idx]}\")"
      ],
      "metadata": {
        "colab": {
          "base_uri": "https://localhost:8080/"
        },
        "id": "NhSKXG_ja6kw",
        "outputId": "60d1b432-fff0-454f-a042-fd334afab79d"
      },
      "execution_count": 13,
      "outputs": [
        {
          "output_type": "stream",
          "name": "stdout",
          "text": [
            "[[2.26072638 2.84467452 1.46623363 2.01019262]\n",
            " [1.9543213  1.26985971 1.71712868 2.58407787]\n",
            " [0.62891966 0.76005974 2.12883261 2.47888004]\n",
            " [1.12319224 1.90550864 0.82462897 0.99933169]\n",
            " [2.17749267 1.44574347 0.41307197 2.23952407]\n",
            " [1.99245118 2.56888386 2.15644483 1.48431042]]\n",
            "RX: 2.260726377678857, RZ: 2.8446745202967425, RX: 1.4662336250791559 for qubit 0\n",
            "RX: 1.9543213005265576, RZ: 1.2698597059523078, RX: 1.7171286756578925 for qubit 1\n",
            "RX: 0.6289196640777535, RZ: 0.7600597423044255, RX: 2.128832607480015 for qubit 2\n",
            "RX: 1.1231922373723566, RZ: 1.9055086380568556, RX: 0.8246289657511532 for qubit 3\n",
            "RX: 2.1774926659622253, RZ: 1.445743466801547, RX: 0.4130719691453441 for qubit 4\n",
            "RX: 1.9924511800410123, RZ: 2.5688838637813345, RX: 2.156444833875203 for qubit 5\n",
            "RZ: 2.010192615239384 gamma on qubit 1\n",
            "RZ: 2.5840778654394008 gamma on qubit 2\n",
            "RZ: 2.478880038397927 gamma on qubit 3\n",
            "RZ: 0.9993316939399175 gamma on qubit 4\n",
            "RZ: 2.239524065765068 gamma on qubit 5\n",
            "RZ: 1.4843104180683013 gamma on qubit 0\n"
          ]
        }
      ]
    },
    {
      "cell_type": "markdown",
      "source": [
        "TRAINING"
      ],
      "metadata": {
        "id": "dyYDCrediOO8"
      }
    },
    {
      "cell_type": "code",
      "source": [
        "import random"
      ],
      "metadata": {
        "id": "iZOeS8U_UCp-"
      },
      "execution_count": 14,
      "outputs": []
    },
    {
      "cell_type": "code",
      "source": [
        "# The paper in question doesn't have a sum over the error vector in their L2 function specified\n",
        "# So if going blindly by the paper, the formula should be:\n",
        "# loss = ((predictions_vec-true_vec)**2) / len(true_vec)\n",
        "# which would give us a vector as a loss, which would mean it's no longer a MEAN squared error\n",
        "\n",
        "def L2_loss(prediction, true_val, sample_num):\n",
        "  loss = ((prediction-true_val)**2) / sample_num\n",
        "  return loss\n",
        "\n",
        "# arr1 = np.array([2, 5, 7])\n",
        "# arr2 = np.array([-1, 3, 6])\n",
        "\n",
        "# L2_loss(arr2, arr1)"
      ],
      "metadata": {
        "id": "_XrU02R5Nsuy"
      },
      "execution_count": 15,
      "outputs": []
    },
    {
      "cell_type": "code",
      "source": [
        "def postprocess_output(output, x_max, x_min):\n",
        "  return output * (x_max-x_min) + x_min"
      ],
      "metadata": {
        "id": "zRG4ukZElqyJ"
      },
      "execution_count": 16,
      "outputs": []
    },
    {
      "cell_type": "code",
      "source": [
        "def gradient_descent(params, input, label, maxmin, sample_num, perturbation=0.001, lr=0.03):\n",
        "  params_1d = np.reshape(params, -1)\n",
        "  len_params = len(params_1d)\n",
        "  gradients = np.zeros(len_params)\n",
        "\n",
        "  #for every parameter\n",
        "  for idx in range(len_params):\n",
        "    #generate index vector\n",
        "    e_vec = np.zeros(len_params)\n",
        "    e_vec[idx] = 1\n",
        "\n",
        "    #generate params with finite diff to both sides\n",
        "    params_1d_plus = params_1d + perturbation*e_vec\n",
        "    params_plus = np.reshape(params_1d_plus, params.shape)\n",
        "    params_1d_minus = params_1d - perturbation*e_vec\n",
        "    params_minus = np.reshape(params_1d_minus, params.shape)\n",
        "\n",
        "    #create QRNNs with the finite difference params\n",
        "    QRNN_plus = QRNN(params=params_plus)\n",
        "    QRNN_minus = QRNN(params=params_minus)\n",
        "\n",
        "    # print(f\"inputs: {input} \\n\")\n",
        "\n",
        "    # run forward pass to get predictions \n",
        "    prediction_plus = postprocess_output(QRNN_plus.forward(input), maxmin[0], maxmin[1])\n",
        "    prediction_minus = postprocess_output(QRNN_minus.forward(input), maxmin[0], maxmin[1])\n",
        "\n",
        "    # print(f\"labels: {labels} \\n\")\n",
        "\n",
        "    # if idx == 1:\n",
        "      # print(f\"labels: {labels} \\n\")\n",
        "      # print(f\"predictions_plus: {predictions_plus} \\n\")\n",
        "      # print(f\"predictions_minus: {predictions_minus} \\n\")\n",
        "      # print(f\"loss for plus {L2_loss(predictions_plus, labels)} \\n\")\n",
        "      # print(f\"loss for minus {L2_loss(predictions_minus, labels)} \\n\")\n",
        "\n",
        "      # print(f\"gradient {(L2_loss(predictions_plus, labels)-L2_loss(predictions_minus, labels)) / (2*perturbation)} \\n\")\n",
        "\n",
        "    # calculate gradient for this parameter\n",
        "    gradients[idx] = (L2_loss(prediction_plus, label, sample_num)-L2_loss(prediction_minus, label, sample_num)) / (2*perturbation)\n",
        "\n",
        "  # print(f\"Params 1 dim: \\n{params_1d}\")\n",
        "  # print(f\"Gradients \\n{gradients}\")\n",
        "  # print(f\"Gradients with lr: \\n{gradients*lr}\")\n",
        "\n",
        "  #apply gradients to parameters and return the updated parameters\n",
        "  params_1d = params_1d - gradients*lr\n",
        "\n",
        "  # print(f\"Params 1 dim after applying gradients: \\n{params_1d}\")\n",
        "  # print(f\"Params reshaped: \\n{np.reshape(params_1d, params.shape)}\")\n",
        "\n",
        "  return np.reshape(params_1d, params.shape)\n"
      ],
      "metadata": {
        "id": "3-6XxQJ4iNml"
      },
      "execution_count": 34,
      "outputs": []
    },
    {
      "cell_type": "code",
      "source": [
        "def prediction_accuracy(predicted, actual):\n",
        "  E_vec = (actual-predicted) / actual\n",
        "\n",
        "  # Alternative accuracy formula\n",
        "  # accuracy = (1 - np.mean(abs(E_vec))) * 100\n",
        "\n",
        "  #This accuracy formula is presented in the work\n",
        "  accuracy = (1-np.mean(E_vec**2)**0.5) * 100\n",
        "  return accuracy"
      ],
      "metadata": {
        "id": "ATeH_-A6EOop"
      },
      "execution_count": 35,
      "outputs": []
    },
    {
      "cell_type": "code",
      "source": [
        "def after_epoch_validation(model, inputs, labels, maxmin):\n",
        "\n",
        "  # random.shuffle(validation_data)\n",
        "  losses = []\n",
        "  all_predictions = []\n",
        "\n",
        "  for idx in range(0, len(inputs)):\n",
        "    prediction = postprocess_output(model.forward(inputs[idx]), maxmin[0], maxmin[1])\n",
        "    all_predictions.append(prediction)\n",
        "\n",
        "    loss = L2_loss(prediction, labels[107+idx], len(inputs))\n",
        "    losses.append(loss)\n",
        "\n",
        "  avg_loss = np.mean(losses)\n",
        "  avg_accuracy = prediction_accuracy(all_predictions, labels)\n",
        "\n",
        "  print(f\"Validation loss: {avg_loss:.2f}, validation accuracy: {avg_accuracy:.2f}\")"
      ],
      "metadata": {
        "id": "_8tPyCbqC_iP"
      },
      "execution_count": 64,
      "outputs": []
    },
    {
      "cell_type": "code",
      "source": [
        "def training(model, inputs, labels, maxmin, epochs_num, batch_size=16):\n",
        "\n",
        "  predictions_epochs = []\n",
        "\n",
        "  for epoch in range(epochs_num):\n",
        "    # random.shuffle(training_data)\n",
        "    losses = []\n",
        "    all_accuracy = []\n",
        "    all_predictions = np.array([])\n",
        "\n",
        "    for idx in range(0, len(inputs)):\n",
        "      # inputs_batch = inputs[idx:idx+batch_size]\n",
        "      # labels_batch = labels[idx:idx+batch_size]\n",
        "\n",
        "      prediction = model.forward(inputs[idx])\n",
        "      prediction = postprocess_output(prediction, maxmin[0], maxmin[1])\n",
        "      all_predictions = np.append(all_predictions, prediction)\n",
        "\n",
        "      loss = L2_loss(prediction, labels[idx+7], len(inputs))\n",
        "      losses.append(loss)\n",
        "\n",
        "      updated_params = gradient_descent(model.get_params(), inputs[idx], labels[idx+7], maxmin, len(inputs))\n",
        "      model.set_params(updated_params)\n",
        "\n",
        "      if len(losses)%5 == 0:\n",
        "        print(f\"Average running loss: {np.mean(losses):.2f} Average running accuracy: {prediction_accuracy(all_predictions, labels[:len(all_predictions)]):.2f}\")\n",
        "        # print(f\"Current sentence predictions were: \\n{predictions} \\nAnd labels were: \\n{label_sequence}\")\n",
        "        print(\"=====================================\")\n",
        "\n",
        "    accuracy = prediction_accuracy(all_predictions, labels)\n",
        "    # all_accuracy.append(accuracy)\n",
        "\n",
        "    avg_loss = np.mean(losses)\n",
        "    avg_accuracy = np.mean(all_accuracy)\n",
        "    print(f\"\\nEpoch {epoch+1} / {epochs_num}: Loss = {avg_loss:.2f}, Accuracy: {accuracy:.2f}\\n\")\n",
        "\n",
        "    predictions_epochs.append(all_predictions)\n",
        "\n",
        "    after_epoch_validation(model, validation_data, maxmin)\n",
        "\n",
        "  return model, np.array(predictions_epochs)\n",
        "\n"
      ],
      "metadata": {
        "id": "jRNZ01MROadV"
      },
      "execution_count": 41,
      "outputs": []
    },
    {
      "cell_type": "markdown",
      "source": [
        "TRAINING the model"
      ],
      "metadata": {
        "id": "f1ZBM51-w33D"
      }
    },
    {
      "cell_type": "code",
      "source": [
        "loaded_params = load_params_from_drive(root_path, \"6_qubit_params.npy\")\n",
        "print(loaded_params)"
      ],
      "metadata": {
        "id": "uOcmmNmLw3WX",
        "colab": {
          "base_uri": "https://localhost:8080/"
        },
        "outputId": "890b95d2-d5a9-499f-f347-db45d73123e8"
      },
      "execution_count": 42,
      "outputs": [
        {
          "output_type": "stream",
          "name": "stdout",
          "text": [
            "[[1.71844876 2.04838708 1.65311667 0.46461651]\n",
            " [1.12144523 1.17159783 1.71884063 1.26738357]\n",
            " [0.91594512 1.86570833 1.94842573 0.57828036]\n",
            " [1.17263427 2.53478912 1.10382683 1.90555317]\n",
            " [1.43265092 0.9580048  1.75344986 1.34060377]\n",
            " [0.98705363 0.61479902 1.85558472 0.53640413]]\n"
          ]
        }
      ]
    },
    {
      "cell_type": "code",
      "source": [
        "len(labels_TRAIN)"
      ],
      "metadata": {
        "colab": {
          "base_uri": "https://localhost:8080/"
        },
        "id": "mswvEaHevrTa",
        "outputId": "92b5c6b9-cceb-4d50-c256-aead9589a48d"
      },
      "execution_count": 43,
      "outputs": [
        {
          "output_type": "execute_result",
          "data": {
            "text/plain": [
              "94"
            ]
          },
          "metadata": {},
          "execution_count": 43
        }
      ]
    },
    {
      "cell_type": "code",
      "source": [
        "loaded_params = load_params_from_drive(root_path, \"6_qubit_params.npy\")\n",
        "\n",
        "trained_model, epochs_data = training(QRNN(params=loaded_params), inputs_TRAIN, labels_TRAIN, data_maxmin, 1)\n",
        "\n",
        "# save_params_to_drive(root_path, \"001pert_03lr_grad_minus_no_shuffle8thday32batch\", trained_model.get_params())"
      ],
      "metadata": {
        "id": "-FF3q2CnRzJl",
        "colab": {
          "base_uri": "https://localhost:8080/"
        },
        "outputId": "8af4ced2-b165-4d56-86d5-38f2a7b3dc43"
      },
      "execution_count": 45,
      "outputs": [
        {
          "output_type": "stream",
          "name": "stdout",
          "text": [
            "Average running loss: 38.94 Average running accuracy: 74.65\n",
            "=====================================\n",
            "Average running loss: 19.57 Average running accuracy: 82.02\n",
            "=====================================\n",
            "Average running loss: 13.08 Average running accuracy: 85.30\n",
            "=====================================\n",
            "Average running loss: 9.81 Average running accuracy: 87.27\n",
            "=====================================\n",
            "Average running loss: 7.91 Average running accuracy: 88.57\n",
            "=====================================\n",
            "Average running loss: 6.66 Average running accuracy: 89.52\n",
            "=====================================\n",
            "Average running loss: 5.79 Average running accuracy: 90.23\n",
            "=====================================\n",
            "Average running loss: 5.07 Average running accuracy: 90.86\n",
            "=====================================\n",
            "Average running loss: 4.53 Average running accuracy: 91.36\n",
            "=====================================\n",
            "Average running loss: 4.08 Average running accuracy: 91.80\n",
            "=====================================\n",
            "Average running loss: 3.72 Average running accuracy: 92.17\n",
            "=====================================\n",
            "Average running loss: 3.41 Average running accuracy: 92.51\n",
            "=====================================\n",
            "Average running loss: 3.14 Average running accuracy: 92.80\n",
            "=====================================\n",
            "Average running loss: 2.92 Average running accuracy: 93.06\n",
            "=====================================\n",
            "Average running loss: 2.74 Average running accuracy: 93.28\n",
            "=====================================\n",
            "Average running loss: 2.58 Average running accuracy: 93.49\n",
            "=====================================\n",
            "Average running loss: 2.42 Average running accuracy: 93.68\n",
            "=====================================\n",
            "Average running loss: 2.29 Average running accuracy: 93.85\n",
            "=====================================\n",
            "\n",
            "Epoch 1 / 1: Loss = 2.20, Accuracy: 93.98\n",
            "\n"
          ]
        }
      ]
    },
    {
      "cell_type": "code",
      "source": [
        "epochs_data"
      ],
      "metadata": {
        "colab": {
          "base_uri": "https://localhost:8080/"
        },
        "id": "xgd1TOiu4fQD",
        "outputId": "8bd11a9e-ce69-4182-e1ff-151ffbee3522"
      },
      "execution_count": 47,
      "outputs": [
        {
          "output_type": "execute_result",
          "data": {
            "text/plain": [
              "array([[347.80983616, 311.60187714, 263.95339808, 255.36133016,\n",
              "        225.05729005, 231.24851807, 242.85429462, 235.39282035,\n",
              "        240.98182557, 240.47854811, 239.54046269, 231.0149209 ,\n",
              "        238.33948526, 239.20079829, 240.55159227, 239.88592115,\n",
              "        241.6682685 , 242.60911319, 240.64884841, 242.25353731,\n",
              "        240.49513496, 247.93891991, 239.25597439, 248.83272554,\n",
              "        235.26235631, 249.69843745, 236.18285544, 247.93619447,\n",
              "        238.01523636, 250.40790294, 236.74689641, 247.5251937 ,\n",
              "        237.1931572 , 250.46392057, 234.77607546, 245.3505078 ,\n",
              "        240.82504188, 244.72198119, 242.31833044, 239.44724058,\n",
              "        247.27529615, 235.62297831, 243.74299986, 241.50062368,\n",
              "        243.87724545, 237.19921211, 244.90128072, 240.86126156,\n",
              "        242.72038483, 246.12381351, 243.45792832, 247.79936794,\n",
              "        243.70274482, 247.05293509, 247.9272189 , 246.49347808,\n",
              "        247.02029796, 246.61655726, 248.51079981, 246.51505598,\n",
              "        247.56997713, 246.16324729, 247.13131307, 247.88105885,\n",
              "        247.16066765, 246.44858497, 248.50603006, 247.66262978,\n",
              "        246.48353807, 247.84489724, 238.53355704, 246.61303521,\n",
              "        248.2491341 , 245.11677315, 248.53463221, 236.93600761,\n",
              "        243.99007687, 242.40179505, 248.98381167, 240.78950772,\n",
              "        244.93417537, 244.74209654, 244.47820254, 245.2614289 ,\n",
              "        247.31632736, 248.70051068, 247.45310596, 243.88346683,\n",
              "        249.27871211, 245.08499081, 247.26386979, 252.61275617,\n",
              "        248.4611895 , 251.55038245]])"
            ]
          },
          "metadata": {},
          "execution_count": 47
        }
      ]
    },
    {
      "cell_type": "code",
      "source": [
        "after_epoch_validation(trained_model, inputs_VALID, labels_VALID, data_maxmin)"
      ],
      "metadata": {
        "colab": {
          "base_uri": "https://localhost:8080/"
        },
        "id": "LhG2yc8L5pyH",
        "outputId": "161405aa-ae18-4792-9877-fc466d2fd968"
      },
      "execution_count": 65,
      "outputs": [
        {
          "output_type": "stream",
          "name": "stdout",
          "text": [
            "Validation loss: 0.25, validation accuracy: 98.37\n"
          ]
        }
      ]
    },
    {
      "cell_type": "markdown",
      "source": [
        "PLOT TRAINING PROGRESS"
      ],
      "metadata": {
        "id": "BrGDIB2nF_ld"
      }
    },
    {
      "cell_type": "code",
      "source": [
        "import matplotlib.pyplot as plt\n",
        "\n",
        "def plot_array(predictions, labels):\n",
        "  plt.figure(figsize=(12, 5))\n",
        "  plt.plot(predictions)\n",
        "  plt.plot(labels)\n",
        "  # plt.title(ticker + \" price with WMA\")\n",
        "  plt.ylabel(\"Closing price\")\n",
        "  plt.xlabel(\"Dates\")\n",
        "  plt.xticks(rotation=65)\n",
        "  plt.grid()\n",
        "  plt.show()"
      ],
      "metadata": {
        "id": "qSKICxUowQ3Q"
      },
      "execution_count": 48,
      "outputs": []
    },
    {
      "cell_type": "code",
      "source": [
        "epochsDF = pd.DataFrame(epochs_data.T)\n",
        "labels_Train = np.array(labels_TRAIN)\n",
        "epochsDF = epochsDF.assign(Labels=np.reshape(labels_Train, -1))\n",
        "\n",
        "epochsDF.index = spy_data.Date[1:len(epochsDF.Labels)+1]"
      ],
      "metadata": {
        "id": "EzAFyU9RF_Nh"
      },
      "execution_count": 55,
      "outputs": []
    },
    {
      "cell_type": "code",
      "source": [
        "epochsDF"
      ],
      "metadata": {
        "colab": {
          "base_uri": "https://localhost:8080/",
          "height": 455
        },
        "id": "xs6tAbMI4ybT",
        "outputId": "4f554130-64bf-4e52-d973-d9726086ba3e"
      },
      "execution_count": 56,
      "outputs": [
        {
          "output_type": "execute_result",
          "data": {
            "text/plain": [
              "                     0      Labels\n",
              "Date                              \n",
              "2017-04-25  347.809836  238.479996\n",
              "2017-04-26  311.601877  238.759995\n",
              "2017-04-27  263.953398  239.699997\n",
              "2017-04-28  255.361330  239.660004\n",
              "2017-05-01  225.057290  239.440002\n",
              "...                ...         ...\n",
              "2017-08-30  245.084991  246.580002\n",
              "2017-08-31  247.263870  249.210007\n",
              "2017-09-01  252.612756  250.050003\n",
              "2017-09-05  248.461190  250.169998\n",
              "2017-09-06  251.550382  250.089996\n",
              "\n",
              "[94 rows x 2 columns]"
            ],
            "text/html": [
              "\n",
              "  <div id=\"df-58248685-0ef5-43ee-a60b-f311ae3feb7e\">\n",
              "    <div class=\"colab-df-container\">\n",
              "      <div>\n",
              "<style scoped>\n",
              "    .dataframe tbody tr th:only-of-type {\n",
              "        vertical-align: middle;\n",
              "    }\n",
              "\n",
              "    .dataframe tbody tr th {\n",
              "        vertical-align: top;\n",
              "    }\n",
              "\n",
              "    .dataframe thead th {\n",
              "        text-align: right;\n",
              "    }\n",
              "</style>\n",
              "<table border=\"1\" class=\"dataframe\">\n",
              "  <thead>\n",
              "    <tr style=\"text-align: right;\">\n",
              "      <th></th>\n",
              "      <th>0</th>\n",
              "      <th>Labels</th>\n",
              "    </tr>\n",
              "    <tr>\n",
              "      <th>Date</th>\n",
              "      <th></th>\n",
              "      <th></th>\n",
              "    </tr>\n",
              "  </thead>\n",
              "  <tbody>\n",
              "    <tr>\n",
              "      <th>2017-04-25</th>\n",
              "      <td>347.809836</td>\n",
              "      <td>238.479996</td>\n",
              "    </tr>\n",
              "    <tr>\n",
              "      <th>2017-04-26</th>\n",
              "      <td>311.601877</td>\n",
              "      <td>238.759995</td>\n",
              "    </tr>\n",
              "    <tr>\n",
              "      <th>2017-04-27</th>\n",
              "      <td>263.953398</td>\n",
              "      <td>239.699997</td>\n",
              "    </tr>\n",
              "    <tr>\n",
              "      <th>2017-04-28</th>\n",
              "      <td>255.361330</td>\n",
              "      <td>239.660004</td>\n",
              "    </tr>\n",
              "    <tr>\n",
              "      <th>2017-05-01</th>\n",
              "      <td>225.057290</td>\n",
              "      <td>239.440002</td>\n",
              "    </tr>\n",
              "    <tr>\n",
              "      <th>...</th>\n",
              "      <td>...</td>\n",
              "      <td>...</td>\n",
              "    </tr>\n",
              "    <tr>\n",
              "      <th>2017-08-30</th>\n",
              "      <td>245.084991</td>\n",
              "      <td>246.580002</td>\n",
              "    </tr>\n",
              "    <tr>\n",
              "      <th>2017-08-31</th>\n",
              "      <td>247.263870</td>\n",
              "      <td>249.210007</td>\n",
              "    </tr>\n",
              "    <tr>\n",
              "      <th>2017-09-01</th>\n",
              "      <td>252.612756</td>\n",
              "      <td>250.050003</td>\n",
              "    </tr>\n",
              "    <tr>\n",
              "      <th>2017-09-05</th>\n",
              "      <td>248.461190</td>\n",
              "      <td>250.169998</td>\n",
              "    </tr>\n",
              "    <tr>\n",
              "      <th>2017-09-06</th>\n",
              "      <td>251.550382</td>\n",
              "      <td>250.089996</td>\n",
              "    </tr>\n",
              "  </tbody>\n",
              "</table>\n",
              "<p>94 rows × 2 columns</p>\n",
              "</div>\n",
              "      <button class=\"colab-df-convert\" onclick=\"convertToInteractive('df-58248685-0ef5-43ee-a60b-f311ae3feb7e')\"\n",
              "              title=\"Convert this dataframe to an interactive table.\"\n",
              "              style=\"display:none;\">\n",
              "        \n",
              "  <svg xmlns=\"http://www.w3.org/2000/svg\" height=\"24px\"viewBox=\"0 0 24 24\"\n",
              "       width=\"24px\">\n",
              "    <path d=\"M0 0h24v24H0V0z\" fill=\"none\"/>\n",
              "    <path d=\"M18.56 5.44l.94 2.06.94-2.06 2.06-.94-2.06-.94-.94-2.06-.94 2.06-2.06.94zm-11 1L8.5 8.5l.94-2.06 2.06-.94-2.06-.94L8.5 2.5l-.94 2.06-2.06.94zm10 10l.94 2.06.94-2.06 2.06-.94-2.06-.94-.94-2.06-.94 2.06-2.06.94z\"/><path d=\"M17.41 7.96l-1.37-1.37c-.4-.4-.92-.59-1.43-.59-.52 0-1.04.2-1.43.59L10.3 9.45l-7.72 7.72c-.78.78-.78 2.05 0 2.83L4 21.41c.39.39.9.59 1.41.59.51 0 1.02-.2 1.41-.59l7.78-7.78 2.81-2.81c.8-.78.8-2.07 0-2.86zM5.41 20L4 18.59l7.72-7.72 1.47 1.35L5.41 20z\"/>\n",
              "  </svg>\n",
              "      </button>\n",
              "      \n",
              "  <style>\n",
              "    .colab-df-container {\n",
              "      display:flex;\n",
              "      flex-wrap:wrap;\n",
              "      gap: 12px;\n",
              "    }\n",
              "\n",
              "    .colab-df-convert {\n",
              "      background-color: #E8F0FE;\n",
              "      border: none;\n",
              "      border-radius: 50%;\n",
              "      cursor: pointer;\n",
              "      display: none;\n",
              "      fill: #1967D2;\n",
              "      height: 32px;\n",
              "      padding: 0 0 0 0;\n",
              "      width: 32px;\n",
              "    }\n",
              "\n",
              "    .colab-df-convert:hover {\n",
              "      background-color: #E2EBFA;\n",
              "      box-shadow: 0px 1px 2px rgba(60, 64, 67, 0.3), 0px 1px 3px 1px rgba(60, 64, 67, 0.15);\n",
              "      fill: #174EA6;\n",
              "    }\n",
              "\n",
              "    [theme=dark] .colab-df-convert {\n",
              "      background-color: #3B4455;\n",
              "      fill: #D2E3FC;\n",
              "    }\n",
              "\n",
              "    [theme=dark] .colab-df-convert:hover {\n",
              "      background-color: #434B5C;\n",
              "      box-shadow: 0px 1px 3px 1px rgba(0, 0, 0, 0.15);\n",
              "      filter: drop-shadow(0px 1px 2px rgba(0, 0, 0, 0.3));\n",
              "      fill: #FFFFFF;\n",
              "    }\n",
              "  </style>\n",
              "\n",
              "      <script>\n",
              "        const buttonEl =\n",
              "          document.querySelector('#df-58248685-0ef5-43ee-a60b-f311ae3feb7e button.colab-df-convert');\n",
              "        buttonEl.style.display =\n",
              "          google.colab.kernel.accessAllowed ? 'block' : 'none';\n",
              "\n",
              "        async function convertToInteractive(key) {\n",
              "          const element = document.querySelector('#df-58248685-0ef5-43ee-a60b-f311ae3feb7e');\n",
              "          const dataTable =\n",
              "            await google.colab.kernel.invokeFunction('convertToInteractive',\n",
              "                                                     [key], {});\n",
              "          if (!dataTable) return;\n",
              "\n",
              "          const docLinkHtml = 'Like what you see? Visit the ' +\n",
              "            '<a target=\"_blank\" href=https://colab.research.google.com/notebooks/data_table.ipynb>data table notebook</a>'\n",
              "            + ' to learn more about interactive tables.';\n",
              "          element.innerHTML = '';\n",
              "          dataTable['output_type'] = 'display_data';\n",
              "          await google.colab.output.renderOutput(dataTable, element);\n",
              "          const docLink = document.createElement('div');\n",
              "          docLink.innerHTML = docLinkHtml;\n",
              "          element.appendChild(docLink);\n",
              "        }\n",
              "      </script>\n",
              "    </div>\n",
              "  </div>\n",
              "  "
            ]
          },
          "metadata": {},
          "execution_count": 56
        }
      ]
    },
    {
      "cell_type": "code",
      "source": [
        "plot_array(epochsDF[0], epochsDF[\"Labels\"])"
      ],
      "metadata": {
        "colab": {
          "base_uri": "https://localhost:8080/",
          "height": 529
        },
        "id": "ugBAxjPCsmA-",
        "outputId": "b16dfef4-5354-4237-dad4-caecb5fc747c"
      },
      "execution_count": 58,
      "outputs": [
        {
          "output_type": "display_data",
          "data": {
            "text/plain": [
              "<Figure size 1200x500 with 1 Axes>"
            ],
            "image/png": "[encoded data removed]"
          },
          "metadata": {}
        }
      ]
    },
    {
      "cell_type": "code",
      "source": [
        "plot_array(epochsDF[1], epochsDF[\"Labels\"])"
      ],
      "metadata": {
        "colab": {
          "base_uri": "https://localhost:8080/",
          "height": 529
        },
        "id": "dXmaUDqdd10f",
        "outputId": "327f8ba4-11d4-469a-f75e-6691d08a1c4f"
      },
      "execution_count": null,
      "outputs": [
        {
          "output_type": "display_data",
          "data": {
            "text/plain": [
              "<Figure size 1200x500 with 1 Axes>"
            ],
            "image/png": "[encoded data removed]"
          },
          "metadata": {}
        }
      ]
    },
    {
      "cell_type": "markdown",
      "source": [
        "Could try normalizing params to 0-pi range, since now they seem to be way over the 0-3.14 rad radius after gradients are applied\n",
        "\n",
        "print out average predictions and average labels to see if they're converging at all"
      ],
      "metadata": {
        "id": "65AcFKTuVkg-"
      }
    },
    {
      "cell_type": "markdown",
      "source": [
        "VALIDATION (inference)"
      ],
      "metadata": {
        "id": "L_DFi76ByOoD"
      }
    },
    {
      "cell_type": "code",
      "source": [
        "print(inputs_VALID[:5])"
      ],
      "metadata": {
        "colab": {
          "base_uri": "https://localhost:8080/"
        },
        "id": "tCJeTaRk6z7E",
        "outputId": "7224392d-5785-4005-8605-5737d740c57c"
      },
      "execution_count": 71,
      "outputs": [
        {
          "output_type": "stream",
          "name": "stdout",
          "text": [
            "[[-0.78693673 -0.79400215 -0.78984138 -0.78787875 -0.78717223 -0.79243207\n",
            "  -0.79203952]\n",
            " [-0.79400215 -0.78984138 -0.78787875 -0.78717223 -0.79243207 -0.79203952\n",
            "  -0.79604336]\n",
            " [-0.78984138 -0.78787875 -0.78717223 -0.79243207 -0.79203952 -0.79604336\n",
            "  -0.79486571]\n",
            " [-0.78787875 -0.78717223 -0.79243207 -0.79203952 -0.79604336 -0.79486571\n",
            "  -0.78725069]\n",
            " [-0.78717223 -0.79243207 -0.79203952 -0.79604336 -0.79486571 -0.78725069\n",
            "  -0.78489551]]\n"
          ]
        }
      ]
    },
    {
      "cell_type": "code",
      "source": [],
      "metadata": {
        "id": "q8CcmHl56z5l"
      },
      "execution_count": null,
      "outputs": []
    },
    {
      "cell_type": "code",
      "source": [
        "inputs_VALID[50]"
      ],
      "metadata": {
        "colab": {
          "base_uri": "https://localhost:8080/"
        },
        "id": "dZt_MKhF6oeP",
        "outputId": "1a558dec-8e03-44d5-f9c6-320dd88ba0e8"
      },
      "execution_count": 84,
      "outputs": [
        {
          "output_type": "execute_result",
          "data": {
            "text/plain": [
              "array([-0.70631191, -0.70733227, -0.68660701, -0.68786313, -0.66980677,\n",
              "       -0.67412471, -0.67663669])"
            ]
          },
          "metadata": {},
          "execution_count": 84
        }
      ]
    },
    {
      "cell_type": "code",
      "source": [
        "labels_VALID[157]"
      ],
      "metadata": {
        "colab": {
          "base_uri": "https://localhost:8080/"
        },
        "id": "miifg7Q26v5L",
        "outputId": "03204eb3-28de-4bb6-db32-046271f45173"
      },
      "execution_count": 82,
      "outputs": [
        {
          "output_type": "execute_result",
          "data": {
            "text/plain": [
              "263.190002"
            ]
          },
          "metadata": {},
          "execution_count": 82
        }
      ]
    },
    {
      "cell_type": "code",
      "source": [
        "def inference(model, seven_day_vec, maxmin):\n",
        "  print(f\"Seven day data: {seven_day_vec}\")\n",
        "\n",
        "  prediction = postprocess_output(model.forward(seven_day_vec), maxmin[0], maxmin[1])\n",
        "  \n",
        "  print(f\"Prediction for the eight day: {prediction}\")\n",
        "\n",
        "  return prediction"
      ],
      "metadata": {
        "id": "iqYjxR-OOdur"
      },
      "execution_count": 75,
      "outputs": []
    },
    {
      "cell_type": "code",
      "source": [
        "output = inference(trained_model, inputs_VALID[50], data_maxmin)"
      ],
      "metadata": {
        "colab": {
          "base_uri": "https://localhost:8080/"
        },
        "id": "R9uluDZa7FXS",
        "outputId": "5f39f9b0-8285-4a54-d015-dbf89c2485c8"
      },
      "execution_count": 83,
      "outputs": [
        {
          "output_type": "stream",
          "name": "stdout",
          "text": [
            "Seven day data: [-0.70631191 -0.70733227 -0.68660701 -0.68786313 -0.66980677 -0.67412471\n",
            " -0.67663669]\n",
            "Prediction for the eight day: 259.52790489735946\n"
          ]
        }
      ]
    },
    {
      "cell_type": "code",
      "source": [
        "params_1d = np.reshape(theta_gamma_params, -1)\n",
        "e_vec = np.zeros(len(params_1d))\n",
        "e_vec"
      ],
      "metadata": {
        "colab": {
          "base_uri": "https://localhost:8080/"
        },
        "id": "GHGWl9dFn0LM",
        "outputId": "d031a3d7-590b-49ea-8ff3-614aa761ad15"
      },
      "execution_count": null,
      "outputs": [
        {
          "output_type": "execute_result",
          "data": {
            "text/plain": [
              "array([0., 0., 0., 0., 0., 0., 0., 0., 0., 0., 0., 0., 0., 0., 0., 0., 0.,\n",
              "       0., 0., 0., 0., 0., 0., 0.])"
            ]
          },
          "metadata": {},
          "execution_count": 22
        }
      ]
    },
    {
      "cell_type": "code",
      "source": [
        "theta_gamma_params"
      ],
      "metadata": {
        "colab": {
          "base_uri": "https://localhost:8080/"
        },
        "id": "QHuYx7fCrLqI",
        "outputId": "92375757-30b4-41ab-aac3-a96ef7bcdf11"
      },
      "execution_count": null,
      "outputs": [
        {
          "output_type": "execute_result",
          "data": {
            "text/plain": [
              "array([[0.88220813, 1.05991204, 1.46680408, 2.15098491],\n",
              "       [2.90851839, 1.03002548, 1.72818114, 2.30659077],\n",
              "       [0.39394578, 2.09449693, 1.2806631 , 2.33098704],\n",
              "       [1.79428738, 1.14440894, 1.56955949, 2.6666867 ],\n",
              "       [1.69497222, 1.01184316, 1.28220669, 1.50586418],\n",
              "       [2.42397432, 1.25885186, 1.23701419, 1.7539721 ]])"
            ]
          },
          "metadata": {},
          "execution_count": 23
        }
      ]
    },
    {
      "cell_type": "code",
      "source": [
        "np.reshape(params_1d, (6, 4))"
      ],
      "metadata": {
        "colab": {
          "base_uri": "https://localhost:8080/"
        },
        "id": "0lhjemTtrHba",
        "outputId": "2419a01c-c70a-47f9-d1ff-7b93eb3ccde5"
      },
      "execution_count": null,
      "outputs": [
        {
          "output_type": "execute_result",
          "data": {
            "text/plain": [
              "array([[0.88220813, 1.05991204, 1.46680408, 2.15098491],\n",
              "       [2.90851839, 1.03002548, 1.72818114, 2.30659077],\n",
              "       [0.39394578, 2.09449693, 1.2806631 , 2.33098704],\n",
              "       [1.79428738, 1.14440894, 1.56955949, 2.6666867 ],\n",
              "       [1.69497222, 1.01184316, 1.28220669, 1.50586418],\n",
              "       [2.42397432, 1.25885186, 1.23701419, 1.7539721 ]])"
            ]
          },
          "metadata": {},
          "execution_count": 24
        }
      ]
    },
    {
      "cell_type": "code",
      "source": [
        "params = np.array([[1, 2, 3],[4, 5, 6]])\n",
        "\n",
        "gradient_descent(params, 0)"
      ],
      "metadata": {
        "colab": {
          "base_uri": "https://localhost:8080/"
        },
        "id": "AcrRwaMHqH5K",
        "outputId": "b3399fe1-632e-4ffb-9338-4db312249e21"
      },
      "execution_count": null,
      "outputs": [
        {
          "output_type": "stream",
          "name": "stdout",
          "text": [
            "[[1 2 3]\n",
            " [4 5 6]]\n",
            "[1.001 2.    3.    4.    5.    6.   ]\n",
            "[0.999 2.    3.    4.    5.    6.   ]\n",
            "[1 2 3 4 5 6]\n",
            "[1.    2.001 3.    4.    5.    6.   ]\n",
            "[1.    1.999 3.    4.    5.    6.   ]\n",
            "[1 2 3 4 5 6]\n",
            "[1.    2.    3.001 4.    5.    6.   ]\n",
            "[1.    2.    2.999 4.    5.    6.   ]\n",
            "[1 2 3 4 5 6]\n",
            "[1.    2.    3.    4.001 5.    6.   ]\n",
            "[1.    2.    3.    3.999 5.    6.   ]\n",
            "[1 2 3 4 5 6]\n",
            "[1.    2.    3.    4.    5.001 6.   ]\n",
            "[1.    2.    3.    4.    4.999 6.   ]\n",
            "[1 2 3 4 5 6]\n",
            "[1.    2.    3.    4.    5.    6.001]\n",
            "[1.    2.    3.    4.    5.    5.999]\n",
            "[1 2 3 4 5 6]\n"
          ]
        }
      ]
    },
    {
      "cell_type": "code",
      "source": [
        "QRNN_model = QRNN()\n",
        "qc, model = QRNN_model.forward(inputs)"
      ],
      "metadata": {
        "id": "256uH3VGy3df"
      },
      "execution_count": null,
      "outputs": []
    },
    {
      "cell_type": "code",
      "source": [
        "qc"
      ],
      "metadata": {
        "colab": {
          "base_uri": "https://localhost:8080/"
        },
        "id": "11bEdMUuhHY0",
        "outputId": "e642ee54-c33f-42eb-e41c-f0a5bd56408a"
      },
      "execution_count": null,
      "outputs": [
        {
          "output_type": "execute_result",
          "data": {
            "text/plain": [
              "array([-0.25984296, -0.19762551, -0.23026206, -0.02800841, -0.12198073,\n",
              "        0.2522841 ,  0.10216996])"
            ]
          },
          "metadata": {},
          "execution_count": 16
        }
      ]
    },
    {
      "cell_type": "code",
      "source": [
        "model.draw(\"mpl\")"
      ],
      "metadata": {
        "colab": {
          "base_uri": "https://localhost:8080/",
          "height": 899
        },
        "id": "fWS_ne-mjvzF",
        "outputId": "fa421627-6670-4db1-9352-8638137009a6"
      },
      "execution_count": null,
      "outputs": [
        {
          "output_type": "execute_result",
          "data": {
            "text/plain": [
              "<Figure size 2210.55x1120.39 with 1 Axes>"
            ],
            "image/png": "[encoded data removed]"
          },
          "metadata": {},
          "execution_count": 41
        }
      ]
    },
    {
      "cell_type": "code",
      "source": [
        "ans = QRNN_model.construct_ansatz()\n",
        "ans.draw(\"mpl\")"
      ],
      "metadata": {
        "colab": {
          "base_uri": "https://localhost:8080/",
          "height": 449
        },
        "id": "mayzSnSpT6C4",
        "outputId": "bcf3b6b4-fa47-42ed-e4d3-17ce64091102"
      },
      "execution_count": null,
      "outputs": [
        {
          "output_type": "execute_result",
          "data": {
            "text/plain": [
              "<Figure size 1876.11x535.111 with 1 Axes>"
            ],
            "image/png": "[encoded data removed]"
          },
          "metadata": {},
          "execution_count": 9
        }
      ]
    },
    {
      "cell_type": "code",
      "source": [
        "qc.draw('mpl')"
      ],
      "metadata": {
        "colab": {
          "base_uri": "https://localhost:8080/",
          "height": 449
        },
        "id": "Pp-dXfknnFzN",
        "outputId": "0b751114-3d35-4234-cf14-48a3759b64bb"
      },
      "execution_count": null,
      "outputs": [
        {
          "output_type": "execute_result",
          "data": {
            "text/plain": [
              "<Figure size 454.719x535.111 with 1 Axes>"
            ],
            "image/png": "[encoded data removed]"
          },
          "metadata": {},
          "execution_count": 37
        }
      ]
    },
    {
      "cell_type": "code",
      "source": [
        "import numpy as np\n",
        "\n",
        "# x = 128.54\n",
        "x = np.array([1, 3, 4, 5, -1, -7])\n",
        "# goal : range [0, 1]\n",
        "#NORMALIZATION FORMULA from https://stats.stackexchange.com/questions/178626/how-to-normalize-data-between-1-and-1\n",
        "x1 = ((x - min(x)) / ( max(x) - min(x)))*2-1\n",
        "print(x1)\n",
        "# math.acos(x)\n",
        "# print(math.acos(x))\n",
        "\n",
        "# print(math.acos(0.55))\n"
      ],
      "metadata": {
        "id": "tYWy8Cboy6Rw",
        "colab": {
          "base_uri": "https://localhost:8080/"
        },
        "outputId": "f079679a-8dce-4b95-f36d-fa48d4288d31"
      },
      "execution_count": null,
      "outputs": [
        {
          "output_type": "stream",
          "name": "stdout",
          "text": [
            "[ 0.33333333  0.66666667  0.83333333  1.          0.         -1.        ]\n"
          ]
        }
      ]
    },
    {
      "cell_type": "code",
      "source": [
        "rng = np.random.default_rng()\n",
        "weights = rng.uniform(-1, 1, size=(6, 3))"
      ],
      "metadata": {
        "id": "djQi9kZKrWjy"
      },
      "execution_count": null,
      "outputs": []
    },
    {
      "cell_type": "code",
      "source": [
        "weights[]"
      ],
      "metadata": {
        "colab": {
          "base_uri": "https://localhost:8080/"
        },
        "id": "5ABEqiSKa26T",
        "outputId": "d0904770-3f13-4311-fe68-94bcb3acd468"
      },
      "execution_count": null,
      "outputs": [
        {
          "output_type": "execute_result",
          "data": {
            "text/plain": [
              "array([[-0.68669286, -0.59068147, -0.94100421],\n",
              "       [-0.52644754,  0.58167242, -0.14022919],\n",
              "       [ 0.19528282,  0.08767172, -0.97406722],\n",
              "       [-0.29248123,  0.09339544,  0.51187105],\n",
              "       [-0.70119153,  0.19938807,  0.96372905],\n",
              "       [-0.93182738,  0.55379874,  0.73056861]])"
            ]
          },
          "metadata": {},
          "execution_count": 12
        }
      ]
    },
    {
      "cell_type": "code",
      "source": [
        "weights[0][0]"
      ],
      "metadata": {
        "colab": {
          "base_uri": "https://localhost:8080/"
        },
        "id": "q0gO5Rtabfle",
        "outputId": "305bc9c2-3499-4d1b-ae0b-fe0dc67dcbb6"
      },
      "execution_count": null,
      "outputs": [
        {
          "output_type": "execute_result",
          "data": {
            "text/plain": [
              "-0.6866928594082833"
            ]
          },
          "metadata": {},
          "execution_count": 19
        }
      ]
    },
    {
      "cell_type": "code",
      "source": [
        "gamma_params = np.arccos(rng.uniform(-1, 1, size=(6, 1)))"
      ],
      "metadata": {
        "id": "6qAYAnM_g4k8"
      },
      "execution_count": null,
      "outputs": []
    },
    {
      "cell_type": "code",
      "source": [
        "gamma_params"
      ],
      "metadata": {
        "colab": {
          "base_uri": "https://localhost:8080/"
        },
        "id": "jX1iIbMgiIWF",
        "outputId": "722e2361-c8da-43ee-be79-434584e038bc"
      },
      "execution_count": null,
      "outputs": [
        {
          "output_type": "execute_result",
          "data": {
            "text/plain": [
              "array([[2.01756771],\n",
              "       [2.00816587],\n",
              "       [2.63754127],\n",
              "       [1.96501209],\n",
              "       [2.97102456],\n",
              "       [2.59263829]])"
            ]
          },
          "metadata": {},
          "execution_count": 17
        }
      ]
    },
    {
      "cell_type": "code",
      "source": [
        "from qiskit.circuit import ParameterVector\n",
        "\n",
        "inputs2 = ParameterVector(\"input\", 2)\n",
        "weights2 = ParameterVector(\"weight\", 4)\n",
        "print(f\"input parameters: {[str(item) for item in inputs2.params]}\")\n",
        "print(f\"weight parameters: {[str(item) for item in weights2.params]}\")\n",
        "\n",
        "qc2 = QuantumCircuit(2)\n",
        "qc2.ry(inputs2[0], 0)\n",
        "# qc2.ry(inputs2[1], 1)\n",
        "# qc2.cx(0, 1)\n",
        "qc2.ry(weights2[0], 0)\n",
        "qc2.ry(weights2[1], 1)\n",
        "qc2.cx(0, 1)\n",
        "qc2.ry(weights2[2], 0)\n",
        "qc2.ry(weights2[3], 1)\n",
        "\n",
        "qc2.draw(output=\"mpl\")"
      ],
      "metadata": {
        "colab": {
          "base_uri": "https://localhost:8080/",
          "height": 226
        },
        "id": "yUzLOL8qiJvJ",
        "outputId": "84707b36-121c-4488-c7c0-7e0694be7151"
      },
      "execution_count": null,
      "outputs": [
        {
          "output_type": "stream",
          "name": "stdout",
          "text": [
            "input parameters: ['input[0]', 'input[1]']\n",
            "weight parameters: ['weight[0]', 'weight[1]', 'weight[2]', 'weight[3]']\n"
          ]
        },
        {
          "output_type": "execute_result",
          "data": {
            "text/plain": [
              "<Figure size 454.517x200.667 with 1 Axes>"
            ],
            "image/png": "[encoded data removed]"
          },
          "metadata": {},
          "execution_count": 47
        }
      ]
    },
    {
      "cell_type": "code",
      "source": [
        "for idx in list(range(6)):\n",
        "  print(idx, )"
      ],
      "metadata": {
        "id": "GxdpiRnyuzM9",
        "colab": {
          "base_uri": "https://localhost:8080/"
        },
        "outputId": "b0febc35-9fa6-43ea-e399-e3673c9be21f"
      },
      "execution_count": null,
      "outputs": [
        {
          "output_type": "stream",
          "name": "stdout",
          "text": [
            "0\n",
            "1\n",
            "2\n",
            "3\n",
            "4\n",
            "5\n"
          ]
        }
      ]
    },
    {
      "cell_type": "code",
      "source": [
        "range_list = list(range(1, 6))"
      ],
      "metadata": {
        "id": "ZmpgIL9Sztvl"
      },
      "execution_count": null,
      "outputs": []
    },
    {
      "cell_type": "code",
      "source": [
        "range_list.append(0)"
      ],
      "metadata": {
        "id": "1un1Dl4nzxrJ"
      },
      "execution_count": null,
      "outputs": []
    },
    {
      "cell_type": "code",
      "source": [
        "new_list = range_list.append(range_list.pop(0))"
      ],
      "metadata": {
        "id": "-MmuW_o68Poa"
      },
      "execution_count": null,
      "outputs": []
    },
    {
      "cell_type": "code",
      "source": [
        "range_list"
      ],
      "metadata": {
        "colab": {
          "base_uri": "https://localhost:8080/"
        },
        "id": "8oAX8L7vOA1a",
        "outputId": "1b3722d4-d5db-48e6-bf67-a0da0e9ba0a4"
      },
      "execution_count": null,
      "outputs": [
        {
          "output_type": "execute_result",
          "data": {
            "text/plain": [
              "[1, 2, 3, 4, 5, 0]"
            ]
          },
          "metadata": {},
          "execution_count": 27
        }
      ]
    },
    {
      "cell_type": "code",
      "source": [
        "new_list"
      ],
      "metadata": {
        "id": "l5nukpKcRR_9"
      },
      "execution_count": null,
      "outputs": []
    },
    {
      "cell_type": "code",
      "source": [
        "for idx in range_list:\n",
        "  print(f\"Regular id: {idx}, rolled idx: {range_list[idx]}\")"
      ],
      "metadata": {
        "colab": {
          "base_uri": "https://localhost:8080/"
        },
        "id": "em8dO_HJODhv",
        "outputId": "599e85f1-000b-4989-a906-aca7702a350d"
      },
      "execution_count": null,
      "outputs": [
        {
          "output_type": "stream",
          "name": "stdout",
          "text": [
            "Regular id: 0, rolled idx: 0\n",
            "Regular id: 1, rolled idx: 1\n",
            "Regular id: 2, rolled idx: 2\n",
            "Regular id: 3, rolled idx: 3\n",
            "Regular id: 4, rolled idx: 4\n",
            "Regular id: 5, rolled idx: 5\n"
          ]
        }
      ]
    },
    {
      "cell_type": "code",
      "source": [
        "list(range(3*2))[1:]"
      ],
      "metadata": {
        "colab": {
          "base_uri": "https://localhost:8080/"
        },
        "id": "gcbucLHw7woL",
        "outputId": "481832f9-4b42-4ee8-9c0d-4a9ec9682c47"
      },
      "execution_count": null,
      "outputs": [
        {
          "output_type": "execute_result",
          "data": {
            "text/plain": [
              "[1, 2, 3, 4, 5]"
            ]
          },
          "metadata": {},
          "execution_count": 3
        }
      ]
    },
    {
      "cell_type": "code",
      "source": [
        "circuit = QuantumCircuit(3, 2)\n",
        "\n",
        "# Add a H gate on qubit 0\n",
        "circuit.h(0)\n",
        "circuit.h(0)\n",
        "circuit.h(1)\n",
        "circuit.h(2)\n",
        "\n",
        "# Add a CX (CNOT) gate on control qubit 0 and target qubit 1\n",
        "# circuit.ch(1, 0)\n",
        "\n",
        "# circuit.h(2)\n",
        "\n",
        "# circuit.ch(2, 0)\n",
        "\n",
        "circuit.draw()"
      ],
      "metadata": {
        "colab": {
          "base_uri": "https://localhost:8080/",
          "height": 156
        },
        "id": "ibklGa6EaAfT",
        "outputId": "e9130c37-2176-4041-dcab-eaa39a8917b0"
      },
      "execution_count": null,
      "outputs": [
        {
          "output_type": "execute_result",
          "data": {
            "text/plain": [
              "     ┌───┐┌───┐\n",
              "q_0: ┤ H ├┤ H ├\n",
              "     ├───┤└───┘\n",
              "q_1: ┤ H ├─────\n",
              "     ├───┤     \n",
              "q_2: ┤ H ├─────\n",
              "     └───┘     \n",
              "c: 2/══════════\n",
              "               "
            ],
            "text/html": [
              "<pre style=\"word-wrap: normal;white-space: pre;background: #fff0;line-height: 1.1;font-family: &quot;Courier New&quot;,Courier,monospace\">     ┌───┐┌───┐\n",
              "q_0: ┤ H ├┤ H ├\n",
              "     ├───┤└───┘\n",
              "q_1: ┤ H ├─────\n",
              "     ├───┤     \n",
              "q_2: ┤ H ├─────\n",
              "     └───┘     \n",
              "c: 2/══════════\n",
              "               </pre>"
            ]
          },
          "metadata": {},
          "execution_count": 66
        }
      ]
    },
    {
      "cell_type": "code",
      "source": [
        "def fun(circuit):\n",
        "  circ_dens_matrix = qi.DensityMatrix.from_instruction(circuit)\n",
        "  qubits_to_trace_out = list(range(3))[1:]\n",
        "\n",
        "  measured_qubit_rho = qi.partial_trace(circ_dens_matrix, qubits_to_trace_out)\n",
        "\n",
        "  ket1 = qi.Statevector([1, 0])\n",
        "  projector1 = ket1.to_operator()\n",
        "\n",
        "  trimmed_measured_qubit_rho = measured_qubit_rho.evolve(projector1)\n",
        "  return trimmed_measured_qubit_rho.trace()\n"
      ],
      "metadata": {
        "id": "XpALmgwxnjEE"
      },
      "execution_count": null,
      "outputs": []
    },
    {
      "cell_type": "code",
      "source": [
        "y_t = fun(circuit)"
      ],
      "metadata": {
        "id": "eFJK-uUeeaGZ"
      },
      "execution_count": null,
      "outputs": []
    },
    {
      "cell_type": "code",
      "source": [
        "abs(y_t)"
      ],
      "metadata": {
        "colab": {
          "base_uri": "https://localhost:8080/"
        },
        "id": "xY4ku4OSoNr4",
        "outputId": "aabe82cf-d40f-48af-f6e3-8014353f4161"
      },
      "execution_count": null,
      "outputs": [
        {
          "output_type": "execute_result",
          "data": {
            "text/plain": [
              "0.9999999999999993"
            ]
          },
          "metadata": {},
          "execution_count": 72
        }
      ]
    },
    {
      "cell_type": "code",
      "source": [
        "# importing \"cmath\" for complex number operations\n",
        "import cmath\n",
        " \n",
        "# Initializing real numbers\n",
        "x = 5\n",
        "y = 3\n",
        " \n",
        "# converting x and y into complex number\n",
        "z = complex(x,y);"
      ],
      "metadata": {
        "id": "H5xr1n5Xek9T"
      },
      "execution_count": null,
      "outputs": []
    },
    {
      "cell_type": "code",
      "source": [
        "z"
      ],
      "metadata": {
        "colab": {
          "base_uri": "https://localhost:8080/"
        },
        "id": "XqL91LT91OHv",
        "outputId": "b295f945-f7bc-4424-8e7f-ac1fa01b4c2a"
      },
      "execution_count": null,
      "outputs": [
        {
          "output_type": "execute_result",
          "data": {
            "text/plain": [
              "(5+3j)"
            ]
          },
          "metadata": {},
          "execution_count": 2
        }
      ]
    },
    {
      "cell_type": "code",
      "source": [
        "abs(z)"
      ],
      "metadata": {
        "colab": {
          "base_uri": "https://localhost:8080/"
        },
        "id": "QMDXp6Rm1VvQ",
        "outputId": "26373ccc-86e1-4957-8ab6-fbf8442a1456"
      },
      "execution_count": null,
      "outputs": [
        {
          "output_type": "execute_result",
          "data": {
            "text/plain": [
              "5.830951894845301"
            ]
          },
          "metadata": {},
          "execution_count": 3
        }
      ]
    },
    {
      "cell_type": "code",
      "source": [
        "drive.flush_and_unmount() #save to drive when finishing work"
      ],
      "metadata": {
        "id": "7QZti8kQ1Y9n"
      },
      "execution_count": null,
      "outputs": []
    },
    {
      "cell_type": "code",
      "source": [],
      "metadata": {
        "id": "wlAWB-63xQ8t"
      },
      "execution_count": null,
      "outputs": []
    }
  ]
}