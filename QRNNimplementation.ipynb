{
  "nbformat": 4,
  "nbformat_minor": 0,
  "metadata": {
    "colab": {
      "provenance": [],
      "authorship_tag": "ABX9TyPAC+YbY9cBF6qHhjFHSbd4",
      "include_colab_link": true
    },
    "kernelspec": {
      "name": "python3",
      "display_name": "Python 3"
    },
    "language_info": {
      "name": "python"
    }
  },
  "cells": [
    {
      "cell_type": "markdown",
      "metadata": {
        "id": "view-in-github",
        "colab_type": "text"
      },
      "source": [
        "<a href=\"https://colab.research.google.com/github/ElektrosStulpas/QuantumRNN-BachelorsVU/blob/main/QRNNimplementation.ipynb\" target=\"_parent\"><img src=\"https://colab.research.google.com/assets/colab-badge.svg\" alt=\"Open In Colab\"/></a>"
      ]
    },
    {
      "cell_type": "markdown",
      "source": [
        "Install needed libraries"
      ],
      "metadata": {
        "id": "Lyk_e185DnkB"
      }
    },
    {
      "cell_type": "code",
      "execution_count": 2,
      "metadata": {
        "id": "oUfGmKr1yQFz",
        "colab": {
          "base_uri": "https://localhost:8080/"
        },
        "outputId": "db6a9bea-4e4b-4b5c-cd8d-a4e0dc65a66e"
      },
      "outputs": [
        {
          "output_type": "stream",
          "name": "stdout",
          "text": [
            "Looking in indexes: https://pypi.org/simple, https://us-python.pkg.dev/colab-wheels/public/simple/\n",
            "Collecting qiskit[visualization]\n",
            "  Downloading qiskit-0.42.1.tar.gz (14 kB)\n",
            "  Preparing metadata (setup.py) ... \u001b[?25l\u001b[?25hdone\n",
            "Collecting qiskit-terra==0.23.3\n",
            "  Downloading qiskit_terra-0.23.3-cp39-cp39-manylinux_2_17_x86_64.manylinux2014_x86_64.whl (5.1 MB)\n",
            "\u001b[2K     \u001b[90m━━━━━━━━━━━━━━━━━━━━━━━━━━━━━━━━━━━━━━━━\u001b[0m \u001b[32m5.1/5.1 MB\u001b[0m \u001b[31m68.3 MB/s\u001b[0m eta \u001b[36m0:00:00\u001b[0m\n",
            "\u001b[?25hCollecting qiskit-aer==0.12.0\n",
            "  Downloading qiskit_aer-0.12.0-cp39-cp39-manylinux_2_17_x86_64.manylinux2014_x86_64.whl (12.8 MB)\n",
            "\u001b[2K     \u001b[90m━━━━━━━━━━━━━━━━━━━━━━━━━━━━━━━━━━━━━━━━\u001b[0m \u001b[32m12.8/12.8 MB\u001b[0m \u001b[31m91.1 MB/s\u001b[0m eta \u001b[36m0:00:00\u001b[0m\n",
            "\u001b[?25hCollecting qiskit-ibmq-provider==0.20.2\n",
            "  Downloading qiskit_ibmq_provider-0.20.2-py3-none-any.whl (241 kB)\n",
            "\u001b[2K     \u001b[90m━━━━━━━━━━━━━━━━━━━━━━━━━━━━━━━━━━━━━━\u001b[0m \u001b[32m241.5/241.5 kB\u001b[0m \u001b[31m28.9 MB/s\u001b[0m eta \u001b[36m0:00:00\u001b[0m\n",
            "\u001b[?25hRequirement already satisfied: matplotlib>=2.1 in /usr/local/lib/python3.9/dist-packages (from qiskit[visualization]) (3.7.1)\n",
            "Requirement already satisfied: ipywidgets>=7.3.0 in /usr/local/lib/python3.9/dist-packages (from qiskit[visualization]) (7.7.1)\n",
            "Requirement already satisfied: pydot in /usr/local/lib/python3.9/dist-packages (from qiskit[visualization]) (1.4.2)\n",
            "Requirement already satisfied: pillow>=4.2.1 in /usr/local/lib/python3.9/dist-packages (from qiskit[visualization]) (8.4.0)\n",
            "Collecting pylatexenc>=1.4\n",
            "  Downloading pylatexenc-2.10.tar.gz (162 kB)\n",
            "\u001b[2K     \u001b[90m━━━━━━━━━━━━━━━━━━━━━━━━━━━━━━━━━━━━━━\u001b[0m \u001b[32m162.6/162.6 kB\u001b[0m \u001b[31m20.0 MB/s\u001b[0m eta \u001b[36m0:00:00\u001b[0m\n",
            "\u001b[?25h  Preparing metadata (setup.py) ... \u001b[?25l\u001b[?25hdone\n",
            "Requirement already satisfied: seaborn>=0.9.0 in /usr/local/lib/python3.9/dist-packages (from qiskit[visualization]) (0.12.2)\n",
            "Requirement already satisfied: pygments>=2.4 in /usr/local/lib/python3.9/dist-packages (from qiskit[visualization]) (2.14.0)\n",
            "Requirement already satisfied: numpy>=1.16.3 in /usr/local/lib/python3.9/dist-packages (from qiskit-aer==0.12.0->qiskit[visualization]) (1.22.4)\n",
            "Requirement already satisfied: scipy>=1.0 in /usr/local/lib/python3.9/dist-packages (from qiskit-aer==0.12.0->qiskit[visualization]) (1.10.1)\n",
            "Collecting websockets>=10.0\n",
            "  Downloading websockets-11.0.2-cp39-cp39-manylinux_2_5_x86_64.manylinux1_x86_64.manylinux_2_17_x86_64.manylinux2014_x86_64.whl (129 kB)\n",
            "\u001b[2K     \u001b[90m━━━━━━━━━━━━━━━━━━━━━━━━━━━━━━━━━━━━━━\u001b[0m \u001b[32m129.7/129.7 kB\u001b[0m \u001b[31m16.0 MB/s\u001b[0m eta \u001b[36m0:00:00\u001b[0m\n",
            "\u001b[?25hRequirement already satisfied: python-dateutil>=2.8.0 in /usr/local/lib/python3.9/dist-packages (from qiskit-ibmq-provider==0.20.2->qiskit[visualization]) (2.8.2)\n",
            "Requirement already satisfied: websocket-client>=1.5.1 in /usr/local/lib/python3.9/dist-packages (from qiskit-ibmq-provider==0.20.2->qiskit[visualization]) (1.5.1)\n",
            "Collecting requests-ntlm<=1.1.0\n",
            "  Downloading requests_ntlm-1.1.0-py2.py3-none-any.whl (5.7 kB)\n",
            "Requirement already satisfied: requests>=2.19 in /usr/local/lib/python3.9/dist-packages (from qiskit-ibmq-provider==0.20.2->qiskit[visualization]) (2.27.1)\n",
            "Requirement already satisfied: urllib3>=1.21.1 in /usr/local/lib/python3.9/dist-packages (from qiskit-ibmq-provider==0.20.2->qiskit[visualization]) (1.26.15)\n",
            "Collecting stevedore>=3.0.0\n",
            "  Downloading stevedore-5.0.0-py3-none-any.whl (49 kB)\n",
            "\u001b[2K     \u001b[90m━━━━━━━━━━━━━━━━━━━━━━━━━━━━━━━━━━━━━━━━\u001b[0m \u001b[32m49.6/49.6 kB\u001b[0m \u001b[31m5.3 MB/s\u001b[0m eta \u001b[36m0:00:00\u001b[0m\n",
            "\u001b[?25hCollecting rustworkx>=0.12.0\n",
            "  Downloading rustworkx-0.12.1-cp39-cp39-manylinux_2_17_x86_64.manylinux2014_x86_64.whl (1.9 MB)\n",
            "\u001b[2K     \u001b[90m━━━━━━━━━━━━━━━━━━━━━━━━━━━━━━━━━━━━━━━━\u001b[0m \u001b[32m1.9/1.9 MB\u001b[0m \u001b[31m55.6 MB/s\u001b[0m eta \u001b[36m0:00:00\u001b[0m\n",
            "\u001b[?25hRequirement already satisfied: psutil>=5 in /usr/local/lib/python3.9/dist-packages (from qiskit-terra==0.23.3->qiskit[visualization]) (5.9.5)\n",
            "Collecting symengine>=0.9\n",
            "  Downloading symengine-0.10.0-cp39-cp39-manylinux_2_12_x86_64.manylinux2010_x86_64.whl (37.5 MB)\n",
            "\u001b[2K     \u001b[90m━━━━━━━━━━━━━━━━━━━━━━━━━━━━━━━━━━━━━━━━\u001b[0m \u001b[32m37.5/37.5 MB\u001b[0m \u001b[31m27.5 MB/s\u001b[0m eta \u001b[36m0:00:00\u001b[0m\n",
            "\u001b[?25hRequirement already satisfied: sympy>=1.3 in /usr/local/lib/python3.9/dist-packages (from qiskit-terra==0.23.3->qiskit[visualization]) (1.11.1)\n",
            "Collecting dill>=0.3\n",
            "  Downloading dill-0.3.6-py3-none-any.whl (110 kB)\n",
            "\u001b[2K     \u001b[90m━━━━━━━━━━━━━━━━━━━━━━━━━━━━━━━━━━━━━━\u001b[0m \u001b[32m110.5/110.5 kB\u001b[0m \u001b[31m14.2 MB/s\u001b[0m eta \u001b[36m0:00:00\u001b[0m\n",
            "\u001b[?25hCollecting ply>=3.10\n",
            "  Downloading ply-3.11-py2.py3-none-any.whl (49 kB)\n",
            "\u001b[2K     \u001b[90m━━━━━━━━━━━━━━━━━━━━━━━━━━━━━━━━━━━━━━━━\u001b[0m \u001b[32m49.6/49.6 kB\u001b[0m \u001b[31m6.8 MB/s\u001b[0m eta \u001b[36m0:00:00\u001b[0m\n",
            "\u001b[?25hRequirement already satisfied: ipykernel>=4.5.1 in /usr/local/lib/python3.9/dist-packages (from ipywidgets>=7.3.0->qiskit[visualization]) (5.5.6)\n",
            "Requirement already satisfied: widgetsnbextension~=3.6.0 in /usr/local/lib/python3.9/dist-packages (from ipywidgets>=7.3.0->qiskit[visualization]) (3.6.4)\n",
            "Requirement already satisfied: ipython>=4.0.0 in /usr/local/lib/python3.9/dist-packages (from ipywidgets>=7.3.0->qiskit[visualization]) (7.34.0)\n",
            "Requirement already satisfied: jupyterlab-widgets>=1.0.0 in /usr/local/lib/python3.9/dist-packages (from ipywidgets>=7.3.0->qiskit[visualization]) (3.0.7)\n",
            "Requirement already satisfied: ipython-genutils~=0.2.0 in /usr/local/lib/python3.9/dist-packages (from ipywidgets>=7.3.0->qiskit[visualization]) (0.2.0)\n",
            "Requirement already satisfied: traitlets>=4.3.1 in /usr/local/lib/python3.9/dist-packages (from ipywidgets>=7.3.0->qiskit[visualization]) (5.7.1)\n",
            "Requirement already satisfied: fonttools>=4.22.0 in /usr/local/lib/python3.9/dist-packages (from matplotlib>=2.1->qiskit[visualization]) (4.39.3)\n",
            "Requirement already satisfied: kiwisolver>=1.0.1 in /usr/local/lib/python3.9/dist-packages (from matplotlib>=2.1->qiskit[visualization]) (1.4.4)\n",
            "Requirement already satisfied: contourpy>=1.0.1 in /usr/local/lib/python3.9/dist-packages (from matplotlib>=2.1->qiskit[visualization]) (1.0.7)\n",
            "Requirement already satisfied: cycler>=0.10 in /usr/local/lib/python3.9/dist-packages (from matplotlib>=2.1->qiskit[visualization]) (0.11.0)\n",
            "Requirement already satisfied: packaging>=20.0 in /usr/local/lib/python3.9/dist-packages (from matplotlib>=2.1->qiskit[visualization]) (23.1)\n",
            "Requirement already satisfied: importlib-resources>=3.2.0 in /usr/local/lib/python3.9/dist-packages (from matplotlib>=2.1->qiskit[visualization]) (5.12.0)\n",
            "Requirement already satisfied: pyparsing>=2.3.1 in /usr/local/lib/python3.9/dist-packages (from matplotlib>=2.1->qiskit[visualization]) (3.0.9)\n",
            "Requirement already satisfied: pandas>=0.25 in /usr/local/lib/python3.9/dist-packages (from seaborn>=0.9.0->qiskit[visualization]) (1.5.3)\n",
            "Requirement already satisfied: zipp>=3.1.0 in /usr/local/lib/python3.9/dist-packages (from importlib-resources>=3.2.0->matplotlib>=2.1->qiskit[visualization]) (3.15.0)\n",
            "Requirement already satisfied: jupyter-client in /usr/local/lib/python3.9/dist-packages (from ipykernel>=4.5.1->ipywidgets>=7.3.0->qiskit[visualization]) (6.1.12)\n",
            "Requirement already satisfied: tornado>=4.2 in /usr/local/lib/python3.9/dist-packages (from ipykernel>=4.5.1->ipywidgets>=7.3.0->qiskit[visualization]) (6.2)\n",
            "Requirement already satisfied: decorator in /usr/local/lib/python3.9/dist-packages (from ipython>=4.0.0->ipywidgets>=7.3.0->qiskit[visualization]) (4.4.2)\n",
            "Collecting jedi>=0.16\n",
            "  Downloading jedi-0.18.2-py2.py3-none-any.whl (1.6 MB)\n",
            "\u001b[2K     \u001b[90m━━━━━━━━━━━━━━━━━━━━━━━━━━━━━━━━━━━━━━━━\u001b[0m \u001b[32m1.6/1.6 MB\u001b[0m \u001b[31m81.0 MB/s\u001b[0m eta \u001b[36m0:00:00\u001b[0m\n",
            "\u001b[?25hRequirement already satisfied: backcall in /usr/local/lib/python3.9/dist-packages (from ipython>=4.0.0->ipywidgets>=7.3.0->qiskit[visualization]) (0.2.0)\n",
            "Requirement already satisfied: pexpect>4.3 in /usr/local/lib/python3.9/dist-packages (from ipython>=4.0.0->ipywidgets>=7.3.0->qiskit[visualization]) (4.8.0)\n",
            "Requirement already satisfied: pickleshare in /usr/local/lib/python3.9/dist-packages (from ipython>=4.0.0->ipywidgets>=7.3.0->qiskit[visualization]) (0.7.5)\n",
            "Requirement already satisfied: prompt-toolkit!=3.0.0,!=3.0.1,<3.1.0,>=2.0.0 in /usr/local/lib/python3.9/dist-packages (from ipython>=4.0.0->ipywidgets>=7.3.0->qiskit[visualization]) (3.0.38)\n",
            "Requirement already satisfied: setuptools>=18.5 in /usr/local/lib/python3.9/dist-packages (from ipython>=4.0.0->ipywidgets>=7.3.0->qiskit[visualization]) (67.6.1)\n",
            "Requirement already satisfied: matplotlib-inline in /usr/local/lib/python3.9/dist-packages (from ipython>=4.0.0->ipywidgets>=7.3.0->qiskit[visualization]) (0.1.6)\n",
            "Requirement already satisfied: pytz>=2020.1 in /usr/local/lib/python3.9/dist-packages (from pandas>=0.25->seaborn>=0.9.0->qiskit[visualization]) (2022.7.1)\n",
            "Requirement already satisfied: six>=1.5 in /usr/local/lib/python3.9/dist-packages (from python-dateutil>=2.8.0->qiskit-ibmq-provider==0.20.2->qiskit[visualization]) (1.16.0)\n",
            "Requirement already satisfied: certifi>=2017.4.17 in /usr/local/lib/python3.9/dist-packages (from requests>=2.19->qiskit-ibmq-provider==0.20.2->qiskit[visualization]) (2022.12.7)\n",
            "Requirement already satisfied: charset-normalizer~=2.0.0 in /usr/local/lib/python3.9/dist-packages (from requests>=2.19->qiskit-ibmq-provider==0.20.2->qiskit[visualization]) (2.0.12)\n",
            "Requirement already satisfied: idna<4,>=2.5 in /usr/local/lib/python3.9/dist-packages (from requests>=2.19->qiskit-ibmq-provider==0.20.2->qiskit[visualization]) (3.4)\n",
            "Collecting ntlm-auth>=1.0.2\n",
            "  Downloading ntlm_auth-1.5.0-py2.py3-none-any.whl (29 kB)\n",
            "Requirement already satisfied: cryptography>=1.3 in /usr/local/lib/python3.9/dist-packages (from requests-ntlm<=1.1.0->qiskit-ibmq-provider==0.20.2->qiskit[visualization]) (40.0.2)\n",
            "Collecting pbr!=2.1.0,>=2.0.0\n",
            "  Downloading pbr-5.11.1-py2.py3-none-any.whl (112 kB)\n",
            "\u001b[2K     \u001b[90m━━━━━━━━━━━━━━━━━━━━━━━━━━━━━━━━━━━━━━\u001b[0m \u001b[32m112.7/112.7 kB\u001b[0m \u001b[31m14.3 MB/s\u001b[0m eta \u001b[36m0:00:00\u001b[0m\n",
            "\u001b[?25hRequirement already satisfied: mpmath>=0.19 in /usr/local/lib/python3.9/dist-packages (from sympy>=1.3->qiskit-terra==0.23.3->qiskit[visualization]) (1.3.0)\n",
            "Requirement already satisfied: notebook>=4.4.1 in /usr/local/lib/python3.9/dist-packages (from widgetsnbextension~=3.6.0->ipywidgets>=7.3.0->qiskit[visualization]) (6.4.8)\n",
            "Requirement already satisfied: cffi>=1.12 in /usr/local/lib/python3.9/dist-packages (from cryptography>=1.3->requests-ntlm<=1.1.0->qiskit-ibmq-provider==0.20.2->qiskit[visualization]) (1.15.1)\n",
            "Requirement already satisfied: parso<0.9.0,>=0.8.0 in /usr/local/lib/python3.9/dist-packages (from jedi>=0.16->ipython>=4.0.0->ipywidgets>=7.3.0->qiskit[visualization]) (0.8.3)\n",
            "Requirement already satisfied: argon2-cffi in /usr/local/lib/python3.9/dist-packages (from notebook>=4.4.1->widgetsnbextension~=3.6.0->ipywidgets>=7.3.0->qiskit[visualization]) (21.3.0)\n",
            "Requirement already satisfied: jupyter-core>=4.6.1 in /usr/local/lib/python3.9/dist-packages (from notebook>=4.4.1->widgetsnbextension~=3.6.0->ipywidgets>=7.3.0->qiskit[visualization]) (5.3.0)\n",
            "Requirement already satisfied: jinja2 in /usr/local/lib/python3.9/dist-packages (from notebook>=4.4.1->widgetsnbextension~=3.6.0->ipywidgets>=7.3.0->qiskit[visualization]) (3.1.2)\n",
            "Requirement already satisfied: nbconvert in /usr/local/lib/python3.9/dist-packages (from notebook>=4.4.1->widgetsnbextension~=3.6.0->ipywidgets>=7.3.0->qiskit[visualization]) (6.5.4)\n",
            "Requirement already satisfied: Send2Trash>=1.8.0 in /usr/local/lib/python3.9/dist-packages (from notebook>=4.4.1->widgetsnbextension~=3.6.0->ipywidgets>=7.3.0->qiskit[visualization]) (1.8.0)\n",
            "Requirement already satisfied: terminado>=0.8.3 in /usr/local/lib/python3.9/dist-packages (from notebook>=4.4.1->widgetsnbextension~=3.6.0->ipywidgets>=7.3.0->qiskit[visualization]) (0.17.1)\n",
            "Requirement already satisfied: nbformat in /usr/local/lib/python3.9/dist-packages (from notebook>=4.4.1->widgetsnbextension~=3.6.0->ipywidgets>=7.3.0->qiskit[visualization]) (5.8.0)\n",
            "Requirement already satisfied: prometheus-client in /usr/local/lib/python3.9/dist-packages (from notebook>=4.4.1->widgetsnbextension~=3.6.0->ipywidgets>=7.3.0->qiskit[visualization]) (0.16.0)\n",
            "Requirement already satisfied: nest-asyncio>=1.5 in /usr/local/lib/python3.9/dist-packages (from notebook>=4.4.1->widgetsnbextension~=3.6.0->ipywidgets>=7.3.0->qiskit[visualization]) (1.5.6)\n",
            "Requirement already satisfied: pyzmq>=17 in /usr/local/lib/python3.9/dist-packages (from notebook>=4.4.1->widgetsnbextension~=3.6.0->ipywidgets>=7.3.0->qiskit[visualization]) (23.2.1)\n",
            "Requirement already satisfied: ptyprocess>=0.5 in /usr/local/lib/python3.9/dist-packages (from pexpect>4.3->ipython>=4.0.0->ipywidgets>=7.3.0->qiskit[visualization]) (0.7.0)\n",
            "Requirement already satisfied: wcwidth in /usr/local/lib/python3.9/dist-packages (from prompt-toolkit!=3.0.0,!=3.0.1,<3.1.0,>=2.0.0->ipython>=4.0.0->ipywidgets>=7.3.0->qiskit[visualization]) (0.2.6)\n",
            "Requirement already satisfied: pycparser in /usr/local/lib/python3.9/dist-packages (from cffi>=1.12->cryptography>=1.3->requests-ntlm<=1.1.0->qiskit-ibmq-provider==0.20.2->qiskit[visualization]) (2.21)\n",
            "Requirement already satisfied: platformdirs>=2.5 in /usr/local/lib/python3.9/dist-packages (from jupyter-core>=4.6.1->notebook>=4.4.1->widgetsnbextension~=3.6.0->ipywidgets>=7.3.0->qiskit[visualization]) (3.2.0)\n",
            "Requirement already satisfied: argon2-cffi-bindings in /usr/local/lib/python3.9/dist-packages (from argon2-cffi->notebook>=4.4.1->widgetsnbextension~=3.6.0->ipywidgets>=7.3.0->qiskit[visualization]) (21.2.0)\n",
            "Requirement already satisfied: MarkupSafe>=2.0 in /usr/local/lib/python3.9/dist-packages (from jinja2->notebook>=4.4.1->widgetsnbextension~=3.6.0->ipywidgets>=7.3.0->qiskit[visualization]) (2.1.2)\n",
            "Requirement already satisfied: tinycss2 in /usr/local/lib/python3.9/dist-packages (from nbconvert->notebook>=4.4.1->widgetsnbextension~=3.6.0->ipywidgets>=7.3.0->qiskit[visualization]) (1.2.1)\n",
            "Requirement already satisfied: bleach in /usr/local/lib/python3.9/dist-packages (from nbconvert->notebook>=4.4.1->widgetsnbextension~=3.6.0->ipywidgets>=7.3.0->qiskit[visualization]) (6.0.0)\n",
            "Requirement already satisfied: beautifulsoup4 in /usr/local/lib/python3.9/dist-packages (from nbconvert->notebook>=4.4.1->widgetsnbextension~=3.6.0->ipywidgets>=7.3.0->qiskit[visualization]) (4.11.2)\n",
            "Requirement already satisfied: jupyterlab-pygments in /usr/local/lib/python3.9/dist-packages (from nbconvert->notebook>=4.4.1->widgetsnbextension~=3.6.0->ipywidgets>=7.3.0->qiskit[visualization]) (0.2.2)\n",
            "Requirement already satisfied: mistune<2,>=0.8.1 in /usr/local/lib/python3.9/dist-packages (from nbconvert->notebook>=4.4.1->widgetsnbextension~=3.6.0->ipywidgets>=7.3.0->qiskit[visualization]) (0.8.4)\n",
            "Requirement already satisfied: pandocfilters>=1.4.1 in /usr/local/lib/python3.9/dist-packages (from nbconvert->notebook>=4.4.1->widgetsnbextension~=3.6.0->ipywidgets>=7.3.0->qiskit[visualization]) (1.5.0)\n",
            "Requirement already satisfied: lxml in /usr/local/lib/python3.9/dist-packages (from nbconvert->notebook>=4.4.1->widgetsnbextension~=3.6.0->ipywidgets>=7.3.0->qiskit[visualization]) (4.9.2)\n",
            "Requirement already satisfied: entrypoints>=0.2.2 in /usr/local/lib/python3.9/dist-packages (from nbconvert->notebook>=4.4.1->widgetsnbextension~=3.6.0->ipywidgets>=7.3.0->qiskit[visualization]) (0.4)\n",
            "Requirement already satisfied: defusedxml in /usr/local/lib/python3.9/dist-packages (from nbconvert->notebook>=4.4.1->widgetsnbextension~=3.6.0->ipywidgets>=7.3.0->qiskit[visualization]) (0.7.1)\n",
            "Requirement already satisfied: nbclient>=0.5.0 in /usr/local/lib/python3.9/dist-packages (from nbconvert->notebook>=4.4.1->widgetsnbextension~=3.6.0->ipywidgets>=7.3.0->qiskit[visualization]) (0.7.3)\n",
            "Requirement already satisfied: jsonschema>=2.6 in /usr/local/lib/python3.9/dist-packages (from nbformat->notebook>=4.4.1->widgetsnbextension~=3.6.0->ipywidgets>=7.3.0->qiskit[visualization]) (4.3.3)\n",
            "Requirement already satisfied: fastjsonschema in /usr/local/lib/python3.9/dist-packages (from nbformat->notebook>=4.4.1->widgetsnbextension~=3.6.0->ipywidgets>=7.3.0->qiskit[visualization]) (2.16.3)\n",
            "Requirement already satisfied: attrs>=17.4.0 in /usr/local/lib/python3.9/dist-packages (from jsonschema>=2.6->nbformat->notebook>=4.4.1->widgetsnbextension~=3.6.0->ipywidgets>=7.3.0->qiskit[visualization]) (23.1.0)\n",
            "Requirement already satisfied: pyrsistent!=0.17.0,!=0.17.1,!=0.17.2,>=0.14.0 in /usr/local/lib/python3.9/dist-packages (from jsonschema>=2.6->nbformat->notebook>=4.4.1->widgetsnbextension~=3.6.0->ipywidgets>=7.3.0->qiskit[visualization]) (0.19.3)\n",
            "Requirement already satisfied: soupsieve>1.2 in /usr/local/lib/python3.9/dist-packages (from beautifulsoup4->nbconvert->notebook>=4.4.1->widgetsnbextension~=3.6.0->ipywidgets>=7.3.0->qiskit[visualization]) (2.4.1)\n",
            "Requirement already satisfied: webencodings in /usr/local/lib/python3.9/dist-packages (from bleach->nbconvert->notebook>=4.4.1->widgetsnbextension~=3.6.0->ipywidgets>=7.3.0->qiskit[visualization]) (0.5.1)\n",
            "Building wheels for collected packages: pylatexenc, qiskit\n",
            "  Building wheel for pylatexenc (setup.py) ... \u001b[?25l\u001b[?25hdone\n",
            "  Created wheel for pylatexenc: filename=pylatexenc-2.10-py3-none-any.whl size=136831 sha256=e816900de52d3870b0ce9f8ac225cbbd7f1dcbe129801eafdcf1dabac8ead4d6\n",
            "  Stored in directory: /root/.cache/pip/wheels/a3/68/66/2f15abd0673d83c02f354115feedeb89c3daed2ac319b11090\n",
            "  Building wheel for qiskit (setup.py) ... \u001b[?25l\u001b[?25hdone\n",
            "  Created wheel for qiskit: filename=qiskit-0.42.1-py3-none-any.whl size=12938 sha256=b2cddf6801db5900e82d10f64fa11d0a8980fdff1f44c63cf8160ec4bbd42016\n",
            "  Stored in directory: /root/.cache/pip/wheels/40/64/74/29c046bda04fd60f3f6b2e244fa85b70f219e363fc3373f541\n",
            "Successfully built pylatexenc qiskit\n",
            "Installing collected packages: pylatexenc, ply, websockets, symengine, rustworkx, pbr, ntlm-auth, jedi, dill, stevedore, requests-ntlm, qiskit-terra, qiskit-ibmq-provider, qiskit-aer, qiskit\n",
            "Successfully installed dill-0.3.6 jedi-0.18.2 ntlm-auth-1.5.0 pbr-5.11.1 ply-3.11 pylatexenc-2.10 qiskit-0.42.1 qiskit-aer-0.12.0 qiskit-ibmq-provider-0.20.2 qiskit-terra-0.23.3 requests-ntlm-1.1.0 rustworkx-0.12.1 stevedore-5.0.0 symengine-0.10.0 websockets-11.0.2\n"
          ]
        }
      ],
      "source": [
        "!pip install qiskit[visualization]"
      ]
    },
    {
      "cell_type": "markdown",
      "source": [
        "Data preparation"
      ],
      "metadata": {
        "id": "VdSx3Sb5kJ61"
      }
    },
    {
      "cell_type": "code",
      "source": [
        "from google.colab import drive\n",
        "import pandas as pd\n",
        "import os\n",
        "import numpy as np"
      ],
      "metadata": {
        "id": "IXPbBmtCkRax"
      },
      "execution_count": 3,
      "outputs": []
    },
    {
      "cell_type": "code",
      "source": [
        "drive.mount('/content/drive')"
      ],
      "metadata": {
        "colab": {
          "base_uri": "https://localhost:8080/"
        },
        "id": "c8IZmG2bNvof",
        "outputId": "9a545641-45e0-4331-d13a-e713aa97d3ae"
      },
      "execution_count": 4,
      "outputs": [
        {
          "output_type": "stream",
          "name": "stdout",
          "text": [
            "Mounted at /content/drive\n"
          ]
        }
      ]
    },
    {
      "cell_type": "code",
      "source": [
        "SPY_5YEAR_DAILY = 'duomenys_yahoo_SPY_20220424.csv'\n",
        "root_path = \"/content/drive/MyDrive/QRNNData\"\n",
        "\n",
        "def load_stock_data_from_drive(root_path, data_file_name):\n",
        "  data = pd.read_csv(os.path.join(root_path, SPY_5YEAR_DAILY))\n",
        "  return data"
      ],
      "metadata": {
        "id": "0MowPchrN87t"
      },
      "execution_count": 5,
      "outputs": []
    },
    {
      "cell_type": "code",
      "source": [
        "#currently data passed in as series and passed out as series\n",
        "def rescale_data(data, new_scale_from, new_scale_to, maxmin):\n",
        "  #NORMALIZATION FORMULA from https://stats.stackexchange.com/questions/178626/how-to-normalize-data-between-1-and-1\n",
        "  rescaled_x = (new_scale_to-new_scale_from) * ((data - maxmin[1]) / ( maxmin[0] - maxmin[1])) + new_scale_from\n",
        "\n",
        "  return rescaled_x"
      ],
      "metadata": {
        "id": "bGUsy0NhN5b9"
      },
      "execution_count": 6,
      "outputs": []
    },
    {
      "cell_type": "code",
      "source": [
        "spy_data = load_stock_data_from_drive(root_path, SPY_5YEAR_DAILY)\n",
        "close_data = spy_data[\"Close\"]\n",
        "\n",
        "data_maxmin = max(close_data), min(close_data)\n",
        "\n",
        "labels = close_data.shift(-1)\n",
        "inputs = rescale_data(close_data, -1, 1, data_maxmin)\n",
        "\n",
        "TRAIN_len = 300 - 300%7\n",
        "inputs_TRAIN = np.array(inputs[:TRAIN_len]).reshape(-1, 7)\n",
        "labels_TRAIN = np.array(labels[:TRAIN_len]).reshape(-1, 7)\n",
        "training_data = list(zip(inputs_TRAIN, labels_TRAIN))\n",
        "\n",
        "VALID_len = (200 - 200%7) + 300\n",
        "inputs_VALID = np.array(inputs[300:VALID_len]).reshape(-1, 7)\n",
        "labels_VALID = np.array(labels[300:VALID_len]).reshape(-1, 7)\n",
        "validation_data = list(zip(inputs_VALID, labels_VALID))"
      ],
      "metadata": {
        "id": "hj92oaspbVAM"
      },
      "execution_count": 7,
      "outputs": []
    },
    {
      "cell_type": "code",
      "source": [
        "for input, label in training_data:\n",
        "  print(f\"{input} {label}\")"
      ],
      "metadata": {
        "colab": {
          "base_uri": "https://localhost:8080/"
        },
        "id": "VDIPkRpMUg1q",
        "outputId": "bcd407fa-fce1-48e4-ccf3-371b1e374c93"
      },
      "execution_count": 8,
      "outputs": [
        {
          "output_type": "stream",
          "name": "stdout",
          "text": [
            "[-0.88836551 -0.87753174 -0.87870939 -0.87713919 -0.8812215  -0.87651125\n",
            " -0.87580462] [238.550003 238.399994 238.600006 238.080002 238.679993 238.770004\n",
            " 238.479996]\n",
            "[-0.87808134 -0.8758832  -0.86850369 -0.86881765 -0.87054478 -0.86716911\n",
            " -0.87101579] [238.759995 239.699997 239.660004 239.440002 239.869995 239.380005\n",
            " 238.979996]\n",
            "[-0.87415607 -0.86379332 -0.86552045 -0.89896365 -0.89150567 -0.87941591\n",
            " -0.86991673] [240.300003 240.080002 235.820007 236.770004 238.309998 239.520004\n",
            " 240.050003]\n",
            "[-0.86575596 -0.86135968 -0.85233162 -0.85272405 -0.85437272 -0.85484373\n",
            " -0.83977073] [240.610001 241.759995 241.710007 241.5      241.440002 243.360001\n",
            " 244.169998]\n",
            "[-0.83341183 -0.83482487 -0.84094826 -0.83741555 -0.83647352 -0.83937818\n",
            " -0.83977073] [243.990005 243.210007 243.660004 243.779999 243.410004 243.360001\n",
            " 244.550003]\n",
            "[-0.83042859 -0.83286224 -0.83655199 -0.84542312 -0.82956502 -0.84251846\n",
            " -0.84298948] [244.240005 243.770004 242.639999 244.660004 243.009995 242.949997\n",
            " 242.839996]\n",
            "[-0.84385304 -0.84157632 -0.84032033 -0.85570729 -0.83875013 -0.85555025\n",
            " -0.85201753] [243.130005 243.289993 241.330002 243.490005 241.350006 241.800003\n",
            " 242.210007]\n",
            "[-0.84879879 -0.84440252 -0.86183069 -0.84958389 -0.8475428  -0.84895584\n",
            " -0.83466793] [242.770004 240.550003 242.110001 242.369995 242.190002 244.009995\n",
            " 244.419998]\n",
            "[-0.8314492  -0.8224996  -0.8227351  -0.8217145  -0.81127329 -0.81040972\n",
            " -0.81213685] [245.559998 245.529999 245.660004 246.990005 247.100006 246.880005\n",
            " 246.820007]\n",
            "[-0.81260786 -0.80789762 -0.80781915 -0.80962474 -0.81190134 -0.81300041\n",
            " -0.8086826 ] [247.419998 247.429993 247.199997 246.910004 246.770004 247.320007\n",
            " 247.440002]\n",
            "[-0.80774057 -0.81150879 -0.80797607 -0.8043649  -0.80915372 -0.80923219\n",
            " -0.83663057] [246.960007 247.410004 247.869995 247.259995 247.25     243.759995\n",
            " 244.119995]\n",
            "[-0.83380438 -0.81480612 -0.81504162 -0.81166584 -0.84189041 -0.84487352\n",
            " -0.84338203] [246.539993 246.509995 246.940002 243.089996 242.710007 242.899994\n",
            " 245.440002]\n",
            "[-0.82344163 -0.83035012 -0.83482487 -0.83035012 -0.83027155 -0.82807341\n",
            " -0.81896688] [244.559998 243.990005 244.559998 244.570007 244.850006 246.009995\n",
            " 247.490005]\n",
            "[-0.80734802 -0.80460041 -0.81857433 -0.81197992 -0.81221543 -0.81449203\n",
            " -0.7938451 ] [247.839996 246.059998 246.899994 246.869995 246.580002 249.210007\n",
            " 250.050003]\n",
            "[-0.78725069 -0.78630867 -0.78693673 -0.79400215 -0.78984138 -0.78787875\n",
            " -0.78717223] [250.169998 250.089996 249.190002 249.720001 249.970001 250.059998\n",
            " 249.389999]\n",
            "[-0.79243207 -0.79203952 -0.79604336 -0.79486571 -0.78725069 -0.78489551\n",
            " -0.77798713] [249.440002 248.929993 249.080002 250.050003 250.350006 251.229996\n",
            " 252.320007]\n",
            "[-0.76942997 -0.76519073 -0.76283555 -0.75105976 -0.75333648 -0.75663369\n",
            " -0.75137385] [252.860001 253.160004 254.660004 254.369995 253.949997 254.619995\n",
            " 255.020004]\n",
            "[-0.74823357 -0.75121681 -0.74878316 -0.74611402 -0.74470086 -0.74273823\n",
            " -0.74218875] [254.639999 254.949997 255.289993 255.470001 255.720001 255.789993\n",
            " 257.109985]\n",
            "[-0.73182612 -0.73967665 -0.73614381 -0.74611402 -0.74352333 -0.72711576\n",
            " -0.73465219] [256.109985 256.559998 255.289993 255.619995 257.709991 256.75\n",
            " 257.149994]\n",
            "[-0.73151203 -0.72884288 -0.72805778 -0.7213062  -0.71816604 -0.71957908\n",
            " -0.71612507] [257.48999  257.589996 258.450012 258.850006 258.670013 259.109985\n",
            " 258.170013]\n",
            "[-0.72350434 -0.72413252 -0.72224846 -0.72695859 -0.73708584 -0.71997175\n",
            " -0.72593823] [258.089996 258.329987 257.730011 256.440002 258.619995 257.859985\n",
            " 258.299988]\n",
            "[-0.72248397 -0.70921657 -0.71102203 -0.70631191 -0.70733227 -0.68660701\n",
            " -0.68786313] [259.98999  259.76001  260.359985 260.230011 262.869995 262.709991\n",
            " 265.01001 ]\n",
            "[-0.66980677 -0.67412471 -0.67663669 -0.68409479 -0.68370236 -0.67718629\n",
            " -0.6658815 ] [264.459991 264.140015 263.190002 263.23999  264.070007 265.51001\n",
            " 266.309998]\n",
            "[-0.65960118 -0.65591142 -0.65614693 -0.66470397 -0.65803098 -0.64476357\n",
            " -0.65284961] [266.779999 266.75     265.660004 266.51001  268.200012 267.170013\n",
            " 267.029999]\n",
            "[-0.65394879 -0.6496311  -0.65018045 -0.65269268 -0.65167208 -0.64735438\n",
            " -0.65528349] [267.579987 267.51001  267.190002 267.320007 267.869995 266.859985\n",
            " 268.769989]\n",
            "[-0.64028895 -0.62694296 -0.61799349 -0.60378382 -0.59985856 -0.59499126\n",
            " -0.59828859] [270.470001 271.609985 273.420013 273.920013 274.540009 274.119995\n",
            " 276.119995]\n",
            "[-0.58258754 -0.56845645 -0.57591454 -0.55518928 -0.55887879 -0.54890871\n",
            " -0.53100953] [277.920013 276.970001 279.609985 279.140015 280.410004 282.690002\n",
            " 283.290009]\n",
            "[-0.52629916 -0.52716284 -0.52622082 -0.5004711  -0.51538705 -0.53831045\n",
            " -0.53721151] [283.179993 283.299988 286.579987 284.679993 281.76001  281.899994\n",
            " 281.579987]\n",
            "[-0.53972373 -0.58784726 -0.67828547 -0.63746264 -0.64892434 -0.72774369\n",
            " -0.69736219] [275.450012 263.929993 269.130005 267.670013 257.630005 261.5\n",
            " 265.339996]\n",
            "[-0.6672162  -0.66203482 -0.63385147 -0.60684563 -0.6062177  -0.61964203\n",
            " -0.63024029] [266.       269.589996 273.029999 273.109985 271.399994 270.049988\n",
            " 270.399994]\n",
            "[-0.62749256 -0.59365681 -0.56861361 -0.59585494 -0.6176794  -0.64868884\n",
            " -0.63785531] [274.709991 277.899994 274.429993 271.649994 267.700012 269.079987\n",
            " 272.190002]\n",
            "[-0.61344005 -0.60802317 -0.60880827 -0.59844552 -0.56099859 -0.56374632\n",
            " -0.57787718] [272.880005 272.779999 274.100006 278.869995 278.519989 276.720001\n",
            " 275.299988]\n",
            "[-0.58902503 -0.59138009 -0.59766042 -0.62678604 -0.62317463 -0.62725705\n",
            " -0.68032645] [275.       274.200012 270.48999  270.950012 270.429993 263.670013\n",
            " 258.049988]\n",
            "[-0.7244466  -0.66902191 -0.70442762 -0.71047267 -0.68440887 -0.72899981\n",
            " -0.70309316] [265.109985 260.600006 259.829987 263.149994 257.470001 260.769989\n",
            " 263.559998]\n",
            "[-0.68119012 -0.6648609  -0.71133612 -0.70128746 -0.66870782 -0.67961992\n",
            " -0.66258442] [265.640015 259.720001 261.       265.149994 263.76001  265.929993\n",
            " 265.149994]\n",
            "[-0.66870782 -0.65159373 -0.6291411  -0.6275709  -0.63934669 -0.65724612\n",
            " -0.65755997] [267.329987 270.190002 270.390015 268.890015 266.609985 266.570007\n",
            " 262.980011]\n",
            "[-0.68574333 -0.68064053 -0.65960118 -0.65763855 -0.67373203 -0.67004228\n",
            " -0.6840162 ] [263.630005 266.309998 266.559998 264.51001  264.980011 263.200012\n",
            " 262.619995]\n",
            "[-0.68856964 -0.6618779  -0.65481224 -0.65481224 -0.63455798 -0.61477474\n",
            " -0.60825867] [266.019989 266.920013 266.920013 269.5      272.019989 272.850006\n",
            " 272.980011]\n",
            "[-0.60723807 -0.62199709 -0.61304762 -0.61485308 -0.62019162 -0.60417649\n",
            " -0.61014296] [271.100006 272.23999  272.01001  271.329987 273.369995 272.609985\n",
            " 273.359985]\n",
            "[-0.60425507 -0.60865134 -0.61375414 -0.63832632 -0.61014296 -0.62325321\n",
            " -0.60237078] [272.799988 272.149994 269.019989 272.609985 270.940002 273.600006\n",
            " 274.899994]\n",
            "[-0.59216519 -0.59059499 -0.57253887 -0.57277438 -0.5663369  -0.56343223\n",
            " -0.56060592] [275.100006 277.399994 277.369995 278.190002 278.559998 278.920013\n",
            " 278.029999]\n",
            "[-0.567593   -0.56209754 -0.57465843 -0.57913328 -0.58745483 -0.58376507\n",
            " -0.59734657] [278.730011 277.130005 276.559998 275.5      275.970001 274.23999\n",
            " 274.73999 ]\n"
          ]
        }
      ]
    },
    {
      "cell_type": "code",
      "source": [
        "print(f\"labels_TRAIN len: {len(labels_TRAIN)}, input_TRAIN len: {len(inputs_TRAIN)}, labels_VALID len: {len(labels_VALID)}, input_VALID len: {len(inputs_VALID)}\")"
      ],
      "metadata": {
        "colab": {
          "base_uri": "https://localhost:8080/"
        },
        "id": "yXqVk1Sa3NaY",
        "outputId": "7ee462c2-97bd-4634-d7da-b1b6c8c67a66"
      },
      "execution_count": 9,
      "outputs": [
        {
          "output_type": "stream",
          "name": "stdout",
          "text": [
            "labels_TRAIN len: 42, input_TRAIN len: 42, labels_VALID len: 28, input_VALID len: 28\n"
          ]
        }
      ]
    },
    {
      "cell_type": "markdown",
      "source": [
        "Model"
      ],
      "metadata": {
        "id": "dWTSndrokOGm"
      }
    },
    {
      "cell_type": "code",
      "source": [
        "from qiskit import QuantumCircuit, transpile\n",
        "from qiskit.providers.aer import QasmSimulator\n",
        "import qiskit.quantum_info as qi\n",
        "\n",
        "import numpy as np"
      ],
      "metadata": {
        "id": "AKhFsQr90i8Q"
      },
      "execution_count": 10,
      "outputs": []
    },
    {
      "cell_type": "code",
      "source": [
        "#takes input vector of value from -1 to 1, outputs predictions vector in the same value range\n",
        "class QRNN:\n",
        "  def __init__(self, q_reg=3, params=None):\n",
        "    self.QRNN_circuit = QuantumCircuit(q_reg*2)\n",
        "    self.qubits_per_reg = q_reg\n",
        "\n",
        "    if params is not None:\n",
        "      self.params = params\n",
        "    else:\n",
        "       self.params = self.init_random_params()\n",
        "\n",
        "    self.ansatz = self.construct_ansatz()\n",
        "\n",
        "\n",
        "  def set_params(self, params):\n",
        "    self.params = params\n",
        "    self.ansatz = self.construct_ansatz()\n",
        "\n",
        "  def get_params(self):\n",
        "    return self.params\n",
        "\n",
        "\n",
        "  def forward(self, x_vec):\n",
        "    prediction_vec = []\n",
        "\n",
        "    self.QRNN_circuit.reset(list(range(self.qubits_per_reg*2)))\n",
        "\n",
        "    for idx in range(7):\n",
        "      self.QRNN_circuit.reset(list(range(self.qubits_per_reg)))\n",
        "      encoding_circ = self.construct_enc_circ(x_vec[idx])\n",
        "      self.QRNN_circuit.compose(encoding_circ, list(range(self.qubits_per_reg)), inplace=True)\n",
        "\n",
        "      self.QRNN_circuit.compose(self.ansatz, inplace=True, wrap=True)\n",
        "\n",
        "      y_t = self.partial_trace_measure(self.QRNN_circuit)\n",
        "      # prediction_vec.append(abs(y_t)*2-1) # getting the magnitude of complex number and rescaling from 0:1 to -1:1\n",
        "      prediction_vec.append(abs(y_t))\n",
        "\n",
        "    return np.array(prediction_vec)\n",
        "\n",
        "\n",
        "  def backward():\n",
        "    print(\"backward pass\")\n",
        "\n",
        "\n",
        "  def construct_enc_circ(self, x_val):\n",
        "    enc_circ = QuantumCircuit(self.qubits_per_reg)\n",
        "\n",
        "    for qubit in range(self.qubits_per_reg):\n",
        "      enc_circ.ry(np.arccos(x_val), qubit)\n",
        "\n",
        "    return enc_circ\n",
        "\n",
        "\n",
        "  def construct_ansatz(self):\n",
        "    theta_gamma_params = self.params\n",
        "\n",
        "    ansatz = QuantumCircuit(self.qubits_per_reg*2)\n",
        "\n",
        "    qu_indexes = list(range(self.qubits_per_reg*2))\n",
        "    qu_indexes_rolled = list(range(1, self.qubits_per_reg*2))\n",
        "    qu_indexes_rolled.append(0)\n",
        "\n",
        "    for idx in qu_indexes:\n",
        "      ansatz.rx(theta_gamma_params[idx][0], idx)\n",
        "      ansatz.rz(theta_gamma_params[idx][1], idx)\n",
        "      ansatz.rx(theta_gamma_params[idx][2], idx)\n",
        "\n",
        "    for idx in qu_indexes:\n",
        "      ansatz.cnot(idx, qu_indexes_rolled[idx])\n",
        "      ansatz.rz(theta_gamma_params[idx][3], qu_indexes_rolled[idx])\n",
        "      ansatz.cnot(idx, qu_indexes_rolled[idx])\n",
        "\n",
        "    return ansatz\n",
        "\n",
        "\n",
        "  def partial_trace_measure(self, circuit):\n",
        "    circ_dens_matrix = qi.DensityMatrix.from_instruction(circuit)\n",
        "    qubits_to_trace_out = list(range(self.qubits_per_reg*2))[1:]\n",
        "\n",
        "    measured_qubit_rho = qi.partial_trace(circ_dens_matrix, qubits_to_trace_out)\n",
        "\n",
        "    ket1 = qi.Statevector([0, 1])\n",
        "    projector1 = ket1.to_operator()\n",
        "\n",
        "    trimmed_measured_qubit_rho = measured_qubit_rho.evolve(projector1)\n",
        "    prediction_y = trimmed_measured_qubit_rho.trace()\n",
        "\n",
        "    return prediction_y\n",
        "\n",
        "\n",
        "  def init_random_params(self):\n",
        "    rng = np.random.default_rng()\n",
        "    theta_gamma_params = np.arccos(rng.uniform(-1, 1, size=(self.qubits_per_reg*2, 4))) #6x3 theta params and 6x1 gamma params\n",
        "    return theta_gamma_params"
      ],
      "metadata": {
        "id": "uFuHWTTa0mRS"
      },
      "execution_count": 59,
      "outputs": []
    },
    {
      "cell_type": "code",
      "source": [
        "qubit_num = 6\n",
        "rng = np.random.default_rng()\n",
        "theta_gamma_params = np.arccos(rng.uniform(-1, 1, size=(qubit_num, 4)))\n",
        "\n",
        "print(theta_gamma_params)\n",
        "\n",
        "qu_indexes = list(range(qubit_num))\n",
        "qu_indexes_rolled = list(range(1, qubit_num))\n",
        "qu_indexes_rolled.append(0)\n",
        "\n",
        "for idx in qu_indexes:\n",
        "  print(f\"RX: {theta_gamma_params[idx][0]}, RZ: {theta_gamma_params[idx][1]}, RX: {theta_gamma_params[idx][2]} for qubit {idx}\")\n",
        "\n",
        "for idx in qu_indexes:\n",
        "  print(f\"RZ: {theta_gamma_params[idx][3]} gamma on qubit {qu_indexes_rolled[idx]}\")"
      ],
      "metadata": {
        "colab": {
          "base_uri": "https://localhost:8080/"
        },
        "id": "NhSKXG_ja6kw",
        "outputId": "27e4987d-37ae-4555-8017-0d62c9f3ba5a"
      },
      "execution_count": 60,
      "outputs": [
        {
          "output_type": "stream",
          "name": "stdout",
          "text": [
            "[[2.57393776 0.32668393 1.70062737 1.78777584]\n",
            " [1.38007356 1.06300907 1.34786653 0.30114061]\n",
            " [1.22640936 0.41132227 1.46605615 0.74123968]\n",
            " [0.78558536 0.59552608 1.55033411 2.54309994]\n",
            " [1.89590943 1.77138748 2.56320786 2.36060627]\n",
            " [2.28907802 1.44743372 1.74494374 1.64288141]]\n",
            "RX: 2.5739377582116396, RZ: 0.3266839258533356, RX: 1.7006273739509454 for qubit 0\n",
            "RX: 1.3800735630503356, RZ: 1.063009074535434, RX: 1.3478665315270686 for qubit 1\n",
            "RX: 1.2264093565781553, RZ: 0.41132226805190636, RX: 1.4660561521235569 for qubit 2\n",
            "RX: 0.785585360899694, RZ: 0.5955260788126788, RX: 1.5503341127258181 for qubit 3\n",
            "RX: 1.8959094271189099, RZ: 1.7713874824593834, RX: 2.563207862271144 for qubit 4\n",
            "RX: 2.289078022842739, RZ: 1.4474337232440422, RX: 1.7449437408244537 for qubit 5\n",
            "RZ: 1.7877758383488531 gamma on qubit 1\n",
            "RZ: 0.30114061075442344 gamma on qubit 2\n",
            "RZ: 0.7412396778591333 gamma on qubit 3\n",
            "RZ: 2.54309994074857 gamma on qubit 4\n",
            "RZ: 2.3606062721289693 gamma on qubit 5\n",
            "RZ: 1.6428814093670079 gamma on qubit 0\n"
          ]
        }
      ]
    },
    {
      "cell_type": "markdown",
      "source": [
        "TRAINING"
      ],
      "metadata": {
        "id": "dyYDCrediOO8"
      }
    },
    {
      "cell_type": "code",
      "source": [
        "import random"
      ],
      "metadata": {
        "id": "iZOeS8U_UCp-"
      },
      "execution_count": 61,
      "outputs": []
    },
    {
      "cell_type": "code",
      "source": [
        "def L2_loss(predictions_vec, true_vec):\n",
        "  loss = np.mean((predictions_vec-true_vec)**2)\n",
        "  return loss\n",
        "\n",
        "# arr1 = np.array([2, 5, 7])\n",
        "# arr2 = np.array([-1, 3, 6])\n",
        "\n",
        "# L2_loss(arr2, arr1)"
      ],
      "metadata": {
        "id": "_XrU02R5Nsuy"
      },
      "execution_count": 62,
      "outputs": []
    },
    {
      "cell_type": "code",
      "source": [
        "def postprocess_output(output, x_max, x_min):\n",
        "  return output * (x_max-x_min) + x_min"
      ],
      "metadata": {
        "id": "zRG4ukZElqyJ"
      },
      "execution_count": 63,
      "outputs": []
    },
    {
      "cell_type": "code",
      "source": [
        "def gradient_descent(params, input, labels, maxmin, perturbation=0.001, lr=0.03):\n",
        "  params_1d = np.reshape(params, -1)\n",
        "  len_params = len(params_1d)\n",
        "  gradients = np.zeros(len_params)\n",
        "\n",
        "  #for every parameter\n",
        "  for idx in range(len_params):\n",
        "    #generate index vector\n",
        "    e_vec = np.zeros(len_params)\n",
        "    e_vec[idx] = 1\n",
        "\n",
        "    #generate params with finite diff to both sides\n",
        "    params_1d_plus = params_1d + perturbation*e_vec\n",
        "    params_plus = np.reshape(params_1d_plus, (6, 4)) # that 6 is hard coded\n",
        "    params_1d_minus = params_1d - perturbation*e_vec\n",
        "    params_minus = np.reshape(params_1d_minus, (6, 4)) # that 6 is hard coded\n",
        "\n",
        "    #create QRNNs with the finite difference params\n",
        "    QRNN_plus = QRNN(params=params_plus)\n",
        "    QRNN_minus = QRNN(params=params_minus)\n",
        "\n",
        "    # run forward pass to get predictions \n",
        "    predictions_plus = postprocess_output(QRNN_plus.forward(input), maxmin[0], maxmin[1])\n",
        "    predictions_minus = postprocess_output(QRNN_minus.forward(input), maxmin[0], maxmin[1])\n",
        "\n",
        "    #calculate gradient for this parameter\n",
        "    gradients[idx] = (L2_loss(predictions_plus, labels)-L2_loss(predictions_minus, labels)) / (2*perturbation)\n",
        "\n",
        "  # print(f\"Params 1 dim: \\n{params_1d}\")\n",
        "  # print(f\"Gradients \\n{gradients}\")\n",
        "  # print(f\"Gradients with lr: \\n{gradients*lr}\")\n",
        "\n",
        "  #apply gradients to parameters and return the updated parameters\n",
        "  params_1d = params_1d + gradients*lr\n",
        "\n",
        "  # print(f\"Params 1 dim after applying gradients: \\n{params_1d}\")\n",
        "  # print(f\"Params reshaped: \\n{np.reshape(params_1d, params.shape)}\")\n",
        "\n",
        "  return np.reshape(params_1d, params.shape)\n"
      ],
      "metadata": {
        "id": "3-6XxQJ4iNml"
      },
      "execution_count": 86,
      "outputs": []
    },
    {
      "cell_type": "code",
      "source": [
        "def prediction_accuracy(actual, predicted):\n",
        "  E_vec = (actual-predicted) / actual\n",
        "\n",
        "  # Alternative accuracy formula\n",
        "  # accuracy = (1 - np.mean(abs(E_vec))) * 100\n",
        "\n",
        "  #This accuracy formula is presented in the work\n",
        "  accuracy = (1-np.mean(E_vec**2)**0.5) * 100\n",
        "  return accuracy"
      ],
      "metadata": {
        "id": "ATeH_-A6EOop"
      },
      "execution_count": 87,
      "outputs": []
    },
    {
      "cell_type": "code",
      "source": [
        "def after_epoch_validation(model, validation_data, maxmin):\n",
        "\n",
        "  random.shuffle(validation_data)\n",
        "  losses = []\n",
        "  all_accuracy = []\n",
        "\n",
        "  for input_sequence, label_sequence in validation_data:\n",
        "    predictions = postprocess_output(model.forward(input_sequence), maxmin[0], maxmin[1])\n",
        "\n",
        "    loss = L2_loss(predictions, label_sequence)\n",
        "    losses.append(loss)\n",
        "\n",
        "    accuracy = prediction_accuracy(label_sequence, predictions)\n",
        "    all_accuracy.append(accuracy)\n",
        "\n",
        "  avg_loss = np.mean(losses)\n",
        "  avg_accuracy = np.mean(all_accuracy)\n",
        "\n",
        "  print(f\"Validation loss: {avg_loss:.2f}, validation accuracy: {avg_accuracy:.2f}\")"
      ],
      "metadata": {
        "id": "_8tPyCbqC_iP"
      },
      "execution_count": 91,
      "outputs": []
    },
    {
      "cell_type": "code",
      "source": [
        "def training(model, training_data, maxmin, epochs_num):\n",
        "\n",
        "  for epoch in range(epochs_num):\n",
        "    random.shuffle(training_data)\n",
        "    losses = []\n",
        "    all_accuracy = []\n",
        "\n",
        "    for input_sequence, label_sequence in training_data:\n",
        "      predictions = model.forward(input_sequence)\n",
        "      predictions = postprocess_output(predictions, maxmin[0], maxmin[1])\n",
        "\n",
        "      loss = L2_loss(predictions, label_sequence)\n",
        "      losses.append(loss)\n",
        "\n",
        "      accuracy = prediction_accuracy(label_sequence, predictions)\n",
        "      all_accuracy.append(accuracy)\n",
        "\n",
        "      updated_params = gradient_descent(model.get_params(), input_sequence, label_sequence, maxmin)\n",
        "      model.set_params(updated_params)\n",
        "\n",
        "      if len(losses)%5 == 0:\n",
        "        print(f\"Average running loss: {np.mean(losses):.2f} Average running accuracy: {np.mean(all_accuracy):.2f}\")\n",
        "        print(f\"Current sentence predictions were: \\n{predictions} \\nAnd labels were: \\n{label_sequence}\")\n",
        "        print(\"=====================================\")\n",
        "\n",
        "    avg_loss = np.mean(losses)\n",
        "    avg_accuracy = np.mean(all_accuracy)\n",
        "    print(f\"Epoch {epoch+1} / {epochs_num}: Loss = {avg_loss:.2f}, Accuracy: {avg_accuracy:.2f}\")\n",
        "\n",
        "    after_epoch_validation(model, validation_data, maxmin)\n",
        "\n",
        "  return model\n",
        "\n"
      ],
      "metadata": {
        "id": "jRNZ01MROadV"
      },
      "execution_count": 92,
      "outputs": []
    },
    {
      "cell_type": "code",
      "source": [
        "model = QRNN()"
      ],
      "metadata": {
        "id": "jNCIEVqrsPLB"
      },
      "execution_count": 68,
      "outputs": []
    },
    {
      "cell_type": "code",
      "source": [
        "\n",
        "input_sequence, label_sequence = training_data[0]\n",
        "\n",
        "predictions = postprocess_output(model.forward(input_sequence), data_maxmin[0], data_maxmin[1])\n",
        "print(f\"Current sentence predictions were: \\n{predictions} \\nAnd labels were: \\n{label_sequence}\")"
      ],
      "metadata": {
        "colab": {
          "base_uri": "https://localhost:8080/"
        },
        "id": "oM9ma_aOrH6B",
        "outputId": "37afcf2c-b91a-49db-8a0c-9315e2b1a822"
      },
      "execution_count": 69,
      "outputs": [
        {
          "output_type": "stream",
          "name": "stdout",
          "text": [
            "Current sentence predictions were: \n",
            "[426.20951335 425.00215231 425.13280772 424.95863094 425.41198045\n",
            " 424.8890436  424.81078143] \n",
            "And labels were: \n",
            "[238.550003 238.399994 238.600006 238.080002 238.679993 238.770004\n",
            " 238.479996]\n"
          ]
        }
      ]
    },
    {
      "cell_type": "code",
      "source": [
        "params_before = model.get_params()\n",
        "print(params_before)"
      ],
      "metadata": {
        "colab": {
          "base_uri": "https://localhost:8080/"
        },
        "id": "JwzQOddbwld5",
        "outputId": "5206b093-1229-4554-baa2-d3d1a8b8521d"
      },
      "execution_count": 70,
      "outputs": [
        {
          "output_type": "stream",
          "name": "stdout",
          "text": [
            "[[1.48077761 3.03195999 2.2488564  2.06163844]\n",
            " [1.26120767 1.82864743 1.31426499 2.45111419]\n",
            " [0.779364   2.28974892 1.72659436 2.7956391 ]\n",
            " [0.96001305 0.93954221 2.17351632 1.34587277]\n",
            " [1.91345529 2.61735458 1.46574716 2.56896484]\n",
            " [0.55408162 1.6545492  0.65616318 1.41584457]]\n"
          ]
        }
      ]
    },
    {
      "cell_type": "code",
      "source": [
        "updated_params = gradient_descent(model.get_params(), input_sequence, label_sequence, data_maxmin, 0.001)\n",
        "model.set_params(updated_params)"
      ],
      "metadata": {
        "colab": {
          "base_uri": "https://localhost:8080/"
        },
        "id": "ZPoATQpitBHG",
        "outputId": "cb1bb0f9-8e2d-4ec8-f645-8053be84d1d6"
      },
      "execution_count": 71,
      "outputs": [
        {
          "output_type": "stream",
          "name": "stdout",
          "text": [
            "Params 1 dim: \n",
            "[1.48077761 3.03195999 2.2488564  2.06163844 1.26120767 1.82864743\n",
            " 1.31426499 2.45111419 0.779364   2.28974892 1.72659436 2.7956391\n",
            " 0.96001305 0.93954221 2.17351632 1.34587277 1.91345529 2.61735458\n",
            " 1.46574716 2.56896484 0.55408162 1.6545492  0.65616318 1.41584457]\n",
            "Gradients \n",
            "[ 2.90391187e+04  2.10795604e+04 -2.73455989e+04 -1.45519152e-08\n",
            "  3.63797881e-09  1.81898940e-08 -7.27595761e-09  3.63797881e-09\n",
            " -1.45519152e-08 -3.63797881e-09 -3.63797881e-09 -1.09139364e-08\n",
            " -1.45519152e-08  0.00000000e+00 -1.81898940e-08  7.27595761e-09\n",
            "  0.00000000e+00  1.81898940e-08  3.63797881e-09  0.00000000e+00\n",
            " -1.09139364e-08 -2.54658516e-08 -2.54658516e-08  1.09139364e-08]\n",
            "Gradients with lr: \n",
            "[ 8.71173561e+02  6.32386811e+02 -8.20367968e+02 -4.36557457e-10\n",
            "  1.09139364e-10  5.45696821e-10 -2.18278728e-10  1.09139364e-10\n",
            " -4.36557457e-10 -1.09139364e-10 -1.09139364e-10 -3.27418093e-10\n",
            " -4.36557457e-10  0.00000000e+00 -5.45696821e-10  2.18278728e-10\n",
            "  0.00000000e+00  5.45696821e-10  1.09139364e-10  0.00000000e+00\n",
            " -3.27418093e-10 -7.63975549e-10 -7.63975549e-10  3.27418093e-10]\n",
            "Params 1 dim after applying gradients: \n",
            "[ 8.72654338e+02  6.35418771e+02 -8.18119111e+02  2.06163844e+00\n",
            "  1.26120767e+00  1.82864743e+00  1.31426499e+00  2.45111419e+00\n",
            "  7.79363996e-01  2.28974892e+00  1.72659436e+00  2.79563910e+00\n",
            "  9.60013046e-01  9.39542209e-01  2.17351632e+00  1.34587277e+00\n",
            "  1.91345529e+00  2.61735458e+00  1.46574716e+00  2.56896484e+00\n",
            "  5.54081622e-01  1.65454920e+00  6.56163178e-01  1.41584458e+00]\n",
            "Params reshaped: \n",
            "[[ 8.72654338e+02  6.35418771e+02 -8.18119111e+02  2.06163844e+00]\n",
            " [ 1.26120767e+00  1.82864743e+00  1.31426499e+00  2.45111419e+00]\n",
            " [ 7.79363996e-01  2.28974892e+00  1.72659436e+00  2.79563910e+00]\n",
            " [ 9.60013046e-01  9.39542209e-01  2.17351632e+00  1.34587277e+00]\n",
            " [ 1.91345529e+00  2.61735458e+00  1.46574716e+00  2.56896484e+00]\n",
            " [ 5.54081622e-01  1.65454920e+00  6.56163178e-01  1.41584458e+00]]\n"
          ]
        }
      ]
    },
    {
      "cell_type": "code",
      "source": [
        "print(model.get_params())\n",
        "print(updated_params)"
      ],
      "metadata": {
        "colab": {
          "base_uri": "https://localhost:8080/"
        },
        "id": "2UJjAuUPwXMY",
        "outputId": "7e640895-d5d5-4b36-e368-0f7d3f7188c9"
      },
      "execution_count": 72,
      "outputs": [
        {
          "output_type": "stream",
          "name": "stdout",
          "text": [
            "[[ 8.72654338e+02  6.35418771e+02 -8.18119111e+02  2.06163844e+00]\n",
            " [ 1.26120767e+00  1.82864743e+00  1.31426499e+00  2.45111419e+00]\n",
            " [ 7.79363996e-01  2.28974892e+00  1.72659436e+00  2.79563910e+00]\n",
            " [ 9.60013046e-01  9.39542209e-01  2.17351632e+00  1.34587277e+00]\n",
            " [ 1.91345529e+00  2.61735458e+00  1.46574716e+00  2.56896484e+00]\n",
            " [ 5.54081622e-01  1.65454920e+00  6.56163178e-01  1.41584458e+00]]\n",
            "[[ 8.72654338e+02  6.35418771e+02 -8.18119111e+02  2.06163844e+00]\n",
            " [ 1.26120767e+00  1.82864743e+00  1.31426499e+00  2.45111419e+00]\n",
            " [ 7.79363996e-01  2.28974892e+00  1.72659436e+00  2.79563910e+00]\n",
            " [ 9.60013046e-01  9.39542209e-01  2.17351632e+00  1.34587277e+00]\n",
            " [ 1.91345529e+00  2.61735458e+00  1.46574716e+00  2.56896484e+00]\n",
            " [ 5.54081622e-01  1.65454920e+00  6.56163178e-01  1.41584458e+00]]\n"
          ]
        }
      ]
    },
    {
      "cell_type": "code",
      "source": [
        "input_sequence, label_sequence = training_data[0]\n",
        "\n",
        "predictions = postprocess_output(model.forward(input_sequence), data_maxmin[0], data_maxmin[1])\n",
        "print(f\"Current sentence predictions were: \\n{predictions} \\nAnd labels were: \\n{label_sequence}\")"
      ],
      "metadata": {
        "colab": {
          "base_uri": "https://localhost:8080/"
        },
        "id": "s-z732j_shtf",
        "outputId": "b79ede9e-62ce-47ac-edf3-3bc41d3ab80e"
      },
      "execution_count": 73,
      "outputs": [
        {
          "output_type": "stream",
          "name": "stdout",
          "text": [
            "Current sentence predictions were: \n",
            "[365.42857127 367.5727434  367.34451365 367.64856874 366.85382666\n",
            " 367.76960328 367.9054272 ] \n",
            "And labels were: \n",
            "[238.550003 238.399994 238.600006 238.080002 238.679993 238.770004\n",
            " 238.479996]\n"
          ]
        }
      ]
    },
    {
      "cell_type": "code",
      "source": [
        "trained_model = training(QRNN(), training_data, data_maxmin, 3)"
      ],
      "metadata": {
        "colab": {
          "base_uri": "https://localhost:8080/"
        },
        "id": "-FF3q2CnRzJl",
        "outputId": "d8f51cb6-0408-4b62-b795-5e749f73a9ae"
      },
      "execution_count": null,
      "outputs": [
        {
          "output_type": "stream",
          "name": "stdout",
          "text": [
            "Average running loss: 11804.60 Average running accuracy: 65.75\n",
            "Current sentence predictions were: \n",
            "[268.88982117 268.63954196 268.259936   267.34650769 268.97861312\n",
            " 267.64571121 267.59720096] \n",
            "And labels were: \n",
            "[244.240005 243.770004 242.639999 244.660004 243.009995 242.949997\n",
            " 242.839996]\n",
            "=====================================\n",
            "Average running loss: 9865.43 Average running accuracy: 68.57\n",
            "Current sentence predictions were: \n",
            "[417.41840582 417.049161   417.07272975 417.9290147  417.26127444\n",
            " 415.93340727 416.74273644] \n",
            "And labels were: \n",
            "[266.779999 266.75     265.660004 266.51001  268.200012 267.170013\n",
            " 267.029999]\n",
            "=====================================\n",
            "Average running loss: 9688.76 Average running accuracy: 68.07\n",
            "Current sentence predictions were: \n",
            "[299.05236286 299.59449483 299.96217886 300.55256154 300.71703552\n",
            " 300.92179794 300.7829842 ] \n",
            "And labels were: \n",
            "[270.470001 271.609985 273.420013 273.920013 274.540009 274.119995\n",
            " 276.119995]\n",
            "=====================================\n",
            "Average running loss: 12835.61 Average running accuracy: 62.75\n",
            "Current sentence predictions were: \n",
            "[425.74200444 425.61341615 425.33784653 425.35013329 425.40145247\n",
            " 425.4160246  424.93072883] \n",
            "And labels were: \n",
            "[240.610001 241.759995 241.710007 241.5      241.440002 243.360001\n",
            " 244.169998]\n",
            "=====================================\n",
            "Average running loss: 13673.76 Average running accuracy: 60.71\n",
            "Current sentence predictions were: \n",
            "[415.55863162 417.30238021 417.11811616 417.36352755 416.72086702\n",
            " 417.46105905 417.57040022] \n",
            "And labels were: \n",
            "[238.550003 238.399994 238.600006 238.080002 238.679993 238.770004\n",
            " 238.479996]\n",
            "=====================================\n",
            "Average running loss: 13155.86 Average running accuracy: 61.97\n",
            "Current sentence predictions were: \n",
            "[229.77788481 229.60469803 229.62939326 229.31434867 228.36452661\n",
            " 228.4245696  228.75707116] \n",
            "And labels were: \n",
            "[272.880005 272.779999 274.100006 278.869995 278.519989 276.720001\n",
            " 275.299988]\n",
            "=====================================\n",
            "Average running loss: 12036.79 Average running accuracy: 64.73\n",
            "Current sentence predictions were: \n",
            "[245.60578264 245.75593441 245.83914102 244.83873093 245.94353096\n",
            " 244.84872391 245.07474701] \n",
            "And labels were: \n",
            "[243.130005 243.289993 241.330002 243.490005 241.350006 241.800003\n",
            " 242.210007]\n",
            "=====================================\n",
            "Average running loss: 13410.87 Average running accuracy: 62.37\n",
            "Current sentence predictions were: \n",
            "[429.03203683 429.06018324 428.97565036 429.18633311 429.63184816\n",
            " 428.8730429  429.14087653] \n",
            "And labels were: \n",
            "[258.089996 258.329987 257.730011 256.440002 258.619995 257.859985\n",
            " 258.299988]\n",
            "=====================================\n",
            "Epoch 0 / 3: Loss = 13537.84, Accuracy: 61.65\n",
            "Validation loss: 13258.36, validation accuracy: 58.25\n",
            "Average running loss: 22201.34 Average running accuracy: 50.13\n",
            "Current sentence predictions were: \n",
            "[450.13302282 452.64968418 452.6199047  453.04356422 448.98653473\n",
            " 448.55124458 448.76973452] \n",
            "And labels were: \n",
            "[246.539993 246.509995 246.940002 243.089996 242.710007 242.899994\n",
            " 245.440002]\n",
            "=====================================\n",
            "Average running loss: 17997.07 Average running accuracy: 55.32\n",
            "Current sentence predictions were: \n",
            "[341.20936114 341.41579361 341.53653385 341.89786875 341.87874817\n",
            " 341.56301483 341.02290642] \n",
            "And labels were: \n",
            "[264.459991 264.140015 263.190002 263.23999  264.070007 265.51001\n",
            " 266.309998]\n",
            "=====================================\n",
            "Average running loss: 14578.22 Average running accuracy: 61.26\n",
            "Current sentence predictions were: \n",
            "[410.5268812  410.72064832 410.92332888 410.93541264 410.83821747\n",
            " 410.66052981 410.65708109] \n",
            "And labels were: \n",
            "[267.329987 270.190002 270.390015 268.890015 266.609985 266.570007\n",
            " 262.980011]\n",
            "=====================================\n",
            "Average running loss: 15194.75 Average running accuracy: 58.22\n",
            "Current sentence predictions were: \n",
            "[384.91483214 385.19867292 384.93253961 384.66146749 385.02115099\n",
            " 385.02705884 387.12055739] \n",
            "And labels were: \n",
            "[246.960007 247.410004 247.869995 247.259995 247.25     243.759995\n",
            " 244.119995]\n",
            "=====================================\n",
            "Average running loss: 16210.10 Average running accuracy: 56.49\n",
            "Current sentence predictions were: \n",
            "[332.80026113 340.11354415 354.87716954 348.0319624  349.92177936\n",
            " 363.64064865 358.19150549] \n",
            "And labels were: \n",
            "[275.450012 263.929993 269.130005 267.670013 257.630005 261.5\n",
            " 265.339996]\n",
            "=====================================\n",
            "Average running loss: 15912.98 Average running accuracy: 57.18\n",
            "Current sentence predictions were: \n",
            "[408.11125941 407.96942207 408.51893139 408.13636893 408.0709495\n",
            " 408.11628769 407.64822472] \n",
            "And labels were: \n",
            "[242.770004 240.550003 242.110001 242.369995 242.190002 244.009995\n",
            " 244.419998]\n",
            "=====================================\n",
            "Average running loss: 15177.91 Average running accuracy: 58.60\n",
            "Current sentence predictions were: \n",
            "[296.81091633 298.09604401 298.06243751 298.20799559 299.68541303\n",
            " 299.80668065 299.56400832] \n",
            "And labels were: \n",
            "[245.559998 245.529999 245.660004 246.990005 247.100006 246.880005\n",
            " 246.820007]\n",
            "=====================================\n",
            "Average running loss: 14489.42 Average running accuracy: 59.84\n",
            "Current sentence predictions were: \n",
            "[412.5753559  412.1540462  412.03027676 410.96874933 410.47674136\n",
            " 410.69800708 410.15752872] \n",
            "And labels were: \n",
            "[257.48999  257.589996 258.450012 258.850006 258.670013 259.109985\n",
            " 258.170013]\n",
            "=====================================\n",
            "Epoch 1 / 3: Loss = 15181.94, Accuracy: 58.43\n",
            "Validation loss: 26914.25, validation accuracy: 40.43\n",
            "Average running loss: 15031.81 Average running accuracy: 59.37\n",
            "Current sentence predictions were: \n",
            "[464.31226647 464.16594698 463.99093558 463.06760386 464.1153671\n",
            " 463.65005138 464.37373047] \n",
            "And labels were: \n",
            "[272.799988 272.149994 269.019989 272.609985 270.940002 273.600006\n",
            " 274.899994]\n",
            "=====================================\n",
            "Average running loss: 12894.17 Average running accuracy: 65.61\n",
            "Current sentence predictions were: \n",
            "[269.64340306 269.53049087 269.60572537 270.46475644 269.95604236\n",
            " 269.71890992 269.63398244] \n",
            "And labels were: \n",
            "[250.169998 250.089996 249.190002 249.720001 249.970001 250.059998\n",
            " 249.389999]\n",
            "=====================================\n",
            "Average running loss: 10389.75 Average running accuracy: 68.46\n",
            "Current sentence predictions were: \n",
            "[334.45134081 334.84318119 334.83293585 334.87731042 335.32763458\n",
            " 335.36459128 335.29063515] \n",
            "And labels were: \n",
            "[245.559998 245.529999 245.660004 246.990005 247.100006 246.880005\n",
            " 246.820007]\n",
            "=====================================\n",
            "Average running loss: 9670.14 Average running accuracy: 69.88\n",
            "Current sentence predictions were: \n",
            "[366.09965965 365.3920398  365.48190869 365.89349236 365.72616339\n",
            " 365.02009975 366.31900315] \n",
            "And labels were: \n",
            "[267.579987 267.51001  267.190002 267.320007 267.869995 266.859985\n",
            " 268.769989]\n",
            "=====================================\n",
            "Average running loss: 9617.64 Average running accuracy: 69.78\n",
            "Current sentence predictions were: \n",
            "[223.99995658 224.3436009  224.28339733 223.37235084 223.52877925\n",
            " 223.84250691 224.13536118] \n",
            "And labels were: \n",
            "[240.300003 240.080002 235.820007 236.770004 238.309998 239.520004\n",
            " 240.050003]\n",
            "=====================================\n",
            "Average running loss: 10758.22 Average running accuracy: 68.18\n",
            "Current sentence predictions were: \n",
            "[473.23745699 473.00329329 471.99201651 471.89404882 472.67923693\n",
            " 472.50291362 473.15870089] \n",
            "And labels were: \n",
            "[263.630005 266.309998 266.559998 264.51001  264.980011 263.200012\n",
            " 262.619995]\n",
            "=====================================\n",
            "Average running loss: 12042.66 Average running accuracy: 65.41\n",
            "Current sentence predictions were: \n",
            "[356.08990153 357.51120697 357.35981269 357.56151078 357.03440685\n",
            " 357.64181303 357.73193619] \n",
            "And labels were: \n",
            "[238.550003 238.399994 238.600006 238.080002 238.679993 238.770004\n",
            " 238.479996]\n",
            "=====================================\n",
            "Average running loss: 11708.00 Average running accuracy: 66.51\n",
            "Current sentence predictions were: \n",
            "[383.81222358 380.02395466 379.034894   379.034894   376.22960602\n",
            " 373.53025748 372.64955324] \n",
            "And labels were: \n",
            "[266.019989 266.920013 266.920013 269.5      272.019989 272.850006\n",
            " 272.980011]\n",
            "=====================================\n",
            "Epoch 2 / 3: Loss = 11590.23, Accuracy: 66.50\n"
          ]
        }
      ]
    },
    {
      "cell_type": "markdown",
      "source": [
        "Could try normalizing params to 0-pi range, since now they seem to be way over the 0-3.14 rad radius after gradients are applied"
      ],
      "metadata": {
        "id": "65AcFKTuVkg-"
      }
    },
    {
      "cell_type": "markdown",
      "source": [
        "VALIDATION (inference)"
      ],
      "metadata": {
        "id": "L_DFi76ByOoD"
      }
    },
    {
      "cell_type": "code",
      "source": [
        "def inference(model, seven_day_vec, maxmin):\n",
        "  print(f\"Seven day data: {seven_day_vec}\")\n",
        "\n",
        "  predictions = postprocess_output(model.forward(seven_day_vec), maxmin[0], maxmin[1])\n",
        "  \n",
        "  print(f\"Prediction for the eight day: {predictions[-1]}\")\n",
        "\n",
        "  return predictions[-1]"
      ],
      "metadata": {
        "id": "iqYjxR-OOdur"
      },
      "execution_count": null,
      "outputs": []
    },
    {
      "cell_type": "code",
      "source": [
        "params_1d = np.reshape(theta_gamma_params, -1)\n",
        "e_vec = np.zeros(len(params_1d))\n",
        "e_vec"
      ],
      "metadata": {
        "colab": {
          "base_uri": "https://localhost:8080/"
        },
        "id": "GHGWl9dFn0LM",
        "outputId": "d031a3d7-590b-49ea-8ff3-614aa761ad15"
      },
      "execution_count": null,
      "outputs": [
        {
          "output_type": "execute_result",
          "data": {
            "text/plain": [
              "array([0., 0., 0., 0., 0., 0., 0., 0., 0., 0., 0., 0., 0., 0., 0., 0., 0.,\n",
              "       0., 0., 0., 0., 0., 0., 0.])"
            ]
          },
          "metadata": {},
          "execution_count": 22
        }
      ]
    },
    {
      "cell_type": "code",
      "source": [
        "theta_gamma_params"
      ],
      "metadata": {
        "colab": {
          "base_uri": "https://localhost:8080/"
        },
        "id": "QHuYx7fCrLqI",
        "outputId": "92375757-30b4-41ab-aac3-a96ef7bcdf11"
      },
      "execution_count": null,
      "outputs": [
        {
          "output_type": "execute_result",
          "data": {
            "text/plain": [
              "array([[0.88220813, 1.05991204, 1.46680408, 2.15098491],\n",
              "       [2.90851839, 1.03002548, 1.72818114, 2.30659077],\n",
              "       [0.39394578, 2.09449693, 1.2806631 , 2.33098704],\n",
              "       [1.79428738, 1.14440894, 1.56955949, 2.6666867 ],\n",
              "       [1.69497222, 1.01184316, 1.28220669, 1.50586418],\n",
              "       [2.42397432, 1.25885186, 1.23701419, 1.7539721 ]])"
            ]
          },
          "metadata": {},
          "execution_count": 23
        }
      ]
    },
    {
      "cell_type": "code",
      "source": [
        "np.reshape(params_1d, (6, 4))"
      ],
      "metadata": {
        "colab": {
          "base_uri": "https://localhost:8080/"
        },
        "id": "0lhjemTtrHba",
        "outputId": "2419a01c-c70a-47f9-d1ff-7b93eb3ccde5"
      },
      "execution_count": null,
      "outputs": [
        {
          "output_type": "execute_result",
          "data": {
            "text/plain": [
              "array([[0.88220813, 1.05991204, 1.46680408, 2.15098491],\n",
              "       [2.90851839, 1.03002548, 1.72818114, 2.30659077],\n",
              "       [0.39394578, 2.09449693, 1.2806631 , 2.33098704],\n",
              "       [1.79428738, 1.14440894, 1.56955949, 2.6666867 ],\n",
              "       [1.69497222, 1.01184316, 1.28220669, 1.50586418],\n",
              "       [2.42397432, 1.25885186, 1.23701419, 1.7539721 ]])"
            ]
          },
          "metadata": {},
          "execution_count": 24
        }
      ]
    },
    {
      "cell_type": "code",
      "source": [
        "params = np.array([[1, 2, 3],[4, 5, 6]])\n",
        "\n",
        "gradient_descent(params, 0)"
      ],
      "metadata": {
        "colab": {
          "base_uri": "https://localhost:8080/"
        },
        "id": "AcrRwaMHqH5K",
        "outputId": "b3399fe1-632e-4ffb-9338-4db312249e21"
      },
      "execution_count": null,
      "outputs": [
        {
          "output_type": "stream",
          "name": "stdout",
          "text": [
            "[[1 2 3]\n",
            " [4 5 6]]\n",
            "[1.001 2.    3.    4.    5.    6.   ]\n",
            "[0.999 2.    3.    4.    5.    6.   ]\n",
            "[1 2 3 4 5 6]\n",
            "[1.    2.001 3.    4.    5.    6.   ]\n",
            "[1.    1.999 3.    4.    5.    6.   ]\n",
            "[1 2 3 4 5 6]\n",
            "[1.    2.    3.001 4.    5.    6.   ]\n",
            "[1.    2.    2.999 4.    5.    6.   ]\n",
            "[1 2 3 4 5 6]\n",
            "[1.    2.    3.    4.001 5.    6.   ]\n",
            "[1.    2.    3.    3.999 5.    6.   ]\n",
            "[1 2 3 4 5 6]\n",
            "[1.    2.    3.    4.    5.001 6.   ]\n",
            "[1.    2.    3.    4.    4.999 6.   ]\n",
            "[1 2 3 4 5 6]\n",
            "[1.    2.    3.    4.    5.    6.001]\n",
            "[1.    2.    3.    4.    5.    5.999]\n",
            "[1 2 3 4 5 6]\n"
          ]
        }
      ]
    },
    {
      "cell_type": "code",
      "source": [
        "QRNN_model = QRNN()\n",
        "qc, model = QRNN_model.forward(inputs)"
      ],
      "metadata": {
        "id": "256uH3VGy3df"
      },
      "execution_count": null,
      "outputs": []
    },
    {
      "cell_type": "code",
      "source": [
        "qc"
      ],
      "metadata": {
        "colab": {
          "base_uri": "https://localhost:8080/"
        },
        "id": "11bEdMUuhHY0",
        "outputId": "e642ee54-c33f-42eb-e41c-f0a5bd56408a"
      },
      "execution_count": null,
      "outputs": [
        {
          "output_type": "execute_result",
          "data": {
            "text/plain": [
              "array([-0.25984296, -0.19762551, -0.23026206, -0.02800841, -0.12198073,\n",
              "        0.2522841 ,  0.10216996])"
            ]
          },
          "metadata": {},
          "execution_count": 16
        }
      ]
    },
    {
      "cell_type": "code",
      "source": [
        "model.draw(\"mpl\")"
      ],
      "metadata": {
        "colab": {
          "base_uri": "https://localhost:8080/",
          "height": 899
        },
        "id": "fWS_ne-mjvzF",
        "outputId": "fa421627-6670-4db1-9352-8638137009a6"
      },
      "execution_count": null,
      "outputs": [
        {
          "output_type": "execute_result",
          "data": {
            "text/plain": [
              "<Figure size 2210.55x1120.39 with 1 Axes>"
            ],
            "image/png": "[encoded data removed]"
          },
          "metadata": {},
          "execution_count": 41
        }
      ]
    },
    {
      "cell_type": "code",
      "source": [
        "ans = QRNN_model.construct_ansatz()\n",
        "ans.draw(\"mpl\")"
      ],
      "metadata": {
        "colab": {
          "base_uri": "https://localhost:8080/",
          "height": 449
        },
        "id": "mayzSnSpT6C4",
        "outputId": "bcf3b6b4-fa47-42ed-e4d3-17ce64091102"
      },
      "execution_count": null,
      "outputs": [
        {
          "output_type": "execute_result",
          "data": {
            "text/plain": [
              "<Figure size 1876.11x535.111 with 1 Axes>"
            ],
            "image/png": "[encoded data removed]"
          },
          "metadata": {},
          "execution_count": 9
        }
      ]
    },
    {
      "cell_type": "code",
      "source": [
        "qc.draw('mpl')"
      ],
      "metadata": {
        "colab": {
          "base_uri": "https://localhost:8080/",
          "height": 449
        },
        "id": "Pp-dXfknnFzN",
        "outputId": "0b751114-3d35-4234-cf14-48a3759b64bb"
      },
      "execution_count": null,
      "outputs": [
        {
          "output_type": "execute_result",
          "data": {
            "text/plain": [
              "<Figure size 454.719x535.111 with 1 Axes>"
            ],
            "image/png": "[encoded data removed]"
          },
          "metadata": {},
          "execution_count": 37
        }
      ]
    },
    {
      "cell_type": "code",
      "source": [
        "import numpy as np\n",
        "\n",
        "# x = 128.54\n",
        "x = np.array([1, 3, 4, 5, -1, -7])\n",
        "# goal : range [0, 1]\n",
        "#NORMALIZATION FORMULA from https://stats.stackexchange.com/questions/178626/how-to-normalize-data-between-1-and-1\n",
        "x1 = ((x - min(x)) / ( max(x) - min(x)))*2-1\n",
        "print(x1)\n",
        "# math.acos(x)\n",
        "# print(math.acos(x))\n",
        "\n",
        "# print(math.acos(0.55))\n"
      ],
      "metadata": {
        "id": "tYWy8Cboy6Rw",
        "colab": {
          "base_uri": "https://localhost:8080/"
        },
        "outputId": "f079679a-8dce-4b95-f36d-fa48d4288d31"
      },
      "execution_count": null,
      "outputs": [
        {
          "output_type": "stream",
          "name": "stdout",
          "text": [
            "[ 0.33333333  0.66666667  0.83333333  1.          0.         -1.        ]\n"
          ]
        }
      ]
    },
    {
      "cell_type": "code",
      "source": [
        "rng = np.random.default_rng()\n",
        "weights = rng.uniform(-1, 1, size=(6, 3))"
      ],
      "metadata": {
        "id": "djQi9kZKrWjy"
      },
      "execution_count": null,
      "outputs": []
    },
    {
      "cell_type": "code",
      "source": [
        "weights[]"
      ],
      "metadata": {
        "colab": {
          "base_uri": "https://localhost:8080/"
        },
        "id": "5ABEqiSKa26T",
        "outputId": "d0904770-3f13-4311-fe68-94bcb3acd468"
      },
      "execution_count": null,
      "outputs": [
        {
          "output_type": "execute_result",
          "data": {
            "text/plain": [
              "array([[-0.68669286, -0.59068147, -0.94100421],\n",
              "       [-0.52644754,  0.58167242, -0.14022919],\n",
              "       [ 0.19528282,  0.08767172, -0.97406722],\n",
              "       [-0.29248123,  0.09339544,  0.51187105],\n",
              "       [-0.70119153,  0.19938807,  0.96372905],\n",
              "       [-0.93182738,  0.55379874,  0.73056861]])"
            ]
          },
          "metadata": {},
          "execution_count": 12
        }
      ]
    },
    {
      "cell_type": "code",
      "source": [
        "weights[0][0]"
      ],
      "metadata": {
        "colab": {
          "base_uri": "https://localhost:8080/"
        },
        "id": "q0gO5Rtabfle",
        "outputId": "305bc9c2-3499-4d1b-ae0b-fe0dc67dcbb6"
      },
      "execution_count": null,
      "outputs": [
        {
          "output_type": "execute_result",
          "data": {
            "text/plain": [
              "-0.6866928594082833"
            ]
          },
          "metadata": {},
          "execution_count": 19
        }
      ]
    },
    {
      "cell_type": "code",
      "source": [
        "gamma_params = np.arccos(rng.uniform(-1, 1, size=(6, 1)))"
      ],
      "metadata": {
        "id": "6qAYAnM_g4k8"
      },
      "execution_count": null,
      "outputs": []
    },
    {
      "cell_type": "code",
      "source": [
        "gamma_params"
      ],
      "metadata": {
        "colab": {
          "base_uri": "https://localhost:8080/"
        },
        "id": "jX1iIbMgiIWF",
        "outputId": "722e2361-c8da-43ee-be79-434584e038bc"
      },
      "execution_count": null,
      "outputs": [
        {
          "output_type": "execute_result",
          "data": {
            "text/plain": [
              "array([[2.01756771],\n",
              "       [2.00816587],\n",
              "       [2.63754127],\n",
              "       [1.96501209],\n",
              "       [2.97102456],\n",
              "       [2.59263829]])"
            ]
          },
          "metadata": {},
          "execution_count": 17
        }
      ]
    },
    {
      "cell_type": "code",
      "source": [
        "from qiskit.circuit import ParameterVector\n",
        "\n",
        "inputs2 = ParameterVector(\"input\", 2)\n",
        "weights2 = ParameterVector(\"weight\", 4)\n",
        "print(f\"input parameters: {[str(item) for item in inputs2.params]}\")\n",
        "print(f\"weight parameters: {[str(item) for item in weights2.params]}\")\n",
        "\n",
        "qc2 = QuantumCircuit(2)\n",
        "qc2.ry(inputs2[0], 0)\n",
        "# qc2.ry(inputs2[1], 1)\n",
        "# qc2.cx(0, 1)\n",
        "qc2.ry(weights2[0], 0)\n",
        "qc2.ry(weights2[1], 1)\n",
        "qc2.cx(0, 1)\n",
        "qc2.ry(weights2[2], 0)\n",
        "qc2.ry(weights2[3], 1)\n",
        "\n",
        "qc2.draw(output=\"mpl\")"
      ],
      "metadata": {
        "colab": {
          "base_uri": "https://localhost:8080/",
          "height": 226
        },
        "id": "yUzLOL8qiJvJ",
        "outputId": "84707b36-121c-4488-c7c0-7e0694be7151"
      },
      "execution_count": null,
      "outputs": [
        {
          "output_type": "stream",
          "name": "stdout",
          "text": [
            "input parameters: ['input[0]', 'input[1]']\n",
            "weight parameters: ['weight[0]', 'weight[1]', 'weight[2]', 'weight[3]']\n"
          ]
        },
        {
          "output_type": "execute_result",
          "data": {
            "text/plain": [
              "<Figure size 454.517x200.667 with 1 Axes>"
            ],
            "image/png": "[encoded data removed]"
          },
          "metadata": {},
          "execution_count": 47
        }
      ]
    },
    {
      "cell_type": "code",
      "source": [
        "for idx in list(range(6)):\n",
        "  print(idx, )"
      ],
      "metadata": {
        "id": "GxdpiRnyuzM9",
        "colab": {
          "base_uri": "https://localhost:8080/"
        },
        "outputId": "b0febc35-9fa6-43ea-e399-e3673c9be21f"
      },
      "execution_count": null,
      "outputs": [
        {
          "output_type": "stream",
          "name": "stdout",
          "text": [
            "0\n",
            "1\n",
            "2\n",
            "3\n",
            "4\n",
            "5\n"
          ]
        }
      ]
    },
    {
      "cell_type": "code",
      "source": [
        "range_list = list(range(1, 6))"
      ],
      "metadata": {
        "id": "ZmpgIL9Sztvl"
      },
      "execution_count": null,
      "outputs": []
    },
    {
      "cell_type": "code",
      "source": [
        "range_list.append(0)"
      ],
      "metadata": {
        "id": "1un1Dl4nzxrJ"
      },
      "execution_count": null,
      "outputs": []
    },
    {
      "cell_type": "code",
      "source": [
        "new_list = range_list.append(range_list.pop(0))"
      ],
      "metadata": {
        "id": "-MmuW_o68Poa"
      },
      "execution_count": null,
      "outputs": []
    },
    {
      "cell_type": "code",
      "source": [
        "range_list"
      ],
      "metadata": {
        "colab": {
          "base_uri": "https://localhost:8080/"
        },
        "id": "8oAX8L7vOA1a",
        "outputId": "1b3722d4-d5db-48e6-bf67-a0da0e9ba0a4"
      },
      "execution_count": null,
      "outputs": [
        {
          "output_type": "execute_result",
          "data": {
            "text/plain": [
              "[1, 2, 3, 4, 5, 0]"
            ]
          },
          "metadata": {},
          "execution_count": 27
        }
      ]
    },
    {
      "cell_type": "code",
      "source": [
        "new_list"
      ],
      "metadata": {
        "id": "l5nukpKcRR_9"
      },
      "execution_count": null,
      "outputs": []
    },
    {
      "cell_type": "code",
      "source": [
        "for idx in range_list:\n",
        "  print(f\"Regular id: {idx}, rolled idx: {range_list[idx]}\")"
      ],
      "metadata": {
        "colab": {
          "base_uri": "https://localhost:8080/"
        },
        "id": "em8dO_HJODhv",
        "outputId": "599e85f1-000b-4989-a906-aca7702a350d"
      },
      "execution_count": null,
      "outputs": [
        {
          "output_type": "stream",
          "name": "stdout",
          "text": [
            "Regular id: 0, rolled idx: 0\n",
            "Regular id: 1, rolled idx: 1\n",
            "Regular id: 2, rolled idx: 2\n",
            "Regular id: 3, rolled idx: 3\n",
            "Regular id: 4, rolled idx: 4\n",
            "Regular id: 5, rolled idx: 5\n"
          ]
        }
      ]
    },
    {
      "cell_type": "code",
      "source": [
        "list(range(3*2))[1:]"
      ],
      "metadata": {
        "colab": {
          "base_uri": "https://localhost:8080/"
        },
        "id": "gcbucLHw7woL",
        "outputId": "481832f9-4b42-4ee8-9c0d-4a9ec9682c47"
      },
      "execution_count": null,
      "outputs": [
        {
          "output_type": "execute_result",
          "data": {
            "text/plain": [
              "[1, 2, 3, 4, 5]"
            ]
          },
          "metadata": {},
          "execution_count": 3
        }
      ]
    },
    {
      "cell_type": "code",
      "source": [
        "circuit = QuantumCircuit(2, 2)\n",
        "\n",
        "# Add a H gate on qubit 0\n",
        "circuit.h(1)\n",
        "\n",
        "# Add a CX (CNOT) gate on control qubit 0 and target qubit 1\n",
        "circuit.ch(1, 0)\n",
        "\n",
        "circuit.draw()"
      ],
      "metadata": {
        "colab": {
          "base_uri": "https://localhost:8080/",
          "height": 125
        },
        "id": "ibklGa6EaAfT",
        "outputId": "1bea6b71-8156-4836-fb22-1b73a878213e"
      },
      "execution_count": null,
      "outputs": [
        {
          "output_type": "execute_result",
          "data": {
            "text/plain": [
              "          ┌───┐\n",
              "q_0: ─────┤ H ├\n",
              "     ┌───┐└─┬─┘\n",
              "q_1: ┤ H ├──■──\n",
              "     └───┘     \n",
              "c: 2/══════════\n",
              "               "
            ],
            "text/html": [
              "<pre style=\"word-wrap: normal;white-space: pre;background: #fff0;line-height: 1.1;font-family: &quot;Courier New&quot;,Courier,monospace\">          ┌───┐\n",
              "q_0: ─────┤ H ├\n",
              "     ┌───┐└─┬─┘\n",
              "q_1: ┤ H ├──■──\n",
              "     └───┘     \n",
              "c: 2/══════════\n",
              "               </pre>"
            ]
          },
          "metadata": {},
          "execution_count": 10
        }
      ]
    },
    {
      "cell_type": "code",
      "source": [
        "y_t = QRNN_model.partial_trace_measure(circuit)"
      ],
      "metadata": {
        "id": "eFJK-uUeeaGZ"
      },
      "execution_count": null,
      "outputs": []
    },
    {
      "cell_type": "code",
      "source": [
        "# importing \"cmath\" for complex number operations\n",
        "import cmath\n",
        " \n",
        "# Initializing real numbers\n",
        "x = 5\n",
        "y = 3\n",
        " \n",
        "# converting x and y into complex number\n",
        "z = complex(x,y);"
      ],
      "metadata": {
        "id": "H5xr1n5Xek9T"
      },
      "execution_count": null,
      "outputs": []
    },
    {
      "cell_type": "code",
      "source": [
        "z"
      ],
      "metadata": {
        "colab": {
          "base_uri": "https://localhost:8080/"
        },
        "id": "XqL91LT91OHv",
        "outputId": "b295f945-f7bc-4424-8e7f-ac1fa01b4c2a"
      },
      "execution_count": null,
      "outputs": [
        {
          "output_type": "execute_result",
          "data": {
            "text/plain": [
              "(5+3j)"
            ]
          },
          "metadata": {},
          "execution_count": 2
        }
      ]
    },
    {
      "cell_type": "code",
      "source": [
        "abs(z)"
      ],
      "metadata": {
        "colab": {
          "base_uri": "https://localhost:8080/"
        },
        "id": "QMDXp6Rm1VvQ",
        "outputId": "26373ccc-86e1-4957-8ab6-fbf8442a1456"
      },
      "execution_count": null,
      "outputs": [
        {
          "output_type": "execute_result",
          "data": {
            "text/plain": [
              "5.830951894845301"
            ]
          },
          "metadata": {},
          "execution_count": 3
        }
      ]
    },
    {
      "cell_type": "code",
      "source": [],
      "metadata": {
        "id": "7QZti8kQ1Y9n"
      },
      "execution_count": null,
      "outputs": []
    }
  ]
}